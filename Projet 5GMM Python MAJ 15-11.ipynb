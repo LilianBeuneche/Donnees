{
 "cells": [
  {
   "cell_type": "markdown",
   "metadata": {},
   "source": [
    "# Projet 5GMM"
   ]
  },
  {
   "cell_type": "markdown",
   "metadata": {},
   "source": [
    "Travailler sur les données \"train\"\n",
    "\n",
    "1- Isoler la variable Y (analyse descriptive dessus)\n",
    "\n",
    "2- Travailler sur les mots -> apparitions, corrélations\n",
    "\n",
    "3- Sur les variables quantitatives (histogrammes, corrélation entre les variables)\n",
    "\n",
    "4- ACP et étude de l'ébouli des valeurs propres : essayer de faire des groupes sur les Y pour représenter dans l'ACP\n",
    "\t-> Prédire le Y sur le plan factoriel de l'ACP\n"
   ]
  },
  {
   "cell_type": "markdown",
   "metadata": {},
   "source": [
    "## Les donnéées\n",
    "\n",
    "1:50: Average, standard deviation, min, max and median of the attributes 51...60 for the source of the current blog post\n",
    "\n",
    "51: Total number of comments before basetime \n",
    "\n",
    "52: Number of comments in the last 24 hours before the basetime \n",
    "\n",
    "53: Let T1 denote the datetime 48 hours before basetime, let T2 denote the datetime 24 hours before basetime. This attribute is the number of comments in the time period between T1 and T2 \n",
    "\n",
    "54: Number of comments in the first 24 hours after the publication of the blog post, but before basetime \n",
    "\n",
    "55: The difference of Attribute 52 and Attribute 53 \n",
    "\n",
    "56...60: The same features as the attributes 51...55, but features 56...60 refer to the number of links (trackbacks), while features 51...55 refer to the number of comments. \n",
    "\n",
    "61: The length of time between the publication of the blog post and basetime \n",
    "\n",
    "62: The length of the blog post \n",
    "\n",
    "63...262: The 200 bag of words features for 200 frequent words of the text of the blog post \n",
    "\n",
    "263...269: binary indicator features (0 or 1) for the weekday (Monday...Sunday) of the basetime \n",
    "\n",
    "270...276: binary indicator features (0 or 1) for the weekday (Monday...Sunday) of the date of publication of the blog post \n",
    "\n",
    "277: Number of parent pages: we consider a blog post P as a parent of blog post B, if B is a reply (trackback) to blog post P. \n",
    "\n",
    "278...280: Minimum, maximum, average number of comments that the parents received \n",
    "\n",
    "O281: The target: the number of comments in the next 24 hours (relative to basetime)"
   ]
  },
  {
   "cell_type": "markdown",
   "metadata": {},
   "source": [
    "TO DO\n",
    "\n",
    "\n",
    "- Ramdom Forest\n",
    "- KNN si on a le temps\n",
    "\n",
    "- Logistique : afficher les variables sélectionnées (variances, covar...), analyser le Lasso dessus, changer l'échelle du paramètre pour améliorer la qualité\n",
    "- AFD : afficher les bonnes et mauvaises prédictions"
   ]
  },
  {
   "cell_type": "code",
   "execution_count": 1,
   "metadata": {
    "collapsed": false
   },
   "outputs": [
    {
     "name": "stderr",
     "output_type": "stream",
     "text": [
      "C:\\Users\\Lilian Beuneche\\Anaconda3\\lib\\site-packages\\sklearn\\utils\\fixes.py:313: FutureWarning: numpy not_equal will not check object identity in the future. The comparison did not return the same result as suggested by the identity (`is`)) and will change.\n",
      "  _nan_object_mask = _nan_object_array != _nan_object_array\n"
     ]
    }
   ],
   "source": [
    "import numpy as np\n",
    "import scipy as scp\n",
    "import matplotlib.pyplot as plt\n",
    "import matplotlib.cm as cm\n",
    "import csv\n",
    "from scipy import stats\n",
    "from sklearn.decomposition import PCA\n",
    "from sklearn.preprocessing import scale\n",
    "import pandas as pd\n",
    "import seaborn as sns\n",
    "import random\n",
    "from sklearn import linear_model"
   ]
  },
  {
   "cell_type": "code",
   "execution_count": 2,
   "metadata": {
    "collapsed": true
   },
   "outputs": [],
   "source": [
    "#Fonction pour lire les données dans le CSV et les transformer en un tableau de nombres\n",
    "def lire_csv(Nom):\n",
    "    fichier_lire=open(Nom)\n",
    "\n",
    "    fichier=csv.reader(fichier_lire, delimiter=\",\")\n",
    "    fichier=list(fichier)\n",
    "    tab2=np.array(fichier)\n",
    "    #tab2=np.delete(tab2, (0),axis=0)\n",
    "    \n",
    "    for i in range(0,np.shape(tab2)[0]):\n",
    "        for j in range(2,10):\n",
    "            tab2[i][j]=np.copy(float(tab2[i][j].replace(\",\",\".\")))\n",
    "       \n",
    "    return tab2;"
   ]
  },
  {
   "cell_type": "code",
   "execution_count": 3,
   "metadata": {
    "collapsed": true
   },
   "outputs": [],
   "source": [
    "#Data est le tableau de toutes les données \"train\"\n",
    "Data=lire_csv(\"blogData_train.csv\")\n",
    "Data=Data.astype(np.float)"
   ]
  },
  {
   "cell_type": "code",
   "execution_count": 4,
   "metadata": {
    "collapsed": false
   },
   "outputs": [
    {
     "name": "stdout",
     "output_type": "stream",
     "text": [
      "[ 1.  0.  0. ...,  0.  0.  0.]\n",
      "[[ 0.  0.  0. ...,  0.  0.  0.]\n",
      " [ 0.  0.  0. ...,  0.  0.  0.]\n",
      " [ 0.  0.  0. ...,  0.  0.  0.]\n",
      " ..., \n",
      " [ 0.  0.  0. ...,  0.  0.  0.]\n",
      " [ 0.  0.  0. ...,  0.  0.  0.]\n",
      " [ 0.  0.  0. ...,  0.  0.  0.]]\n"
     ]
    }
   ],
   "source": [
    "#Y est la variable à prédire, ici c'est la 281ème colonne\n",
    "Y=Data[:,280]\n",
    "print(Y)\n",
    "\n",
    "#Mots est la matrice contenant l'apparition ou non apparition des mots clés, ici c'est les colonnes 62 à 262\n",
    "Mots=Data[:, 62:261]\n",
    "print(Mots)"
   ]
  },
  {
   "cell_type": "code",
   "execution_count": 5,
   "metadata": {
    "collapsed": false
   },
   "outputs": [
    {
     "data": {
      "text/plain": [
       "DescribeResult(nobs=52397, minmax=(0.0, 1424.0), mean=6.7647193541614978, variance=1421.7850114550367, skewness=12.691311246278929, kurtosis=232.29540940625407)"
      ]
     },
     "execution_count": 5,
     "metadata": {},
     "output_type": "execute_result"
    }
   ],
   "source": [
    "stats.describe(Y)"
   ]
  },
  {
   "cell_type": "markdown",
   "metadata": {},
   "source": [
    "### Description de la variable à prédire Y"
   ]
  },
  {
   "cell_type": "code",
   "execution_count": 6,
   "metadata": {
    "collapsed": false
   },
   "outputs": [
    {
     "data": {
      "image/png": "[encoded data removed]",
      "text/plain": [
       "<matplotlib.figure.Figure at 0x236f3ac9208>"
      ]
     },
     "metadata": {},
     "output_type": "display_data"
    }
   ],
   "source": [
    "plt.hist(Y)\n",
    "plt.title(\"Histogramme de la variable Y\")\n",
    "plt.show()"
   ]
  },
  {
   "cell_type": "code",
   "execution_count": 7,
   "metadata": {
    "collapsed": false
   },
   "outputs": [
    {
     "name": "stdout",
     "output_type": "stream",
     "text": [
      "Nombre différents de 0 dans le vecteur Y :  18838\n",
      "Proportion de 0 dans le vecteur Y :  0.6404755997480771\n"
     ]
    }
   ],
   "source": [
    "print(\"Nombre différents de 0 dans le vecteur Y : \", len(Y[Y!=0]))\n",
    "print(\"Proportion de 0 dans le vecteur Y : \", 1-(len(Y[Y!=0])/len(Y)))"
   ]
  },
  {
   "cell_type": "code",
   "execution_count": 8,
   "metadata": {
    "collapsed": false
   },
   "outputs": [
    {
     "data": {
      "image/png": "[encoded data removed]",
      "text/plain": [
       "<matplotlib.figure.Figure at 0x236ae21ebe0>"
      ]
     },
     "metadata": {},
     "output_type": "display_data"
    }
   ],
   "source": [
    "plt.hist(Y[Y!=0])\n",
    "plt.title(\"Histogramme de la variable Y sans les 0\")\n",
    "plt.show()"
   ]
  },
  {
   "cell_type": "code",
   "execution_count": 9,
   "metadata": {
    "collapsed": false
   },
   "outputs": [
    {
     "data": {
      "image/png": "[encoded data removed]",
      "text/plain": [
       "<matplotlib.figure.Figure at 0x236ae16c128>"
      ]
     },
     "metadata": {},
     "output_type": "display_data"
    }
   ],
   "source": [
    "Y_sans0=Y[Y!=0]\n",
    "plt.hist(Y_sans0[Y_sans0<100])\n",
    "plt.title(\"Histogramme de la variable Y sans les 0 et inférieur à 100\")\n",
    "plt.show()"
   ]
  },
  {
   "cell_type": "markdown",
   "metadata": {},
   "source": [
    "On remarque que 64% des nombres de commentaires valent 0 et plus de 75% valent 0 ou 1.\n",
    "Cependant, il y a une grande dispersion des autres valeurs.\n",
    "\n",
    "Dans un second temps, nous allons essayer de travailler avec une variable Y qui soit quantitative (à faire)."
   ]
  },
  {
   "cell_type": "code",
   "execution_count": 10,
   "metadata": {
    "collapsed": false
   },
   "outputs": [
    {
     "name": "stdout",
     "output_type": "stream",
     "text": [
      "6.0\n"
     ]
    }
   ],
   "source": [
    "Quantile87=np.percentile(Y, 87.5)\n",
    "print(Quantile87)"
   ]
  },
  {
   "cell_type": "code",
   "execution_count": 11,
   "metadata": {
    "collapsed": true
   },
   "outputs": [],
   "source": [
    "#Discretisation de la variale Y\n",
    "#Equal0\n",
    "#Equal1\n",
    "#InfQuant\n",
    "#SupQuant\n",
    "\n",
    "Y_Quali=[]\n",
    "\n",
    "for i in range(0, np.shape(Y)[0]):\n",
    "    if Y[i]==0:\n",
    "        Y_Quali.append(\"Equal0\")\n",
    "    elif Y[i]==1:\n",
    "        Y_Quali.append(\"Equal1\")\n",
    "    elif Y[i]>1 and Y[i]<Quantile87:\n",
    "        Y_Quali.append(\"InfQuant\")\n",
    "    elif Y[i]>=Quantile87:\n",
    "        Y_Quali.append(\"SupQuant\")"
   ]
  },
  {
   "cell_type": "markdown",
   "metadata": {},
   "source": [
    "L'autre idée est de transformer nos données avec un logarithme en faisant ln(1+Y)\n",
    "On remarque que les données sont mieux réparties et donc plus utilisables."
   ]
  },
  {
   "cell_type": "code",
   "execution_count": 12,
   "metadata": {
    "collapsed": false
   },
   "outputs": [
    {
     "data": {
      "image/png": "[encoded data removed]",
      "text/plain": [
       "<matplotlib.figure.Figure at 0x236ae0afda0>"
      ]
     },
     "metadata": {},
     "output_type": "display_data"
    }
   ],
   "source": [
    "Yln=np.log(1+Y)\n",
    "plt.hist(Yln)\n",
    "plt.show()"
   ]
  },
  {
   "cell_type": "markdown",
   "metadata": {
    "collapsed": true
   },
   "source": [
    "## Les mots présents"
   ]
  },
  {
   "cell_type": "markdown",
   "metadata": {},
   "source": [
    "Travail descriptif pour les variables correspondantes aux apparitions des différents mots."
   ]
  },
  {
   "cell_type": "code",
   "execution_count": 14,
   "metadata": {
    "collapsed": true
   },
   "outputs": [],
   "source": [
    "Mots=Data[:, 62:261]"
   ]
  },
  {
   "cell_type": "code",
   "execution_count": 15,
   "metadata": {
    "collapsed": false
   },
   "outputs": [
    {
     "data": {
      "image/png": "[encoded data removed]",
      "text/plain": [
       "<Figure size 432x288 with 1 Axes>"
      ]
     },
     "metadata": {},
     "output_type": "display_data"
    },
    {
     "data": {
      "image/png": "[encoded data removed]",
      "text/plain": [
       "<Figure size 432x288 with 1 Axes>"
      ]
     },
     "metadata": {},
     "output_type": "display_data"
    }
   ],
   "source": [
    "Appar_Mots=np.zeros((200))\n",
    "for i in range(0, 199):\n",
    "    Appar_Mots[i]=np.sum(Mots[:,i])  \n",
    "\n",
    "plt.scatter(np.arange(0,200),Appar_Mots)\n",
    "plt.title(\"Nombre d'apparitions total de chaque mot\")\n",
    "plt.xlabel(\"Numéro du mot\")\n",
    "plt.ylabel(\"Nombre d'apparitions\")\n",
    "plt.show()\n",
    "plt.hist(Appar_Mots)\n",
    "plt.show()"
   ]
  },
  {
   "cell_type": "code",
   "execution_count": 16,
   "metadata": {
    "collapsed": false
   },
   "outputs": [
    {
     "data": {
      "text/plain": [
       "DescribeResult(nobs=200, minmax=(0.0, 34139.0), mean=2551.08, variance=31393769.008643214, skewness=3.4662552767445773, kurtosis=13.507010613325772)"
      ]
     },
     "execution_count": 16,
     "metadata": {},
     "output_type": "execute_result"
    }
   ],
   "source": [
    "stats.describe(Appar_Mots)"
   ]
  },
  {
   "cell_type": "code",
   "execution_count": 17,
   "metadata": {
    "collapsed": false
   },
   "outputs": [
    {
     "data": {
      "text/plain": [
       "133"
      ]
     },
     "execution_count": 17,
     "metadata": {},
     "output_type": "execute_result"
    }
   ],
   "source": [
    "len(Appar_Mots[Appar_Mots<1000])"
   ]
  },
  {
   "cell_type": "markdown",
   "metadata": {},
   "source": [
    "La majorité des mots apparaissent pour peu d'individus, il va donc falloir faire un tri.\n",
    "\n",
    "Face à cela, certains mots apparaissent dans presque tous les articles (individus).\n",
    "\n",
    "Corrélations entre les mots :"
   ]
  },
  {
   "cell_type": "code",
   "execution_count": 18,
   "metadata": {
    "collapsed": false
   },
   "outputs": [
    {
     "data": {
      "image/png": "[encoded data removed]",
      "text/plain": [
       "<Figure size 288x288 with 2 Axes>"
      ]
     },
     "metadata": {},
     "output_type": "display_data"
    }
   ],
   "source": [
    "Mots_Panda=pd.DataFrame(Mots)\n",
    "Mots_Panda_Corr=Mots_Panda.corr()\n",
    "plt.matshow(Mots_Panda_Corr[Mots_Panda_Corr>0.7])\n",
    "#plt.xticks(range(len(Mots_Panda.columns)), Mots_Panda.columns)\n",
    "#plt.yticks(range(len(Mots_Panda.columns)), Mots_Panda.columns)\n",
    "plt.colorbar()\n",
    "plt.show()"
   ]
  },
  {
   "cell_type": "code",
   "execution_count": 19,
   "metadata": {
    "collapsed": false
   },
   "outputs": [
    {
     "name": "stdout",
     "output_type": "stream",
     "text": [
      "Les mots corrélés sont : 2 et 27 avec une corrélation de  0.755907303629829\n",
      "Les mots corrélés sont : 2 et 46 avec une corrélation de  0.755907303629829\n",
      "Les mots corrélés sont : 2 et 61 avec une corrélation de  0.7559073036298292\n",
      "Les mots corrélés sont : 2 et 66 avec une corrélation de  0.755907303629829\n",
      "Les mots corrélés sont : 2 et 92 avec une corrélation de  0.7559073036298292\n",
      "Les mots corrélés sont : 2 et 160 avec une corrélation de  0.7559073036298292\n",
      "Les mots corrélés sont : 2 et 181 avec une corrélation de  0.7559073036298292\n",
      "Les mots corrélés sont : 10 et 27 avec une corrélation de  0.755907303629829\n",
      "Les mots corrélés sont : 10 et 46 avec une corrélation de  0.755907303629829\n",
      "Les mots corrélés sont : 10 et 61 avec une corrélation de  0.7559073036298292\n",
      "Les mots corrélés sont : 10 et 66 avec une corrélation de  0.755907303629829\n",
      "Les mots corrélés sont : 10 et 92 avec une corrélation de  0.7559073036298292\n",
      "Les mots corrélés sont : 10 et 160 avec une corrélation de  0.7559073036298292\n",
      "Les mots corrélés sont : 10 et 181 avec une corrélation de  0.7559073036298292\n",
      "Les mots corrélés sont : 13 et 27 avec une corrélation de  0.755907303629829\n",
      "Les mots corrélés sont : 13 et 46 avec une corrélation de  0.755907303629829\n",
      "Les mots corrélés sont : 13 et 61 avec une corrélation de  0.7559073036298292\n",
      "Les mots corrélés sont : 13 et 66 avec une corrélation de  0.755907303629829\n",
      "Les mots corrélés sont : 13 et 92 avec une corrélation de  0.7559073036298292\n",
      "Les mots corrélés sont : 13 et 160 avec une corrélation de  0.7559073036298292\n",
      "Les mots corrélés sont : 13 et 181 avec une corrélation de  0.7559073036298292\n",
      "Les mots corrélés sont : 17 et 27 avec une corrélation de  0.755907303629829\n",
      "Les mots corrélés sont : 17 et 46 avec une corrélation de  0.755907303629829\n",
      "Les mots corrélés sont : 17 et 61 avec une corrélation de  0.7559073036298292\n",
      "Les mots corrélés sont : 17 et 66 avec une corrélation de  0.755907303629829\n",
      "Les mots corrélés sont : 17 et 92 avec une corrélation de  0.7559073036298292\n",
      "Les mots corrélés sont : 17 et 160 avec une corrélation de  0.7559073036298292\n",
      "Les mots corrélés sont : 17 et 181 avec une corrélation de  0.7559073036298292\n",
      "Les mots corrélés sont : 18 et 27 avec une corrélation de  0.755907303629829\n",
      "Les mots corrélés sont : 18 et 46 avec une corrélation de  0.755907303629829\n",
      "Les mots corrélés sont : 18 et 61 avec une corrélation de  0.7559073036298292\n",
      "Les mots corrélés sont : 18 et 66 avec une corrélation de  0.755907303629829\n",
      "Les mots corrélés sont : 18 et 92 avec une corrélation de  0.7559073036298292\n",
      "Les mots corrélés sont : 18 et 160 avec une corrélation de  0.7559073036298292\n",
      "Les mots corrélés sont : 18 et 181 avec une corrélation de  0.7559073036298292\n",
      "Les mots corrélés sont : 27 et 2 avec une corrélation de  0.755907303629829\n",
      "Les mots corrélés sont : 27 et 10 avec une corrélation de  0.755907303629829\n",
      "Les mots corrélés sont : 27 et 13 avec une corrélation de  0.755907303629829\n",
      "Les mots corrélés sont : 27 et 17 avec une corrélation de  0.755907303629829\n",
      "Les mots corrélés sont : 27 et 18 avec une corrélation de  0.755907303629829\n",
      "Les mots corrélés sont : 27 et 31 avec une corrélation de  0.755907303629829\n",
      "Les mots corrélés sont : 27 et 34 avec une corrélation de  0.755907303629829\n",
      "Les mots corrélés sont : 27 et 67 avec une corrélation de  0.755907303629829\n",
      "Les mots corrélés sont : 27 et 69 avec une corrélation de  0.755907303629829\n",
      "Les mots corrélés sont : 27 et 86 avec une corrélation de  0.755907303629829\n",
      "Les mots corrélés sont : 27 et 93 avec une corrélation de  0.755907303629829\n",
      "Les mots corrélés sont : 27 et 98 avec une corrélation de  0.755907303629829\n",
      "Les mots corrélés sont : 27 et 103 avec une corrélation de  0.755907303629829\n",
      "Les mots corrélés sont : 27 et 106 avec une corrélation de  0.755907303629829\n",
      "Les mots corrélés sont : 27 et 109 avec une corrélation de  0.755907303629829\n",
      "Les mots corrélés sont : 27 et 116 avec une corrélation de  0.755907303629829\n",
      "Les mots corrélés sont : 27 et 127 avec une corrélation de  0.755907303629829\n",
      "Les mots corrélés sont : 27 et 135 avec une corrélation de  0.755907303629829\n",
      "Les mots corrélés sont : 27 et 137 avec une corrélation de  0.755907303629829\n",
      "Les mots corrélés sont : 27 et 149 avec une corrélation de  0.755907303629829\n",
      "Les mots corrélés sont : 27 et 173 avec une corrélation de  0.755907303629829\n",
      "Les mots corrélés sont : 27 et 180 avec une corrélation de  0.755907303629829\n",
      "Les mots corrélés sont : 27 et 187 avec une corrélation de  0.755907303629829\n",
      "Les mots corrélés sont : 31 et 27 avec une corrélation de  0.755907303629829\n",
      "Les mots corrélés sont : 31 et 46 avec une corrélation de  0.755907303629829\n",
      "Les mots corrélés sont : 31 et 61 avec une corrélation de  0.7559073036298292\n",
      "Les mots corrélés sont : 31 et 66 avec une corrélation de  0.755907303629829\n",
      "Les mots corrélés sont : 31 et 92 avec une corrélation de  0.7559073036298292\n",
      "Les mots corrélés sont : 31 et 160 avec une corrélation de  0.7559073036298292\n",
      "Les mots corrélés sont : 31 et 181 avec une corrélation de  0.7559073036298292\n",
      "Les mots corrélés sont : 34 et 27 avec une corrélation de  0.755907303629829\n",
      "Les mots corrélés sont : 34 et 46 avec une corrélation de  0.755907303629829\n",
      "Les mots corrélés sont : 34 et 61 avec une corrélation de  0.7559073036298292\n",
      "Les mots corrélés sont : 34 et 66 avec une corrélation de  0.755907303629829\n",
      "Les mots corrélés sont : 34 et 92 avec une corrélation de  0.7559073036298292\n",
      "Les mots corrélés sont : 34 et 160 avec une corrélation de  0.7559073036298292\n",
      "Les mots corrélés sont : 34 et 181 avec une corrélation de  0.7559073036298292\n",
      "Les mots corrélés sont : 38 et 80 avec une corrélation de  0.745377008734806\n",
      "Les mots corrélés sont : 38 et 183 avec une corrélation de  0.7333824435994323\n",
      "Les mots corrélés sont : 46 et 2 avec une corrélation de  0.755907303629829\n",
      "Les mots corrélés sont : 46 et 10 avec une corrélation de  0.755907303629829\n",
      "Les mots corrélés sont : 46 et 13 avec une corrélation de  0.755907303629829\n",
      "Les mots corrélés sont : 46 et 17 avec une corrélation de  0.755907303629829\n",
      "Les mots corrélés sont : 46 et 18 avec une corrélation de  0.755907303629829\n",
      "Les mots corrélés sont : 46 et 31 avec une corrélation de  0.755907303629829\n",
      "Les mots corrélés sont : 46 et 34 avec une corrélation de  0.755907303629829\n",
      "Les mots corrélés sont : 46 et 67 avec une corrélation de  0.755907303629829\n",
      "Les mots corrélés sont : 46 et 69 avec une corrélation de  0.755907303629829\n",
      "Les mots corrélés sont : 46 et 86 avec une corrélation de  0.755907303629829\n",
      "Les mots corrélés sont : 46 et 93 avec une corrélation de  0.755907303629829\n",
      "Les mots corrélés sont : 46 et 98 avec une corrélation de  0.755907303629829\n",
      "Les mots corrélés sont : 46 et 103 avec une corrélation de  0.755907303629829\n",
      "Les mots corrélés sont : 46 et 106 avec une corrélation de  0.755907303629829\n",
      "Les mots corrélés sont : 46 et 109 avec une corrélation de  0.755907303629829\n",
      "Les mots corrélés sont : 46 et 116 avec une corrélation de  0.755907303629829\n",
      "Les mots corrélés sont : 46 et 127 avec une corrélation de  0.755907303629829\n",
      "Les mots corrélés sont : 46 et 135 avec une corrélation de  0.755907303629829\n",
      "Les mots corrélés sont : 46 et 137 avec une corrélation de  0.755907303629829\n",
      "Les mots corrélés sont : 46 et 149 avec une corrélation de  0.755907303629829\n",
      "Les mots corrélés sont : 46 et 173 avec une corrélation de  0.755907303629829\n",
      "Les mots corrélés sont : 46 et 180 avec une corrélation de  0.755907303629829\n",
      "Les mots corrélés sont : 46 et 187 avec une corrélation de  0.755907303629829\n",
      "Les mots corrélés sont : 61 et 2 avec une corrélation de  0.7559073036298292\n",
      "Les mots corrélés sont : 61 et 10 avec une corrélation de  0.7559073036298292\n",
      "Les mots corrélés sont : 61 et 13 avec une corrélation de  0.7559073036298292\n",
      "Les mots corrélés sont : 61 et 17 avec une corrélation de  0.7559073036298292\n",
      "Les mots corrélés sont : 61 et 18 avec une corrélation de  0.7559073036298292\n",
      "Les mots corrélés sont : 61 et 31 avec une corrélation de  0.7559073036298292\n",
      "Les mots corrélés sont : 61 et 34 avec une corrélation de  0.7559073036298292\n",
      "Les mots corrélés sont : 61 et 67 avec une corrélation de  0.7559073036298292\n",
      "Les mots corrélés sont : 61 et 69 avec une corrélation de  0.7559073036298292\n",
      "Les mots corrélés sont : 61 et 86 avec une corrélation de  0.7559073036298292\n",
      "Les mots corrélés sont : 61 et 93 avec une corrélation de  0.7559073036298292\n",
      "Les mots corrélés sont : 61 et 98 avec une corrélation de  0.7559073036298292\n",
      "Les mots corrélés sont : 61 et 103 avec une corrélation de  0.7559073036298292\n",
      "Les mots corrélés sont : 61 et 106 avec une corrélation de  0.7559073036298292\n",
      "Les mots corrélés sont : 61 et 109 avec une corrélation de  0.7559073036298292\n",
      "Les mots corrélés sont : 61 et 116 avec une corrélation de  0.7559073036298292\n",
      "Les mots corrélés sont : 61 et 127 avec une corrélation de  0.7559073036298292\n",
      "Les mots corrélés sont : 61 et 135 avec une corrélation de  0.7559073036298292\n",
      "Les mots corrélés sont : 61 et 137 avec une corrélation de  0.7559073036298292\n",
      "Les mots corrélés sont : 61 et 149 avec une corrélation de  0.7559073036298292\n",
      "Les mots corrélés sont : 61 et 173 avec une corrélation de  0.7559073036298292\n",
      "Les mots corrélés sont : 61 et 180 avec une corrélation de  0.7559073036298292\n",
      "Les mots corrélés sont : 61 et 187 avec une corrélation de  0.7559073036298292\n",
      "Les mots corrélés sont : 66 et 2 avec une corrélation de  0.755907303629829\n",
      "Les mots corrélés sont : 66 et 10 avec une corrélation de  0.755907303629829\n",
      "Les mots corrélés sont : 66 et 13 avec une corrélation de  0.755907303629829\n",
      "Les mots corrélés sont : 66 et 17 avec une corrélation de  0.755907303629829\n",
      "Les mots corrélés sont : 66 et 18 avec une corrélation de  0.755907303629829\n",
      "Les mots corrélés sont : 66 et 31 avec une corrélation de  0.755907303629829\n",
      "Les mots corrélés sont : 66 et 34 avec une corrélation de  0.755907303629829\n",
      "Les mots corrélés sont : 66 et 67 avec une corrélation de  0.755907303629829\n",
      "Les mots corrélés sont : 66 et 69 avec une corrélation de  0.755907303629829\n",
      "Les mots corrélés sont : 66 et 86 avec une corrélation de  0.755907303629829\n",
      "Les mots corrélés sont : 66 et 93 avec une corrélation de  0.755907303629829\n",
      "Les mots corrélés sont : 66 et 98 avec une corrélation de  0.755907303629829\n",
      "Les mots corrélés sont : 66 et 103 avec une corrélation de  0.755907303629829\n",
      "Les mots corrélés sont : 66 et 106 avec une corrélation de  0.755907303629829\n",
      "Les mots corrélés sont : 66 et 109 avec une corrélation de  0.755907303629829\n",
      "Les mots corrélés sont : 66 et 116 avec une corrélation de  0.755907303629829\n",
      "Les mots corrélés sont : 66 et 127 avec une corrélation de  0.755907303629829\n",
      "Les mots corrélés sont : 66 et 135 avec une corrélation de  0.755907303629829\n",
      "Les mots corrélés sont : 66 et 137 avec une corrélation de  0.755907303629829\n",
      "Les mots corrélés sont : 66 et 149 avec une corrélation de  0.755907303629829\n",
      "Les mots corrélés sont : 66 et 173 avec une corrélation de  0.755907303629829\n",
      "Les mots corrélés sont : 66 et 180 avec une corrélation de  0.755907303629829\n",
      "Les mots corrélés sont : 66 et 187 avec une corrélation de  0.755907303629829\n",
      "Les mots corrélés sont : 67 et 27 avec une corrélation de  0.755907303629829\n",
      "Les mots corrélés sont : 67 et 46 avec une corrélation de  0.755907303629829\n",
      "Les mots corrélés sont : 67 et 61 avec une corrélation de  0.7559073036298292\n",
      "Les mots corrélés sont : 67 et 66 avec une corrélation de  0.755907303629829\n",
      "Les mots corrélés sont : 67 et 92 avec une corrélation de  0.7559073036298292\n",
      "Les mots corrélés sont : 67 et 160 avec une corrélation de  0.7559073036298292\n",
      "Les mots corrélés sont : 67 et 181 avec une corrélation de  0.7559073036298292\n",
      "Les mots corrélés sont : 69 et 27 avec une corrélation de  0.755907303629829\n",
      "Les mots corrélés sont : 69 et 46 avec une corrélation de  0.755907303629829\n",
      "Les mots corrélés sont : 69 et 61 avec une corrélation de  0.7559073036298292\n",
      "Les mots corrélés sont : 69 et 66 avec une corrélation de  0.755907303629829\n",
      "Les mots corrélés sont : 69 et 92 avec une corrélation de  0.7559073036298292\n",
      "Les mots corrélés sont : 69 et 160 avec une corrélation de  0.7559073036298292\n",
      "Les mots corrélés sont : 69 et 181 avec une corrélation de  0.7559073036298292\n",
      "Les mots corrélés sont : 80 et 38 avec une corrélation de  0.745377008734806\n",
      "Les mots corrélés sont : 80 et 183 avec une corrélation de  0.8103559014753804\n",
      "Les mots corrélés sont : 86 et 27 avec une corrélation de  0.755907303629829\n",
      "Les mots corrélés sont : 86 et 46 avec une corrélation de  0.755907303629829\n",
      "Les mots corrélés sont : 86 et 61 avec une corrélation de  0.7559073036298292\n",
      "Les mots corrélés sont : 86 et 66 avec une corrélation de  0.755907303629829\n",
      "Les mots corrélés sont : 86 et 92 avec une corrélation de  0.7559073036298292\n",
      "Les mots corrélés sont : 86 et 160 avec une corrélation de  0.7559073036298292\n",
      "Les mots corrélés sont : 86 et 181 avec une corrélation de  0.7559073036298292\n",
      "Les mots corrélés sont : 92 et 2 avec une corrélation de  0.7559073036298292\n",
      "Les mots corrélés sont : 92 et 10 avec une corrélation de  0.7559073036298292\n",
      "Les mots corrélés sont : 92 et 13 avec une corrélation de  0.7559073036298292\n",
      "Les mots corrélés sont : 92 et 17 avec une corrélation de  0.7559073036298292\n",
      "Les mots corrélés sont : 92 et 18 avec une corrélation de  0.7559073036298292\n",
      "Les mots corrélés sont : 92 et 31 avec une corrélation de  0.7559073036298292\n",
      "Les mots corrélés sont : 92 et 34 avec une corrélation de  0.7559073036298292\n",
      "Les mots corrélés sont : 92 et 67 avec une corrélation de  0.7559073036298292\n",
      "Les mots corrélés sont : 92 et 69 avec une corrélation de  0.7559073036298292\n",
      "Les mots corrélés sont : 92 et 86 avec une corrélation de  0.7559073036298292\n",
      "Les mots corrélés sont : 92 et 93 avec une corrélation de  0.7559073036298292\n",
      "Les mots corrélés sont : 92 et 98 avec une corrélation de  0.7559073036298292\n",
      "Les mots corrélés sont : 92 et 103 avec une corrélation de  0.7559073036298292\n",
      "Les mots corrélés sont : 92 et 106 avec une corrélation de  0.7559073036298292\n",
      "Les mots corrélés sont : 92 et 109 avec une corrélation de  0.7559073036298292\n",
      "Les mots corrélés sont : 92 et 116 avec une corrélation de  0.7559073036298292\n",
      "Les mots corrélés sont : 92 et 127 avec une corrélation de  0.7559073036298292\n",
      "Les mots corrélés sont : 92 et 135 avec une corrélation de  0.7559073036298292\n",
      "Les mots corrélés sont : 92 et 137 avec une corrélation de  0.7559073036298292\n",
      "Les mots corrélés sont : 92 et 149 avec une corrélation de  0.7559073036298292\n",
      "Les mots corrélés sont : 92 et 173 avec une corrélation de  0.7559073036298292\n",
      "Les mots corrélés sont : 92 et 180 avec une corrélation de  0.7559073036298292\n",
      "Les mots corrélés sont : 92 et 187 avec une corrélation de  0.7559073036298292\n",
      "Les mots corrélés sont : 93 et 27 avec une corrélation de  0.755907303629829\n",
      "Les mots corrélés sont : 93 et 46 avec une corrélation de  0.755907303629829\n",
      "Les mots corrélés sont : 93 et 61 avec une corrélation de  0.7559073036298292\n",
      "Les mots corrélés sont : 93 et 66 avec une corrélation de  0.755907303629829\n",
      "Les mots corrélés sont : 93 et 92 avec une corrélation de  0.7559073036298292\n",
      "Les mots corrélés sont : 93 et 160 avec une corrélation de  0.7559073036298292\n",
      "Les mots corrélés sont : 93 et 181 avec une corrélation de  0.7559073036298292\n",
      "Les mots corrélés sont : 98 et 27 avec une corrélation de  0.755907303629829\n",
      "Les mots corrélés sont : 98 et 46 avec une corrélation de  0.755907303629829\n",
      "Les mots corrélés sont : 98 et 61 avec une corrélation de  0.7559073036298292\n",
      "Les mots corrélés sont : 98 et 66 avec une corrélation de  0.755907303629829\n",
      "Les mots corrélés sont : 98 et 92 avec une corrélation de  0.7559073036298292\n",
      "Les mots corrélés sont : 98 et 160 avec une corrélation de  0.7559073036298292\n",
      "Les mots corrélés sont : 98 et 181 avec une corrélation de  0.7559073036298292\n",
      "Les mots corrélés sont : 103 et 27 avec une corrélation de  0.755907303629829\n",
      "Les mots corrélés sont : 103 et 46 avec une corrélation de  0.755907303629829\n",
      "Les mots corrélés sont : 103 et 61 avec une corrélation de  0.7559073036298292\n",
      "Les mots corrélés sont : 103 et 66 avec une corrélation de  0.755907303629829\n",
      "Les mots corrélés sont : 103 et 92 avec une corrélation de  0.7559073036298292\n",
      "Les mots corrélés sont : 103 et 160 avec une corrélation de  0.7559073036298292\n",
      "Les mots corrélés sont : 103 et 181 avec une corrélation de  0.7559073036298292\n",
      "Les mots corrélés sont : 106 et 27 avec une corrélation de  0.755907303629829\n",
      "Les mots corrélés sont : 106 et 46 avec une corrélation de  0.755907303629829\n",
      "Les mots corrélés sont : 106 et 61 avec une corrélation de  0.7559073036298292\n",
      "Les mots corrélés sont : 106 et 66 avec une corrélation de  0.755907303629829\n",
      "Les mots corrélés sont : 106 et 92 avec une corrélation de  0.7559073036298292\n",
      "Les mots corrélés sont : 106 et 160 avec une corrélation de  0.7559073036298292\n",
      "Les mots corrélés sont : 106 et 181 avec une corrélation de  0.7559073036298292\n",
      "Les mots corrélés sont : 109 et 27 avec une corrélation de  0.755907303629829\n",
      "Les mots corrélés sont : 109 et 46 avec une corrélation de  0.755907303629829\n",
      "Les mots corrélés sont : 109 et 61 avec une corrélation de  0.7559073036298292\n",
      "Les mots corrélés sont : 109 et 66 avec une corrélation de  0.755907303629829\n",
      "Les mots corrélés sont : 109 et 92 avec une corrélation de  0.7559073036298292\n",
      "Les mots corrélés sont : 109 et 160 avec une corrélation de  0.7559073036298292\n",
      "Les mots corrélés sont : 109 et 181 avec une corrélation de  0.7559073036298292\n",
      "Les mots corrélés sont : 116 et 27 avec une corrélation de  0.755907303629829\n",
      "Les mots corrélés sont : 116 et 46 avec une corrélation de  0.755907303629829\n",
      "Les mots corrélés sont : 116 et 61 avec une corrélation de  0.7559073036298292\n",
      "Les mots corrélés sont : 116 et 66 avec une corrélation de  0.755907303629829\n",
      "Les mots corrélés sont : 116 et 92 avec une corrélation de  0.7559073036298292\n",
      "Les mots corrélés sont : 116 et 160 avec une corrélation de  0.7559073036298292\n",
      "Les mots corrélés sont : 116 et 181 avec une corrélation de  0.7559073036298292\n",
      "Les mots corrélés sont : 127 et 27 avec une corrélation de  0.755907303629829\n",
      "Les mots corrélés sont : 127 et 46 avec une corrélation de  0.755907303629829\n",
      "Les mots corrélés sont : 127 et 61 avec une corrélation de  0.7559073036298292\n",
      "Les mots corrélés sont : 127 et 66 avec une corrélation de  0.755907303629829\n",
      "Les mots corrélés sont : 127 et 92 avec une corrélation de  0.7559073036298292\n",
      "Les mots corrélés sont : 127 et 160 avec une corrélation de  0.7559073036298292\n",
      "Les mots corrélés sont : 127 et 181 avec une corrélation de  0.7559073036298292\n",
      "Les mots corrélés sont : 135 et 27 avec une corrélation de  0.755907303629829\n",
      "Les mots corrélés sont : 135 et 46 avec une corrélation de  0.755907303629829\n",
      "Les mots corrélés sont : 135 et 61 avec une corrélation de  0.7559073036298292\n",
      "Les mots corrélés sont : 135 et 66 avec une corrélation de  0.755907303629829\n",
      "Les mots corrélés sont : 135 et 92 avec une corrélation de  0.7559073036298292\n",
      "Les mots corrélés sont : 135 et 160 avec une corrélation de  0.7559073036298292\n",
      "Les mots corrélés sont : 135 et 181 avec une corrélation de  0.7559073036298292\n",
      "Les mots corrélés sont : 137 et 27 avec une corrélation de  0.755907303629829\n",
      "Les mots corrélés sont : 137 et 46 avec une corrélation de  0.755907303629829\n",
      "Les mots corrélés sont : 137 et 61 avec une corrélation de  0.7559073036298292\n",
      "Les mots corrélés sont : 137 et 66 avec une corrélation de  0.755907303629829\n",
      "Les mots corrélés sont : 137 et 92 avec une corrélation de  0.7559073036298292\n",
      "Les mots corrélés sont : 137 et 160 avec une corrélation de  0.7559073036298292\n",
      "Les mots corrélés sont : 137 et 181 avec une corrélation de  0.7559073036298292\n",
      "Les mots corrélés sont : 149 et 27 avec une corrélation de  0.755907303629829\n",
      "Les mots corrélés sont : 149 et 46 avec une corrélation de  0.755907303629829\n",
      "Les mots corrélés sont : 149 et 61 avec une corrélation de  0.7559073036298292\n",
      "Les mots corrélés sont : 149 et 66 avec une corrélation de  0.755907303629829\n",
      "Les mots corrélés sont : 149 et 92 avec une corrélation de  0.7559073036298292\n",
      "Les mots corrélés sont : 149 et 160 avec une corrélation de  0.7559073036298292\n",
      "Les mots corrélés sont : 149 et 181 avec une corrélation de  0.7559073036298292\n",
      "Les mots corrélés sont : 160 et 2 avec une corrélation de  0.7559073036298292\n",
      "Les mots corrélés sont : 160 et 10 avec une corrélation de  0.7559073036298292\n",
      "Les mots corrélés sont : 160 et 13 avec une corrélation de  0.7559073036298292\n",
      "Les mots corrélés sont : 160 et 17 avec une corrélation de  0.7559073036298292\n",
      "Les mots corrélés sont : 160 et 18 avec une corrélation de  0.7559073036298292\n",
      "Les mots corrélés sont : 160 et 31 avec une corrélation de  0.7559073036298292\n",
      "Les mots corrélés sont : 160 et 34 avec une corrélation de  0.7559073036298292\n",
      "Les mots corrélés sont : 160 et 67 avec une corrélation de  0.7559073036298292\n",
      "Les mots corrélés sont : 160 et 69 avec une corrélation de  0.7559073036298292\n",
      "Les mots corrélés sont : 160 et 86 avec une corrélation de  0.7559073036298292\n",
      "Les mots corrélés sont : 160 et 93 avec une corrélation de  0.7559073036298292\n",
      "Les mots corrélés sont : 160 et 98 avec une corrélation de  0.7559073036298292\n",
      "Les mots corrélés sont : 160 et 103 avec une corrélation de  0.7559073036298292\n",
      "Les mots corrélés sont : 160 et 106 avec une corrélation de  0.7559073036298292\n",
      "Les mots corrélés sont : 160 et 109 avec une corrélation de  0.7559073036298292\n",
      "Les mots corrélés sont : 160 et 116 avec une corrélation de  0.7559073036298292\n",
      "Les mots corrélés sont : 160 et 127 avec une corrélation de  0.7559073036298292\n",
      "Les mots corrélés sont : 160 et 135 avec une corrélation de  0.7559073036298292\n",
      "Les mots corrélés sont : 160 et 137 avec une corrélation de  0.7559073036298292\n",
      "Les mots corrélés sont : 160 et 149 avec une corrélation de  0.7559073036298292\n",
      "Les mots corrélés sont : 160 et 173 avec une corrélation de  0.7559073036298292\n",
      "Les mots corrélés sont : 160 et 180 avec une corrélation de  0.7559073036298292\n",
      "Les mots corrélés sont : 160 et 187 avec une corrélation de  0.7559073036298292\n",
      "Les mots corrélés sont : 173 et 27 avec une corrélation de  0.755907303629829\n",
      "Les mots corrélés sont : 173 et 46 avec une corrélation de  0.755907303629829\n",
      "Les mots corrélés sont : 173 et 61 avec une corrélation de  0.7559073036298292\n",
      "Les mots corrélés sont : 173 et 66 avec une corrélation de  0.755907303629829\n",
      "Les mots corrélés sont : 173 et 92 avec une corrélation de  0.7559073036298292\n",
      "Les mots corrélés sont : 173 et 160 avec une corrélation de  0.7559073036298292\n",
      "Les mots corrélés sont : 173 et 181 avec une corrélation de  0.7559073036298292\n",
      "Les mots corrélés sont : 180 et 27 avec une corrélation de  0.755907303629829\n",
      "Les mots corrélés sont : 180 et 46 avec une corrélation de  0.755907303629829\n",
      "Les mots corrélés sont : 180 et 61 avec une corrélation de  0.7559073036298292\n",
      "Les mots corrélés sont : 180 et 66 avec une corrélation de  0.755907303629829\n",
      "Les mots corrélés sont : 180 et 92 avec une corrélation de  0.7559073036298292\n",
      "Les mots corrélés sont : 180 et 160 avec une corrélation de  0.7559073036298292\n",
      "Les mots corrélés sont : 180 et 181 avec une corrélation de  0.7559073036298292\n",
      "Les mots corrélés sont : 181 et 2 avec une corrélation de  0.7559073036298292\n",
      "Les mots corrélés sont : 181 et 10 avec une corrélation de  0.7559073036298292\n",
      "Les mots corrélés sont : 181 et 13 avec une corrélation de  0.7559073036298292\n",
      "Les mots corrélés sont : 181 et 17 avec une corrélation de  0.7559073036298292\n",
      "Les mots corrélés sont : 181 et 18 avec une corrélation de  0.7559073036298292\n",
      "Les mots corrélés sont : 181 et 31 avec une corrélation de  0.7559073036298292\n",
      "Les mots corrélés sont : 181 et 34 avec une corrélation de  0.7559073036298292\n",
      "Les mots corrélés sont : 181 et 67 avec une corrélation de  0.7559073036298292\n",
      "Les mots corrélés sont : 181 et 69 avec une corrélation de  0.7559073036298292\n",
      "Les mots corrélés sont : 181 et 86 avec une corrélation de  0.7559073036298292\n",
      "Les mots corrélés sont : 181 et 93 avec une corrélation de  0.7559073036298292\n",
      "Les mots corrélés sont : 181 et 98 avec une corrélation de  0.7559073036298292\n",
      "Les mots corrélés sont : 181 et 103 avec une corrélation de  0.7559073036298292\n",
      "Les mots corrélés sont : 181 et 106 avec une corrélation de  0.7559073036298292\n",
      "Les mots corrélés sont : 181 et 109 avec une corrélation de  0.7559073036298292\n",
      "Les mots corrélés sont : 181 et 116 avec une corrélation de  0.7559073036298292\n",
      "Les mots corrélés sont : 181 et 127 avec une corrélation de  0.7559073036298292\n",
      "Les mots corrélés sont : 181 et 135 avec une corrélation de  0.7559073036298292\n",
      "Les mots corrélés sont : 181 et 137 avec une corrélation de  0.7559073036298292\n",
      "Les mots corrélés sont : 181 et 149 avec une corrélation de  0.7559073036298292\n",
      "Les mots corrélés sont : 181 et 173 avec une corrélation de  0.7559073036298292\n",
      "Les mots corrélés sont : 181 et 180 avec une corrélation de  0.7559073036298292\n",
      "Les mots corrélés sont : 181 et 187 avec une corrélation de  0.7559073036298292\n",
      "Les mots corrélés sont : 183 et 38 avec une corrélation de  0.7333824435994323\n",
      "Les mots corrélés sont : 183 et 80 avec une corrélation de  0.8103559014753804\n",
      "Les mots corrélés sont : 187 et 27 avec une corrélation de  0.755907303629829\n",
      "Les mots corrélés sont : 187 et 46 avec une corrélation de  0.755907303629829\n",
      "Les mots corrélés sont : 187 et 61 avec une corrélation de  0.7559073036298292\n",
      "Les mots corrélés sont : 187 et 66 avec une corrélation de  0.755907303629829\n",
      "Les mots corrélés sont : 187 et 92 avec une corrélation de  0.7559073036298292\n",
      "Les mots corrélés sont : 187 et 160 avec une corrélation de  0.7559073036298292\n",
      "Les mots corrélés sont : 187 et 181 avec une corrélation de  0.7559073036298292\n",
      "Il y a au total  164.0 duos de mots très corrélés\n"
     ]
    }
   ],
   "source": [
    "MotsCorr=Mots_Panda_Corr.values\n",
    "\n",
    "Compteur = 0\n",
    "for i in range (0, 199):\n",
    "    for j in range(0, 199):\n",
    "        if MotsCorr[i,j]>0.7 and MotsCorr[i,j]<1:\n",
    "            print(\"Les mots corrélés sont :\", i, \"et\", j, \"avec une corrélation de \", MotsCorr[i,j])\n",
    "            Compteur+=1\n",
    "print(\"Il y a au total \", Compteur/2, \"duos de mots très corrélés\")"
   ]
  },
  {
   "cell_type": "code",
   "execution_count": 20,
   "metadata": {
    "collapsed": true
   },
   "outputs": [],
   "source": [
    "Mots_50=Mots[:, 0:49]\n",
    "Mots_100=Mots[:, 50:99]\n",
    "Mots_150=Mots[:, 100:149]\n",
    "Mots_200=Mots[:, 150:199]\n",
    "Mots_50_Panda=pd.DataFrame(Mots_50)"
   ]
  },
  {
   "cell_type": "markdown",
   "metadata": {},
   "source": [
    "## Variables qualitatives et indicateurs"
   ]
  },
  {
   "cell_type": "markdown",
   "metadata": {},
   "source": [
    "Ici, on s'intéresse aux 50 premières variables qui sont les indicateurs sur le nombre de commentaires avant notre date."
   ]
  },
  {
   "cell_type": "code",
   "execution_count": 21,
   "metadata": {
    "collapsed": true
   },
   "outputs": [],
   "source": [
    "Indi=Data[:,0:49]"
   ]
  },
  {
   "cell_type": "code",
   "execution_count": 22,
   "metadata": {
    "collapsed": true
   },
   "outputs": [],
   "source": [
    "Indi_Panda=pd.DataFrame(Indi)"
   ]
  },
  {
   "cell_type": "code",
   "execution_count": 23,
   "metadata": {
    "collapsed": true
   },
   "outputs": [],
   "source": [
    "Indi2=Data[:,0:5]\n",
    "Indi_Panda2=pd.DataFrame(Indi2)"
   ]
  },
  {
   "cell_type": "code",
   "execution_count": 24,
   "metadata": {
    "collapsed": false
   },
   "outputs": [
    {
     "data": {
      "image/png": "[encoded data removed]",
      "text/plain": [
       "<Figure size 900x900 with 30 Axes>"
      ]
     },
     "metadata": {},
     "output_type": "display_data"
    }
   ],
   "source": [
    "sns.pairplot(Indi_Panda2, kind=\"scatter\")\n",
    "plt.show()"
   ]
  },
  {
   "cell_type": "code",
   "execution_count": 25,
   "metadata": {
    "collapsed": false,
    "scrolled": true
   },
   "outputs": [
    {
     "data": {
      "image/png": "[encoded data removed]",
      "text/plain": [
       "<Figure size 288x288 with 2 Axes>"
      ]
     },
     "metadata": {},
     "output_type": "display_data"
    }
   ],
   "source": [
    "plt.matshow(Indi_Panda.corr())\n",
    "plt.xticks(range(len(Indi_Panda.columns)), Indi_Panda.columns)\n",
    "plt.yticks(range(len(Indi_Panda.columns)), Indi_Panda.columns)\n",
    "plt.colorbar()\n",
    "plt.show()"
   ]
  },
  {
   "cell_type": "code",
   "execution_count": 26,
   "metadata": {
    "collapsed": false,
    "scrolled": true
   },
   "outputs": [
    {
     "data": {
      "text/html": [
       "<div>\n",
       "<style scoped>\n",
       "    .dataframe tbody tr th:only-of-type {\n",
       "        vertical-align: middle;\n",
       "    }\n",
       "\n",
       "    .dataframe tbody tr th {\n",
       "        vertical-align: top;\n",
       "    }\n",
       "\n",
       "    .dataframe thead th {\n",
       "        text-align: right;\n",
       "    }\n",
       "</style>\n",
       "<table border=\"1\" class=\"dataframe\">\n",
       "  <thead>\n",
       "    <tr style=\"text-align: right;\">\n",
       "      <th></th>\n",
       "      <th>0</th>\n",
       "      <th>1</th>\n",
       "      <th>2</th>\n",
       "      <th>3</th>\n",
       "      <th>4</th>\n",
       "      <th>5</th>\n",
       "      <th>6</th>\n",
       "      <th>7</th>\n",
       "      <th>8</th>\n",
       "      <th>9</th>\n",
       "      <th>...</th>\n",
       "      <th>39</th>\n",
       "      <th>40</th>\n",
       "      <th>41</th>\n",
       "      <th>42</th>\n",
       "      <th>43</th>\n",
       "      <th>44</th>\n",
       "      <th>45</th>\n",
       "      <th>46</th>\n",
       "      <th>47</th>\n",
       "      <th>48</th>\n",
       "    </tr>\n",
       "  </thead>\n",
       "  <tbody>\n",
       "    <tr>\n",
       "      <th>0</th>\n",
       "      <td>1.000000</td>\n",
       "      <td>0.926063</td>\n",
       "      <td>0.153651</td>\n",
       "      <td>0.852126</td>\n",
       "      <td>0.973861</td>\n",
       "      <td>0.996860</td>\n",
       "      <td>0.941574</td>\n",
       "      <td>0.091091</td>\n",
       "      <td>0.795670</td>\n",
       "      <td>0.921001</td>\n",
       "      <td>...</td>\n",
       "      <td>0.004591</td>\n",
       "      <td>0.676312</td>\n",
       "      <td>0.535100</td>\n",
       "      <td>0.008172</td>\n",
       "      <td>0.474527</td>\n",
       "      <td>0.663158</td>\n",
       "      <td>0.462910</td>\n",
       "      <td>0.588045</td>\n",
       "      <td>-0.430831</td>\n",
       "      <td>0.456317</td>\n",
       "    </tr>\n",
       "    <tr>\n",
       "      <th>1</th>\n",
       "      <td>0.926063</td>\n",
       "      <td>1.000000</td>\n",
       "      <td>0.062471</td>\n",
       "      <td>0.923558</td>\n",
       "      <td>0.826808</td>\n",
       "      <td>0.913370</td>\n",
       "      <td>0.991400</td>\n",
       "      <td>0.017353</td>\n",
       "      <td>0.876339</td>\n",
       "      <td>0.753083</td>\n",
       "      <td>...</td>\n",
       "      <td>-0.000069</td>\n",
       "      <td>0.695246</td>\n",
       "      <td>0.604857</td>\n",
       "      <td>-0.005998</td>\n",
       "      <td>0.518617</td>\n",
       "      <td>0.630570</td>\n",
       "      <td>0.506877</td>\n",
       "      <td>0.640441</td>\n",
       "      <td>-0.467591</td>\n",
       "      <td>0.483224</td>\n",
       "    </tr>\n",
       "    <tr>\n",
       "      <th>2</th>\n",
       "      <td>0.153651</td>\n",
       "      <td>0.062471</td>\n",
       "      <td>1.000000</td>\n",
       "      <td>0.022318</td>\n",
       "      <td>0.182835</td>\n",
       "      <td>0.145746</td>\n",
       "      <td>0.101145</td>\n",
       "      <td>0.749392</td>\n",
       "      <td>0.015544</td>\n",
       "      <td>0.198764</td>\n",
       "      <td>...</td>\n",
       "      <td>0.022875</td>\n",
       "      <td>0.013064</td>\n",
       "      <td>-0.000422</td>\n",
       "      <td>0.081603</td>\n",
       "      <td>-0.006324</td>\n",
       "      <td>0.025694</td>\n",
       "      <td>0.004179</td>\n",
       "      <td>0.007439</td>\n",
       "      <td>0.004175</td>\n",
       "      <td>-0.002759</td>\n",
       "    </tr>\n",
       "    <tr>\n",
       "      <th>3</th>\n",
       "      <td>0.852126</td>\n",
       "      <td>0.923558</td>\n",
       "      <td>0.022318</td>\n",
       "      <td>1.000000</td>\n",
       "      <td>0.765456</td>\n",
       "      <td>0.825913</td>\n",
       "      <td>0.913739</td>\n",
       "      <td>0.005770</td>\n",
       "      <td>0.959883</td>\n",
       "      <td>0.644830</td>\n",
       "      <td>...</td>\n",
       "      <td>-0.010974</td>\n",
       "      <td>0.569128</td>\n",
       "      <td>0.521621</td>\n",
       "      <td>-0.015137</td>\n",
       "      <td>0.525901</td>\n",
       "      <td>0.483146</td>\n",
       "      <td>0.453277</td>\n",
       "      <td>0.527221</td>\n",
       "      <td>-0.438498</td>\n",
       "      <td>0.454094</td>\n",
       "    </tr>\n",
       "    <tr>\n",
       "      <th>4</th>\n",
       "      <td>0.973861</td>\n",
       "      <td>0.826808</td>\n",
       "      <td>0.182835</td>\n",
       "      <td>0.765456</td>\n",
       "      <td>1.000000</td>\n",
       "      <td>0.977636</td>\n",
       "      <td>0.854387</td>\n",
       "      <td>0.126099</td>\n",
       "      <td>0.704929</td>\n",
       "      <td>0.960397</td>\n",
       "      <td>...</td>\n",
       "      <td>0.009122</td>\n",
       "      <td>0.599619</td>\n",
       "      <td>0.462603</td>\n",
       "      <td>0.014236</td>\n",
       "      <td>0.426797</td>\n",
       "      <td>0.602223</td>\n",
       "      <td>0.396297</td>\n",
       "      <td>0.509220</td>\n",
       "      <td>-0.388761</td>\n",
       "      <td>0.418736</td>\n",
       "    </tr>\n",
       "    <tr>\n",
       "      <th>5</th>\n",
       "      <td>0.996860</td>\n",
       "      <td>0.913370</td>\n",
       "      <td>0.145746</td>\n",
       "      <td>0.825913</td>\n",
       "      <td>0.977636</td>\n",
       "      <td>1.000000</td>\n",
       "      <td>0.931110</td>\n",
       "      <td>0.088670</td>\n",
       "      <td>0.770021</td>\n",
       "      <td>0.941931</td>\n",
       "      <td>...</td>\n",
       "      <td>0.004753</td>\n",
       "      <td>0.682281</td>\n",
       "      <td>0.543814</td>\n",
       "      <td>0.006386</td>\n",
       "      <td>0.481940</td>\n",
       "      <td>0.667564</td>\n",
       "      <td>0.472375</td>\n",
       "      <td>0.597371</td>\n",
       "      <td>-0.445644</td>\n",
       "      <td>0.471862</td>\n",
       "    </tr>\n",
       "    <tr>\n",
       "      <th>6</th>\n",
       "      <td>0.941574</td>\n",
       "      <td>0.991400</td>\n",
       "      <td>0.101145</td>\n",
       "      <td>0.913739</td>\n",
       "      <td>0.854387</td>\n",
       "      <td>0.931110</td>\n",
       "      <td>1.000000</td>\n",
       "      <td>0.046142</td>\n",
       "      <td>0.889602</td>\n",
       "      <td>0.774960</td>\n",
       "      <td>...</td>\n",
       "      <td>0.001105</td>\n",
       "      <td>0.709332</td>\n",
       "      <td>0.616270</td>\n",
       "      <td>0.002467</td>\n",
       "      <td>0.531006</td>\n",
       "      <td>0.645768</td>\n",
       "      <td>0.513447</td>\n",
       "      <td>0.653376</td>\n",
       "      <td>-0.479324</td>\n",
       "      <td>0.496025</td>\n",
       "    </tr>\n",
       "    <tr>\n",
       "      <th>7</th>\n",
       "      <td>0.091091</td>\n",
       "      <td>0.017353</td>\n",
       "      <td>0.749392</td>\n",
       "      <td>0.005770</td>\n",
       "      <td>0.126099</td>\n",
       "      <td>0.088670</td>\n",
       "      <td>0.046142</td>\n",
       "      <td>1.000000</td>\n",
       "      <td>0.000688</td>\n",
       "      <td>0.155860</td>\n",
       "      <td>...</td>\n",
       "      <td>-0.000471</td>\n",
       "      <td>-0.010592</td>\n",
       "      <td>-0.016586</td>\n",
       "      <td>-0.000610</td>\n",
       "      <td>-0.016128</td>\n",
       "      <td>-0.005203</td>\n",
       "      <td>-0.010875</td>\n",
       "      <td>-0.013276</td>\n",
       "      <td>0.017567</td>\n",
       "      <td>-0.016801</td>\n",
       "    </tr>\n",
       "    <tr>\n",
       "      <th>8</th>\n",
       "      <td>0.795670</td>\n",
       "      <td>0.876339</td>\n",
       "      <td>0.015544</td>\n",
       "      <td>0.959883</td>\n",
       "      <td>0.704929</td>\n",
       "      <td>0.770021</td>\n",
       "      <td>0.889602</td>\n",
       "      <td>0.000688</td>\n",
       "      <td>1.000000</td>\n",
       "      <td>0.570294</td>\n",
       "      <td>...</td>\n",
       "      <td>-0.012169</td>\n",
       "      <td>0.525983</td>\n",
       "      <td>0.498073</td>\n",
       "      <td>-0.014870</td>\n",
       "      <td>0.510052</td>\n",
       "      <td>0.427722</td>\n",
       "      <td>0.412330</td>\n",
       "      <td>0.494242</td>\n",
       "      <td>-0.422374</td>\n",
       "      <td>0.439828</td>\n",
       "    </tr>\n",
       "    <tr>\n",
       "      <th>9</th>\n",
       "      <td>0.921001</td>\n",
       "      <td>0.753083</td>\n",
       "      <td>0.198764</td>\n",
       "      <td>0.644830</td>\n",
       "      <td>0.960397</td>\n",
       "      <td>0.941931</td>\n",
       "      <td>0.774960</td>\n",
       "      <td>0.155860</td>\n",
       "      <td>0.570294</td>\n",
       "      <td>1.000000</td>\n",
       "      <td>...</td>\n",
       "      <td>-0.003436</td>\n",
       "      <td>0.593770</td>\n",
       "      <td>0.461795</td>\n",
       "      <td>0.002716</td>\n",
       "      <td>0.420015</td>\n",
       "      <td>0.594687</td>\n",
       "      <td>0.406728</td>\n",
       "      <td>0.514198</td>\n",
       "      <td>-0.412661</td>\n",
       "      <td>0.443905</td>\n",
       "    </tr>\n",
       "    <tr>\n",
       "      <th>10</th>\n",
       "      <td>0.998910</td>\n",
       "      <td>0.921654</td>\n",
       "      <td>0.163347</td>\n",
       "      <td>0.842279</td>\n",
       "      <td>0.976374</td>\n",
       "      <td>0.998416</td>\n",
       "      <td>0.939649</td>\n",
       "      <td>0.098823</td>\n",
       "      <td>0.787987</td>\n",
       "      <td>0.929050</td>\n",
       "      <td>...</td>\n",
       "      <td>0.006207</td>\n",
       "      <td>0.679039</td>\n",
       "      <td>0.543851</td>\n",
       "      <td>0.008290</td>\n",
       "      <td>0.483601</td>\n",
       "      <td>0.661142</td>\n",
       "      <td>0.468601</td>\n",
       "      <td>0.594326</td>\n",
       "      <td>-0.441311</td>\n",
       "      <td>0.466921</td>\n",
       "    </tr>\n",
       "    <tr>\n",
       "      <th>11</th>\n",
       "      <td>0.948900</td>\n",
       "      <td>0.990792</td>\n",
       "      <td>0.100018</td>\n",
       "      <td>0.910829</td>\n",
       "      <td>0.865819</td>\n",
       "      <td>0.938987</td>\n",
       "      <td>0.999204</td>\n",
       "      <td>0.046342</td>\n",
       "      <td>0.883876</td>\n",
       "      <td>0.789400</td>\n",
       "      <td>...</td>\n",
       "      <td>0.001021</td>\n",
       "      <td>0.712068</td>\n",
       "      <td>0.615905</td>\n",
       "      <td>0.002326</td>\n",
       "      <td>0.532135</td>\n",
       "      <td>0.650181</td>\n",
       "      <td>0.511528</td>\n",
       "      <td>0.653934</td>\n",
       "      <td>-0.480789</td>\n",
       "      <td>0.498361</td>\n",
       "    </tr>\n",
       "    <tr>\n",
       "      <th>12</th>\n",
       "      <td>NaN</td>\n",
       "      <td>NaN</td>\n",
       "      <td>NaN</td>\n",
       "      <td>NaN</td>\n",
       "      <td>NaN</td>\n",
       "      <td>NaN</td>\n",
       "      <td>NaN</td>\n",
       "      <td>NaN</td>\n",
       "      <td>NaN</td>\n",
       "      <td>NaN</td>\n",
       "      <td>...</td>\n",
       "      <td>NaN</td>\n",
       "      <td>NaN</td>\n",
       "      <td>NaN</td>\n",
       "      <td>NaN</td>\n",
       "      <td>NaN</td>\n",
       "      <td>NaN</td>\n",
       "      <td>NaN</td>\n",
       "      <td>NaN</td>\n",
       "      <td>NaN</td>\n",
       "      <td>NaN</td>\n",
       "    </tr>\n",
       "    <tr>\n",
       "      <th>13</th>\n",
       "      <td>0.798356</td>\n",
       "      <td>0.876771</td>\n",
       "      <td>0.015885</td>\n",
       "      <td>0.958002</td>\n",
       "      <td>0.708806</td>\n",
       "      <td>0.772321</td>\n",
       "      <td>0.889656</td>\n",
       "      <td>0.000807</td>\n",
       "      <td>0.998519</td>\n",
       "      <td>0.573242</td>\n",
       "      <td>...</td>\n",
       "      <td>-0.012079</td>\n",
       "      <td>0.523391</td>\n",
       "      <td>0.494617</td>\n",
       "      <td>-0.014751</td>\n",
       "      <td>0.510003</td>\n",
       "      <td>0.423204</td>\n",
       "      <td>0.405816</td>\n",
       "      <td>0.490376</td>\n",
       "      <td>-0.419913</td>\n",
       "      <td>0.438274</td>\n",
       "    </tr>\n",
       "    <tr>\n",
       "      <th>14</th>\n",
       "      <td>0.912333</td>\n",
       "      <td>0.737123</td>\n",
       "      <td>0.330681</td>\n",
       "      <td>0.650961</td>\n",
       "      <td>0.959002</td>\n",
       "      <td>0.927879</td>\n",
       "      <td>0.763252</td>\n",
       "      <td>0.256335</td>\n",
       "      <td>0.577184</td>\n",
       "      <td>0.984173</td>\n",
       "      <td>...</td>\n",
       "      <td>-0.002319</td>\n",
       "      <td>0.540537</td>\n",
       "      <td>0.427047</td>\n",
       "      <td>0.008819</td>\n",
       "      <td>0.401184</td>\n",
       "      <td>0.532501</td>\n",
       "      <td>0.371097</td>\n",
       "      <td>0.466488</td>\n",
       "      <td>-0.381998</td>\n",
       "      <td>0.412942</td>\n",
       "    </tr>\n",
       "    <tr>\n",
       "      <th>15</th>\n",
       "      <td>0.997132</td>\n",
       "      <td>0.933183</td>\n",
       "      <td>0.176489</td>\n",
       "      <td>0.870504</td>\n",
       "      <td>0.965107</td>\n",
       "      <td>0.989112</td>\n",
       "      <td>0.949489</td>\n",
       "      <td>0.104824</td>\n",
       "      <td>0.819430</td>\n",
       "      <td>0.896087</td>\n",
       "      <td>...</td>\n",
       "      <td>0.006890</td>\n",
       "      <td>0.668139</td>\n",
       "      <td>0.530613</td>\n",
       "      <td>0.010984</td>\n",
       "      <td>0.472999</td>\n",
       "      <td>0.652206</td>\n",
       "      <td>0.455220</td>\n",
       "      <td>0.579477</td>\n",
       "      <td>-0.420081</td>\n",
       "      <td>0.444568</td>\n",
       "    </tr>\n",
       "    <tr>\n",
       "      <th>16</th>\n",
       "      <td>0.886327</td>\n",
       "      <td>0.989963</td>\n",
       "      <td>0.075559</td>\n",
       "      <td>0.929035</td>\n",
       "      <td>0.771987</td>\n",
       "      <td>0.865190</td>\n",
       "      <td>0.978083</td>\n",
       "      <td>0.018435</td>\n",
       "      <td>0.889525</td>\n",
       "      <td>0.674114</td>\n",
       "      <td>...</td>\n",
       "      <td>0.002013</td>\n",
       "      <td>0.666854</td>\n",
       "      <td>0.589403</td>\n",
       "      <td>-0.004355</td>\n",
       "      <td>0.505682</td>\n",
       "      <td>0.593991</td>\n",
       "      <td>0.485214</td>\n",
       "      <td>0.615332</td>\n",
       "      <td>-0.441205</td>\n",
       "      <td>0.453157</td>\n",
       "    </tr>\n",
       "    <tr>\n",
       "      <th>17</th>\n",
       "      <td>0.153651</td>\n",
       "      <td>0.062471</td>\n",
       "      <td>1.000000</td>\n",
       "      <td>0.022318</td>\n",
       "      <td>0.182835</td>\n",
       "      <td>0.145746</td>\n",
       "      <td>0.101145</td>\n",
       "      <td>0.749392</td>\n",
       "      <td>0.015544</td>\n",
       "      <td>0.198764</td>\n",
       "      <td>...</td>\n",
       "      <td>0.022875</td>\n",
       "      <td>0.013064</td>\n",
       "      <td>-0.000422</td>\n",
       "      <td>0.081603</td>\n",
       "      <td>-0.006324</td>\n",
       "      <td>0.025694</td>\n",
       "      <td>0.004179</td>\n",
       "      <td>0.007439</td>\n",
       "      <td>0.004175</td>\n",
       "      <td>-0.002759</td>\n",
       "    </tr>\n",
       "    <tr>\n",
       "      <th>18</th>\n",
       "      <td>0.780321</td>\n",
       "      <td>0.869797</td>\n",
       "      <td>0.028947</td>\n",
       "      <td>0.976835</td>\n",
       "      <td>0.687418</td>\n",
       "      <td>0.746937</td>\n",
       "      <td>0.867226</td>\n",
       "      <td>0.008254</td>\n",
       "      <td>0.971377</td>\n",
       "      <td>0.536040</td>\n",
       "      <td>...</td>\n",
       "      <td>-0.009757</td>\n",
       "      <td>0.510822</td>\n",
       "      <td>0.487258</td>\n",
       "      <td>-0.013859</td>\n",
       "      <td>0.509723</td>\n",
       "      <td>0.405322</td>\n",
       "      <td>0.408410</td>\n",
       "      <td>0.473891</td>\n",
       "      <td>-0.393361</td>\n",
       "      <td>0.405911</td>\n",
       "    </tr>\n",
       "    <tr>\n",
       "      <th>19</th>\n",
       "      <td>0.972425</td>\n",
       "      <td>0.825945</td>\n",
       "      <td>0.192662</td>\n",
       "      <td>0.773967</td>\n",
       "      <td>0.998351</td>\n",
       "      <td>0.974588</td>\n",
       "      <td>0.855885</td>\n",
       "      <td>0.139433</td>\n",
       "      <td>0.718524</td>\n",
       "      <td>0.952332</td>\n",
       "      <td>...</td>\n",
       "      <td>0.011356</td>\n",
       "      <td>0.595389</td>\n",
       "      <td>0.460704</td>\n",
       "      <td>0.016246</td>\n",
       "      <td>0.430289</td>\n",
       "      <td>0.596682</td>\n",
       "      <td>0.392711</td>\n",
       "      <td>0.504891</td>\n",
       "      <td>-0.386719</td>\n",
       "      <td>0.416504</td>\n",
       "    </tr>\n",
       "    <tr>\n",
       "      <th>20</th>\n",
       "      <td>0.884921</td>\n",
       "      <td>0.764599</td>\n",
       "      <td>0.004579</td>\n",
       "      <td>0.627370</td>\n",
       "      <td>0.891465</td>\n",
       "      <td>0.913965</td>\n",
       "      <td>0.778770</td>\n",
       "      <td>0.006799</td>\n",
       "      <td>0.565389</td>\n",
       "      <td>0.943045</td>\n",
       "      <td>...</td>\n",
       "      <td>-0.006197</td>\n",
       "      <td>0.639174</td>\n",
       "      <td>0.490551</td>\n",
       "      <td>-0.007977</td>\n",
       "      <td>0.422984</td>\n",
       "      <td>0.648831</td>\n",
       "      <td>0.453563</td>\n",
       "      <td>0.561112</td>\n",
       "      <td>-0.433467</td>\n",
       "      <td>0.461515</td>\n",
       "    </tr>\n",
       "    <tr>\n",
       "      <th>21</th>\n",
       "      <td>0.955116</td>\n",
       "      <td>0.984167</td>\n",
       "      <td>0.114149</td>\n",
       "      <td>0.907548</td>\n",
       "      <td>0.877636</td>\n",
       "      <td>0.944309</td>\n",
       "      <td>0.997582</td>\n",
       "      <td>0.058211</td>\n",
       "      <td>0.885568</td>\n",
       "      <td>0.796629</td>\n",
       "      <td>...</td>\n",
       "      <td>0.001138</td>\n",
       "      <td>0.709245</td>\n",
       "      <td>0.606516</td>\n",
       "      <td>0.005276</td>\n",
       "      <td>0.524045</td>\n",
       "      <td>0.652759</td>\n",
       "      <td>0.505066</td>\n",
       "      <td>0.647034</td>\n",
       "      <td>-0.471815</td>\n",
       "      <td>0.490245</td>\n",
       "    </tr>\n",
       "    <tr>\n",
       "      <th>22</th>\n",
       "      <td>-0.721287</td>\n",
       "      <td>-0.823586</td>\n",
       "      <td>-0.017834</td>\n",
       "      <td>-0.892489</td>\n",
       "      <td>-0.619366</td>\n",
       "      <td>-0.692541</td>\n",
       "      <td>-0.838444</td>\n",
       "      <td>0.000583</td>\n",
       "      <td>-0.970233</td>\n",
       "      <td>-0.481833</td>\n",
       "      <td>...</td>\n",
       "      <td>0.014055</td>\n",
       "      <td>-0.449232</td>\n",
       "      <td>-0.426008</td>\n",
       "      <td>0.015695</td>\n",
       "      <td>-0.431373</td>\n",
       "      <td>-0.361271</td>\n",
       "      <td>-0.332248</td>\n",
       "      <td>-0.424001</td>\n",
       "      <td>0.362734</td>\n",
       "      <td>-0.382041</td>\n",
       "    </tr>\n",
       "    <tr>\n",
       "      <th>23</th>\n",
       "      <td>0.795747</td>\n",
       "      <td>0.873344</td>\n",
       "      <td>0.011128</td>\n",
       "      <td>0.956209</td>\n",
       "      <td>0.706182</td>\n",
       "      <td>0.769160</td>\n",
       "      <td>0.886642</td>\n",
       "      <td>0.000464</td>\n",
       "      <td>0.997502</td>\n",
       "      <td>0.568962</td>\n",
       "      <td>...</td>\n",
       "      <td>-0.012022</td>\n",
       "      <td>0.520331</td>\n",
       "      <td>0.486349</td>\n",
       "      <td>-0.014499</td>\n",
       "      <td>0.498507</td>\n",
       "      <td>0.420501</td>\n",
       "      <td>0.406205</td>\n",
       "      <td>0.483659</td>\n",
       "      <td>-0.405964</td>\n",
       "      <td>0.425323</td>\n",
       "    </tr>\n",
       "    <tr>\n",
       "      <th>24</th>\n",
       "      <td>-0.148094</td>\n",
       "      <td>-0.138621</td>\n",
       "      <td>-0.060933</td>\n",
       "      <td>-0.295480</td>\n",
       "      <td>-0.154828</td>\n",
       "      <td>-0.119232</td>\n",
       "      <td>-0.150337</td>\n",
       "      <td>-0.215008</td>\n",
       "      <td>-0.292556</td>\n",
       "      <td>-0.068713</td>\n",
       "      <td>...</td>\n",
       "      <td>-0.002160</td>\n",
       "      <td>-0.073580</td>\n",
       "      <td>-0.053215</td>\n",
       "      <td>-0.045609</td>\n",
       "      <td>-0.086500</td>\n",
       "      <td>-0.065120</td>\n",
       "      <td>-0.004250</td>\n",
       "      <td>-0.045058</td>\n",
       "      <td>0.019168</td>\n",
       "      <td>-0.017887</td>\n",
       "    </tr>\n",
       "    <tr>\n",
       "      <th>25</th>\n",
       "      <td>0.672064</td>\n",
       "      <td>0.693496</td>\n",
       "      <td>0.011381</td>\n",
       "      <td>0.570603</td>\n",
       "      <td>0.595227</td>\n",
       "      <td>0.678539</td>\n",
       "      <td>0.707537</td>\n",
       "      <td>-0.009365</td>\n",
       "      <td>0.527232</td>\n",
       "      <td>0.590386</td>\n",
       "      <td>...</td>\n",
       "      <td>0.087854</td>\n",
       "      <td>0.999129</td>\n",
       "      <td>0.907407</td>\n",
       "      <td>0.092250</td>\n",
       "      <td>0.760004</td>\n",
       "      <td>0.894302</td>\n",
       "      <td>0.770930</td>\n",
       "      <td>0.966916</td>\n",
       "      <td>-0.749421</td>\n",
       "      <td>0.747860</td>\n",
       "    </tr>\n",
       "    <tr>\n",
       "      <th>26</th>\n",
       "      <td>0.532711</td>\n",
       "      <td>0.603383</td>\n",
       "      <td>-0.001730</td>\n",
       "      <td>0.520431</td>\n",
       "      <td>0.460762</td>\n",
       "      <td>0.542642</td>\n",
       "      <td>0.615050</td>\n",
       "      <td>-0.015901</td>\n",
       "      <td>0.495754</td>\n",
       "      <td>0.463262</td>\n",
       "      <td>...</td>\n",
       "      <td>0.049943</td>\n",
       "      <td>0.900350</td>\n",
       "      <td>0.997712</td>\n",
       "      <td>0.004416</td>\n",
       "      <td>0.897223</td>\n",
       "      <td>0.670300</td>\n",
       "      <td>0.750526</td>\n",
       "      <td>0.972434</td>\n",
       "      <td>-0.900023</td>\n",
       "      <td>0.887737</td>\n",
       "    </tr>\n",
       "    <tr>\n",
       "      <th>27</th>\n",
       "      <td>0.008172</td>\n",
       "      <td>-0.005998</td>\n",
       "      <td>0.081603</td>\n",
       "      <td>-0.015137</td>\n",
       "      <td>0.014236</td>\n",
       "      <td>0.006386</td>\n",
       "      <td>0.002467</td>\n",
       "      <td>-0.000610</td>\n",
       "      <td>-0.014870</td>\n",
       "      <td>0.002716</td>\n",
       "      <td>...</td>\n",
       "      <td>0.257515</td>\n",
       "      <td>0.097736</td>\n",
       "      <td>0.003157</td>\n",
       "      <td>1.000000</td>\n",
       "      <td>-0.002657</td>\n",
       "      <td>0.132213</td>\n",
       "      <td>0.075397</td>\n",
       "      <td>0.063990</td>\n",
       "      <td>0.000258</td>\n",
       "      <td>-0.003113</td>\n",
       "    </tr>\n",
       "    <tr>\n",
       "      <th>28</th>\n",
       "      <td>0.492159</td>\n",
       "      <td>0.531043</td>\n",
       "      <td>-0.007650</td>\n",
       "      <td>0.526028</td>\n",
       "      <td>0.445144</td>\n",
       "      <td>0.502260</td>\n",
       "      <td>0.544298</td>\n",
       "      <td>-0.016198</td>\n",
       "      <td>0.509423</td>\n",
       "      <td>0.448072</td>\n",
       "      <td>...</td>\n",
       "      <td>0.006574</td>\n",
       "      <td>0.773295</td>\n",
       "      <td>0.908420</td>\n",
       "      <td>-0.003707</td>\n",
       "      <td>0.994108</td>\n",
       "      <td>0.544843</td>\n",
       "      <td>0.643162</td>\n",
       "      <td>0.855526</td>\n",
       "      <td>-0.956948</td>\n",
       "      <td>0.969658</td>\n",
       "    </tr>\n",
       "    <tr>\n",
       "      <th>29</th>\n",
       "      <td>0.697688</td>\n",
       "      <td>0.687640</td>\n",
       "      <td>0.014956</td>\n",
       "      <td>0.566688</td>\n",
       "      <td>0.629807</td>\n",
       "      <td>0.702291</td>\n",
       "      <td>0.702422</td>\n",
       "      <td>-0.004235</td>\n",
       "      <td>0.512936</td>\n",
       "      <td>0.619161</td>\n",
       "      <td>...</td>\n",
       "      <td>0.090126</td>\n",
       "      <td>0.952514</td>\n",
       "      <td>0.769667</td>\n",
       "      <td>0.101630</td>\n",
       "      <td>0.643205</td>\n",
       "      <td>0.944734</td>\n",
       "      <td>0.714840</td>\n",
       "      <td>0.868386</td>\n",
       "      <td>-0.616351</td>\n",
       "      <td>0.615905</td>\n",
       "    </tr>\n",
       "    <tr>\n",
       "      <th>30</th>\n",
       "      <td>0.677702</td>\n",
       "      <td>0.696667</td>\n",
       "      <td>0.009348</td>\n",
       "      <td>0.577020</td>\n",
       "      <td>0.605300</td>\n",
       "      <td>0.686019</td>\n",
       "      <td>0.711456</td>\n",
       "      <td>-0.009094</td>\n",
       "      <td>0.532499</td>\n",
       "      <td>0.602493</td>\n",
       "      <td>...</td>\n",
       "      <td>0.094194</td>\n",
       "      <td>0.995407</td>\n",
       "      <td>0.914915</td>\n",
       "      <td>0.087750</td>\n",
       "      <td>0.769905</td>\n",
       "      <td>0.880891</td>\n",
       "      <td>0.794410</td>\n",
       "      <td>0.969795</td>\n",
       "      <td>-0.761690</td>\n",
       "      <td>0.758946</td>\n",
       "    </tr>\n",
       "    <tr>\n",
       "      <th>31</th>\n",
       "      <td>0.568854</td>\n",
       "      <td>0.628847</td>\n",
       "      <td>0.005128</td>\n",
       "      <td>0.524507</td>\n",
       "      <td>0.491229</td>\n",
       "      <td>0.578501</td>\n",
       "      <td>0.641323</td>\n",
       "      <td>-0.014321</td>\n",
       "      <td>0.493850</td>\n",
       "      <td>0.495840</td>\n",
       "      <td>...</td>\n",
       "      <td>0.052648</td>\n",
       "      <td>0.947048</td>\n",
       "      <td>0.984100</td>\n",
       "      <td>0.051724</td>\n",
       "      <td>0.861483</td>\n",
       "      <td>0.763310</td>\n",
       "      <td>0.777135</td>\n",
       "      <td>0.997045</td>\n",
       "      <td>-0.876211</td>\n",
       "      <td>0.863177</td>\n",
       "    </tr>\n",
       "    <tr>\n",
       "      <th>32</th>\n",
       "      <td>NaN</td>\n",
       "      <td>NaN</td>\n",
       "      <td>NaN</td>\n",
       "      <td>NaN</td>\n",
       "      <td>NaN</td>\n",
       "      <td>NaN</td>\n",
       "      <td>NaN</td>\n",
       "      <td>NaN</td>\n",
       "      <td>NaN</td>\n",
       "      <td>NaN</td>\n",
       "      <td>...</td>\n",
       "      <td>NaN</td>\n",
       "      <td>NaN</td>\n",
       "      <td>NaN</td>\n",
       "      <td>NaN</td>\n",
       "      <td>NaN</td>\n",
       "      <td>NaN</td>\n",
       "      <td>NaN</td>\n",
       "      <td>NaN</td>\n",
       "      <td>NaN</td>\n",
       "      <td>NaN</td>\n",
       "    </tr>\n",
       "    <tr>\n",
       "      <th>33</th>\n",
       "      <td>0.463991</td>\n",
       "      <td>0.488819</td>\n",
       "      <td>-0.003694</td>\n",
       "      <td>0.454906</td>\n",
       "      <td>0.427292</td>\n",
       "      <td>0.480344</td>\n",
       "      <td>0.501844</td>\n",
       "      <td>-0.016947</td>\n",
       "      <td>0.439880</td>\n",
       "      <td>0.455054</td>\n",
       "      <td>...</td>\n",
       "      <td>0.002014</td>\n",
       "      <td>0.746492</td>\n",
       "      <td>0.892466</td>\n",
       "      <td>-0.002782</td>\n",
       "      <td>0.960774</td>\n",
       "      <td>0.530812</td>\n",
       "      <td>0.624167</td>\n",
       "      <td>0.850015</td>\n",
       "      <td>-0.991953</td>\n",
       "      <td>0.997865</td>\n",
       "    </tr>\n",
       "    <tr>\n",
       "      <th>34</th>\n",
       "      <td>0.796453</td>\n",
       "      <td>0.659292</td>\n",
       "      <td>-0.002183</td>\n",
       "      <td>0.485330</td>\n",
       "      <td>0.809386</td>\n",
       "      <td>0.826542</td>\n",
       "      <td>0.677770</td>\n",
       "      <td>-0.002931</td>\n",
       "      <td>0.427790</td>\n",
       "      <td>0.885709</td>\n",
       "      <td>...</td>\n",
       "      <td>0.126475</td>\n",
       "      <td>0.702607</td>\n",
       "      <td>0.508748</td>\n",
       "      <td>0.073948</td>\n",
       "      <td>0.407422</td>\n",
       "      <td>0.750164</td>\n",
       "      <td>0.485404</td>\n",
       "      <td>0.609409</td>\n",
       "      <td>-0.441117</td>\n",
       "      <td>0.465272</td>\n",
       "    </tr>\n",
       "    <tr>\n",
       "      <th>35</th>\n",
       "      <td>0.682118</td>\n",
       "      <td>0.699170</td>\n",
       "      <td>0.009554</td>\n",
       "      <td>0.576897</td>\n",
       "      <td>0.610371</td>\n",
       "      <td>0.690241</td>\n",
       "      <td>0.714288</td>\n",
       "      <td>-0.008847</td>\n",
       "      <td>0.532778</td>\n",
       "      <td>0.606735</td>\n",
       "      <td>...</td>\n",
       "      <td>0.099807</td>\n",
       "      <td>0.996938</td>\n",
       "      <td>0.913813</td>\n",
       "      <td>0.087306</td>\n",
       "      <td>0.768638</td>\n",
       "      <td>0.886147</td>\n",
       "      <td>0.769554</td>\n",
       "      <td>0.968890</td>\n",
       "      <td>-0.759145</td>\n",
       "      <td>0.757428</td>\n",
       "    </tr>\n",
       "    <tr>\n",
       "      <th>36</th>\n",
       "      <td>0.573386</td>\n",
       "      <td>0.633029</td>\n",
       "      <td>0.004659</td>\n",
       "      <td>0.528060</td>\n",
       "      <td>0.495308</td>\n",
       "      <td>0.582841</td>\n",
       "      <td>0.645357</td>\n",
       "      <td>-0.014051</td>\n",
       "      <td>0.497235</td>\n",
       "      <td>0.499518</td>\n",
       "      <td>...</td>\n",
       "      <td>0.052440</td>\n",
       "      <td>0.949490</td>\n",
       "      <td>0.984120</td>\n",
       "      <td>0.053599</td>\n",
       "      <td>0.861313</td>\n",
       "      <td>0.767345</td>\n",
       "      <td>0.765196</td>\n",
       "      <td>0.997385</td>\n",
       "      <td>-0.875718</td>\n",
       "      <td>0.862734</td>\n",
       "    </tr>\n",
       "    <tr>\n",
       "      <th>37</th>\n",
       "      <td>NaN</td>\n",
       "      <td>NaN</td>\n",
       "      <td>NaN</td>\n",
       "      <td>NaN</td>\n",
       "      <td>NaN</td>\n",
       "      <td>NaN</td>\n",
       "      <td>NaN</td>\n",
       "      <td>NaN</td>\n",
       "      <td>NaN</td>\n",
       "      <td>NaN</td>\n",
       "      <td>...</td>\n",
       "      <td>NaN</td>\n",
       "      <td>NaN</td>\n",
       "      <td>NaN</td>\n",
       "      <td>NaN</td>\n",
       "      <td>NaN</td>\n",
       "      <td>NaN</td>\n",
       "      <td>NaN</td>\n",
       "      <td>NaN</td>\n",
       "      <td>NaN</td>\n",
       "      <td>NaN</td>\n",
       "    </tr>\n",
       "    <tr>\n",
       "      <th>38</th>\n",
       "      <td>0.464461</td>\n",
       "      <td>0.489849</td>\n",
       "      <td>-0.003562</td>\n",
       "      <td>0.456123</td>\n",
       "      <td>0.427467</td>\n",
       "      <td>0.480703</td>\n",
       "      <td>0.502778</td>\n",
       "      <td>-0.016854</td>\n",
       "      <td>0.441195</td>\n",
       "      <td>0.454861</td>\n",
       "      <td>...</td>\n",
       "      <td>0.002075</td>\n",
       "      <td>0.746377</td>\n",
       "      <td>0.892738</td>\n",
       "      <td>-0.002693</td>\n",
       "      <td>0.960997</td>\n",
       "      <td>0.530275</td>\n",
       "      <td>0.620604</td>\n",
       "      <td>0.849873</td>\n",
       "      <td>-0.992312</td>\n",
       "      <td>0.997768</td>\n",
       "    </tr>\n",
       "    <tr>\n",
       "      <th>39</th>\n",
       "      <td>0.004591</td>\n",
       "      <td>-0.000069</td>\n",
       "      <td>0.022875</td>\n",
       "      <td>-0.010974</td>\n",
       "      <td>0.009122</td>\n",
       "      <td>0.004753</td>\n",
       "      <td>0.001105</td>\n",
       "      <td>-0.000471</td>\n",
       "      <td>-0.012169</td>\n",
       "      <td>-0.003436</td>\n",
       "      <td>...</td>\n",
       "      <td>1.000000</td>\n",
       "      <td>0.094975</td>\n",
       "      <td>0.053643</td>\n",
       "      <td>0.257515</td>\n",
       "      <td>0.008815</td>\n",
       "      <td>0.116719</td>\n",
       "      <td>-0.011791</td>\n",
       "      <td>0.053841</td>\n",
       "      <td>-0.003923</td>\n",
       "      <td>-0.000605</td>\n",
       "    </tr>\n",
       "    <tr>\n",
       "      <th>40</th>\n",
       "      <td>0.676312</td>\n",
       "      <td>0.695246</td>\n",
       "      <td>0.013064</td>\n",
       "      <td>0.569128</td>\n",
       "      <td>0.599619</td>\n",
       "      <td>0.682281</td>\n",
       "      <td>0.709332</td>\n",
       "      <td>-0.010592</td>\n",
       "      <td>0.525983</td>\n",
       "      <td>0.593770</td>\n",
       "      <td>...</td>\n",
       "      <td>0.094975</td>\n",
       "      <td>1.000000</td>\n",
       "      <td>0.901928</td>\n",
       "      <td>0.097736</td>\n",
       "      <td>0.755250</td>\n",
       "      <td>0.903502</td>\n",
       "      <td>0.755385</td>\n",
       "      <td>0.962965</td>\n",
       "      <td>-0.742125</td>\n",
       "      <td>0.741895</td>\n",
       "    </tr>\n",
       "    <tr>\n",
       "      <th>41</th>\n",
       "      <td>0.535100</td>\n",
       "      <td>0.604857</td>\n",
       "      <td>-0.000422</td>\n",
       "      <td>0.521621</td>\n",
       "      <td>0.462603</td>\n",
       "      <td>0.543814</td>\n",
       "      <td>0.616270</td>\n",
       "      <td>-0.016586</td>\n",
       "      <td>0.498073</td>\n",
       "      <td>0.461795</td>\n",
       "      <td>...</td>\n",
       "      <td>0.053643</td>\n",
       "      <td>0.901928</td>\n",
       "      <td>1.000000</td>\n",
       "      <td>0.003157</td>\n",
       "      <td>0.902485</td>\n",
       "      <td>0.673920</td>\n",
       "      <td>0.732504</td>\n",
       "      <td>0.971066</td>\n",
       "      <td>-0.898692</td>\n",
       "      <td>0.886837</td>\n",
       "    </tr>\n",
       "    <tr>\n",
       "      <th>42</th>\n",
       "      <td>0.008172</td>\n",
       "      <td>-0.005998</td>\n",
       "      <td>0.081603</td>\n",
       "      <td>-0.015137</td>\n",
       "      <td>0.014236</td>\n",
       "      <td>0.006386</td>\n",
       "      <td>0.002467</td>\n",
       "      <td>-0.000610</td>\n",
       "      <td>-0.014870</td>\n",
       "      <td>0.002716</td>\n",
       "      <td>...</td>\n",
       "      <td>0.257515</td>\n",
       "      <td>0.097736</td>\n",
       "      <td>0.003157</td>\n",
       "      <td>1.000000</td>\n",
       "      <td>-0.002657</td>\n",
       "      <td>0.132213</td>\n",
       "      <td>0.075397</td>\n",
       "      <td>0.063990</td>\n",
       "      <td>0.000258</td>\n",
       "      <td>-0.003113</td>\n",
       "    </tr>\n",
       "    <tr>\n",
       "      <th>43</th>\n",
       "      <td>0.474527</td>\n",
       "      <td>0.518617</td>\n",
       "      <td>-0.006324</td>\n",
       "      <td>0.525901</td>\n",
       "      <td>0.426797</td>\n",
       "      <td>0.481940</td>\n",
       "      <td>0.531006</td>\n",
       "      <td>-0.016128</td>\n",
       "      <td>0.510052</td>\n",
       "      <td>0.420015</td>\n",
       "      <td>...</td>\n",
       "      <td>0.008815</td>\n",
       "      <td>0.755250</td>\n",
       "      <td>0.902485</td>\n",
       "      <td>-0.002657</td>\n",
       "      <td>1.000000</td>\n",
       "      <td>0.521095</td>\n",
       "      <td>0.621579</td>\n",
       "      <td>0.839647</td>\n",
       "      <td>-0.950269</td>\n",
       "      <td>0.958728</td>\n",
       "    </tr>\n",
       "    <tr>\n",
       "      <th>44</th>\n",
       "      <td>0.663158</td>\n",
       "      <td>0.630570</td>\n",
       "      <td>0.025694</td>\n",
       "      <td>0.483146</td>\n",
       "      <td>0.602223</td>\n",
       "      <td>0.667564</td>\n",
       "      <td>0.645768</td>\n",
       "      <td>-0.005203</td>\n",
       "      <td>0.427722</td>\n",
       "      <td>0.594687</td>\n",
       "      <td>...</td>\n",
       "      <td>0.116719</td>\n",
       "      <td>0.903502</td>\n",
       "      <td>0.673920</td>\n",
       "      <td>0.132213</td>\n",
       "      <td>0.521095</td>\n",
       "      <td>1.000000</td>\n",
       "      <td>0.609072</td>\n",
       "      <td>0.800979</td>\n",
       "      <td>-0.523436</td>\n",
       "      <td>0.528742</td>\n",
       "    </tr>\n",
       "    <tr>\n",
       "      <th>45</th>\n",
       "      <td>0.462910</td>\n",
       "      <td>0.506877</td>\n",
       "      <td>0.004179</td>\n",
       "      <td>0.453277</td>\n",
       "      <td>0.396297</td>\n",
       "      <td>0.472375</td>\n",
       "      <td>0.513447</td>\n",
       "      <td>-0.010875</td>\n",
       "      <td>0.412330</td>\n",
       "      <td>0.406728</td>\n",
       "      <td>...</td>\n",
       "      <td>-0.011791</td>\n",
       "      <td>0.755385</td>\n",
       "      <td>0.732504</td>\n",
       "      <td>0.075397</td>\n",
       "      <td>0.621579</td>\n",
       "      <td>0.609072</td>\n",
       "      <td>1.000000</td>\n",
       "      <td>0.772440</td>\n",
       "      <td>-0.634619</td>\n",
       "      <td>0.616841</td>\n",
       "    </tr>\n",
       "    <tr>\n",
       "      <th>46</th>\n",
       "      <td>0.588045</td>\n",
       "      <td>0.640441</td>\n",
       "      <td>0.007439</td>\n",
       "      <td>0.527221</td>\n",
       "      <td>0.509220</td>\n",
       "      <td>0.597371</td>\n",
       "      <td>0.653376</td>\n",
       "      <td>-0.013276</td>\n",
       "      <td>0.494242</td>\n",
       "      <td>0.514198</td>\n",
       "      <td>...</td>\n",
       "      <td>0.053841</td>\n",
       "      <td>0.962965</td>\n",
       "      <td>0.971066</td>\n",
       "      <td>0.063990</td>\n",
       "      <td>0.839647</td>\n",
       "      <td>0.800979</td>\n",
       "      <td>0.772440</td>\n",
       "      <td>1.000000</td>\n",
       "      <td>-0.857715</td>\n",
       "      <td>0.845508</td>\n",
       "    </tr>\n",
       "    <tr>\n",
       "      <th>47</th>\n",
       "      <td>-0.430831</td>\n",
       "      <td>-0.467591</td>\n",
       "      <td>0.004175</td>\n",
       "      <td>-0.438498</td>\n",
       "      <td>-0.388761</td>\n",
       "      <td>-0.445644</td>\n",
       "      <td>-0.479324</td>\n",
       "      <td>0.017567</td>\n",
       "      <td>-0.422374</td>\n",
       "      <td>-0.412661</td>\n",
       "      <td>...</td>\n",
       "      <td>-0.003923</td>\n",
       "      <td>-0.742125</td>\n",
       "      <td>-0.898692</td>\n",
       "      <td>0.000258</td>\n",
       "      <td>-0.950269</td>\n",
       "      <td>-0.523436</td>\n",
       "      <td>-0.634619</td>\n",
       "      <td>-0.857715</td>\n",
       "      <td>1.000000</td>\n",
       "      <td>-0.988104</td>\n",
       "    </tr>\n",
       "    <tr>\n",
       "      <th>48</th>\n",
       "      <td>0.456317</td>\n",
       "      <td>0.483224</td>\n",
       "      <td>-0.002759</td>\n",
       "      <td>0.454094</td>\n",
       "      <td>0.418736</td>\n",
       "      <td>0.471862</td>\n",
       "      <td>0.496025</td>\n",
       "      <td>-0.016801</td>\n",
       "      <td>0.439828</td>\n",
       "      <td>0.443905</td>\n",
       "      <td>...</td>\n",
       "      <td>-0.000605</td>\n",
       "      <td>0.741895</td>\n",
       "      <td>0.886837</td>\n",
       "      <td>-0.003113</td>\n",
       "      <td>0.958728</td>\n",
       "      <td>0.528742</td>\n",
       "      <td>0.616841</td>\n",
       "      <td>0.845508</td>\n",
       "      <td>-0.988104</td>\n",
       "      <td>1.000000</td>\n",
       "    </tr>\n",
       "  </tbody>\n",
       "</table>\n",
       "<p>49 rows × 49 columns</p>\n",
       "</div>"
      ],
      "text/plain": [
       "          0         1         2         3         4         5         6   \\\n",
       "0   1.000000  0.926063  0.153651  0.852126  0.973861  0.996860  0.941574   \n",
       "1   0.926063  1.000000  0.062471  0.923558  0.826808  0.913370  0.991400   \n",
       "2   0.153651  0.062471  1.000000  0.022318  0.182835  0.145746  0.101145   \n",
       "3   0.852126  0.923558  0.022318  1.000000  0.765456  0.825913  0.913739   \n",
       "4   0.973861  0.826808  0.182835  0.765456  1.000000  0.977636  0.854387   \n",
       "5   0.996860  0.913370  0.145746  0.825913  0.977636  1.000000  0.931110   \n",
       "6   0.941574  0.991400  0.101145  0.913739  0.854387  0.931110  1.000000   \n",
       "7   0.091091  0.017353  0.749392  0.005770  0.126099  0.088670  0.046142   \n",
       "8   0.795670  0.876339  0.015544  0.959883  0.704929  0.770021  0.889602   \n",
       "9   0.921001  0.753083  0.198764  0.644830  0.960397  0.941931  0.774960   \n",
       "10  0.998910  0.921654  0.163347  0.842279  0.976374  0.998416  0.939649   \n",
       "11  0.948900  0.990792  0.100018  0.910829  0.865819  0.938987  0.999204   \n",
       "12       NaN       NaN       NaN       NaN       NaN       NaN       NaN   \n",
       "13  0.798356  0.876771  0.015885  0.958002  0.708806  0.772321  0.889656   \n",
       "14  0.912333  0.737123  0.330681  0.650961  0.959002  0.927879  0.763252   \n",
       "15  0.997132  0.933183  0.176489  0.870504  0.965107  0.989112  0.949489   \n",
       "16  0.886327  0.989963  0.075559  0.929035  0.771987  0.865190  0.978083   \n",
       "17  0.153651  0.062471  1.000000  0.022318  0.182835  0.145746  0.101145   \n",
       "18  0.780321  0.869797  0.028947  0.976835  0.687418  0.746937  0.867226   \n",
       "19  0.972425  0.825945  0.192662  0.773967  0.998351  0.974588  0.855885   \n",
       "20  0.884921  0.764599  0.004579  0.627370  0.891465  0.913965  0.778770   \n",
       "21  0.955116  0.984167  0.114149  0.907548  0.877636  0.944309  0.997582   \n",
       "22 -0.721287 -0.823586 -0.017834 -0.892489 -0.619366 -0.692541 -0.838444   \n",
       "23  0.795747  0.873344  0.011128  0.956209  0.706182  0.769160  0.886642   \n",
       "24 -0.148094 -0.138621 -0.060933 -0.295480 -0.154828 -0.119232 -0.150337   \n",
       "25  0.672064  0.693496  0.011381  0.570603  0.595227  0.678539  0.707537   \n",
       "26  0.532711  0.603383 -0.001730  0.520431  0.460762  0.542642  0.615050   \n",
       "27  0.008172 -0.005998  0.081603 -0.015137  0.014236  0.006386  0.002467   \n",
       "28  0.492159  0.531043 -0.007650  0.526028  0.445144  0.502260  0.544298   \n",
       "29  0.697688  0.687640  0.014956  0.566688  0.629807  0.702291  0.702422   \n",
       "30  0.677702  0.696667  0.009348  0.577020  0.605300  0.686019  0.711456   \n",
       "31  0.568854  0.628847  0.005128  0.524507  0.491229  0.578501  0.641323   \n",
       "32       NaN       NaN       NaN       NaN       NaN       NaN       NaN   \n",
       "33  0.463991  0.488819 -0.003694  0.454906  0.427292  0.480344  0.501844   \n",
       "34  0.796453  0.659292 -0.002183  0.485330  0.809386  0.826542  0.677770   \n",
       "35  0.682118  0.699170  0.009554  0.576897  0.610371  0.690241  0.714288   \n",
       "36  0.573386  0.633029  0.004659  0.528060  0.495308  0.582841  0.645357   \n",
       "37       NaN       NaN       NaN       NaN       NaN       NaN       NaN   \n",
       "38  0.464461  0.489849 -0.003562  0.456123  0.427467  0.480703  0.502778   \n",
       "39  0.004591 -0.000069  0.022875 -0.010974  0.009122  0.004753  0.001105   \n",
       "40  0.676312  0.695246  0.013064  0.569128  0.599619  0.682281  0.709332   \n",
       "41  0.535100  0.604857 -0.000422  0.521621  0.462603  0.543814  0.616270   \n",
       "42  0.008172 -0.005998  0.081603 -0.015137  0.014236  0.006386  0.002467   \n",
       "43  0.474527  0.518617 -0.006324  0.525901  0.426797  0.481940  0.531006   \n",
       "44  0.663158  0.630570  0.025694  0.483146  0.602223  0.667564  0.645768   \n",
       "45  0.462910  0.506877  0.004179  0.453277  0.396297  0.472375  0.513447   \n",
       "46  0.588045  0.640441  0.007439  0.527221  0.509220  0.597371  0.653376   \n",
       "47 -0.430831 -0.467591  0.004175 -0.438498 -0.388761 -0.445644 -0.479324   \n",
       "48  0.456317  0.483224 -0.002759  0.454094  0.418736  0.471862  0.496025   \n",
       "\n",
       "          7         8         9     ...           39        40        41  \\\n",
       "0   0.091091  0.795670  0.921001    ...     0.004591  0.676312  0.535100   \n",
       "1   0.017353  0.876339  0.753083    ...    -0.000069  0.695246  0.604857   \n",
       "2   0.749392  0.015544  0.198764    ...     0.022875  0.013064 -0.000422   \n",
       "3   0.005770  0.959883  0.644830    ...    -0.010974  0.569128  0.521621   \n",
       "4   0.126099  0.704929  0.960397    ...     0.009122  0.599619  0.462603   \n",
       "5   0.088670  0.770021  0.941931    ...     0.004753  0.682281  0.543814   \n",
       "6   0.046142  0.889602  0.774960    ...     0.001105  0.709332  0.616270   \n",
       "7   1.000000  0.000688  0.155860    ...    -0.000471 -0.010592 -0.016586   \n",
       "8   0.000688  1.000000  0.570294    ...    -0.012169  0.525983  0.498073   \n",
       "9   0.155860  0.570294  1.000000    ...    -0.003436  0.593770  0.461795   \n",
       "10  0.098823  0.787987  0.929050    ...     0.006207  0.679039  0.543851   \n",
       "11  0.046342  0.883876  0.789400    ...     0.001021  0.712068  0.615905   \n",
       "12       NaN       NaN       NaN    ...          NaN       NaN       NaN   \n",
       "13  0.000807  0.998519  0.573242    ...    -0.012079  0.523391  0.494617   \n",
       "14  0.256335  0.577184  0.984173    ...    -0.002319  0.540537  0.427047   \n",
       "15  0.104824  0.819430  0.896087    ...     0.006890  0.668139  0.530613   \n",
       "16  0.018435  0.889525  0.674114    ...     0.002013  0.666854  0.589403   \n",
       "17  0.749392  0.015544  0.198764    ...     0.022875  0.013064 -0.000422   \n",
       "18  0.008254  0.971377  0.536040    ...    -0.009757  0.510822  0.487258   \n",
       "19  0.139433  0.718524  0.952332    ...     0.011356  0.595389  0.460704   \n",
       "20  0.006799  0.565389  0.943045    ...    -0.006197  0.639174  0.490551   \n",
       "21  0.058211  0.885568  0.796629    ...     0.001138  0.709245  0.606516   \n",
       "22  0.000583 -0.970233 -0.481833    ...     0.014055 -0.449232 -0.426008   \n",
       "23  0.000464  0.997502  0.568962    ...    -0.012022  0.520331  0.486349   \n",
       "24 -0.215008 -0.292556 -0.068713    ...    -0.002160 -0.073580 -0.053215   \n",
       "25 -0.009365  0.527232  0.590386    ...     0.087854  0.999129  0.907407   \n",
       "26 -0.015901  0.495754  0.463262    ...     0.049943  0.900350  0.997712   \n",
       "27 -0.000610 -0.014870  0.002716    ...     0.257515  0.097736  0.003157   \n",
       "28 -0.016198  0.509423  0.448072    ...     0.006574  0.773295  0.908420   \n",
       "29 -0.004235  0.512936  0.619161    ...     0.090126  0.952514  0.769667   \n",
       "30 -0.009094  0.532499  0.602493    ...     0.094194  0.995407  0.914915   \n",
       "31 -0.014321  0.493850  0.495840    ...     0.052648  0.947048  0.984100   \n",
       "32       NaN       NaN       NaN    ...          NaN       NaN       NaN   \n",
       "33 -0.016947  0.439880  0.455054    ...     0.002014  0.746492  0.892466   \n",
       "34 -0.002931  0.427790  0.885709    ...     0.126475  0.702607  0.508748   \n",
       "35 -0.008847  0.532778  0.606735    ...     0.099807  0.996938  0.913813   \n",
       "36 -0.014051  0.497235  0.499518    ...     0.052440  0.949490  0.984120   \n",
       "37       NaN       NaN       NaN    ...          NaN       NaN       NaN   \n",
       "38 -0.016854  0.441195  0.454861    ...     0.002075  0.746377  0.892738   \n",
       "39 -0.000471 -0.012169 -0.003436    ...     1.000000  0.094975  0.053643   \n",
       "40 -0.010592  0.525983  0.593770    ...     0.094975  1.000000  0.901928   \n",
       "41 -0.016586  0.498073  0.461795    ...     0.053643  0.901928  1.000000   \n",
       "42 -0.000610 -0.014870  0.002716    ...     0.257515  0.097736  0.003157   \n",
       "43 -0.016128  0.510052  0.420015    ...     0.008815  0.755250  0.902485   \n",
       "44 -0.005203  0.427722  0.594687    ...     0.116719  0.903502  0.673920   \n",
       "45 -0.010875  0.412330  0.406728    ...    -0.011791  0.755385  0.732504   \n",
       "46 -0.013276  0.494242  0.514198    ...     0.053841  0.962965  0.971066   \n",
       "47  0.017567 -0.422374 -0.412661    ...    -0.003923 -0.742125 -0.898692   \n",
       "48 -0.016801  0.439828  0.443905    ...    -0.000605  0.741895  0.886837   \n",
       "\n",
       "          42        43        44        45        46        47        48  \n",
       "0   0.008172  0.474527  0.663158  0.462910  0.588045 -0.430831  0.456317  \n",
       "1  -0.005998  0.518617  0.630570  0.506877  0.640441 -0.467591  0.483224  \n",
       "2   0.081603 -0.006324  0.025694  0.004179  0.007439  0.004175 -0.002759  \n",
       "3  -0.015137  0.525901  0.483146  0.453277  0.527221 -0.438498  0.454094  \n",
       "4   0.014236  0.426797  0.602223  0.396297  0.509220 -0.388761  0.418736  \n",
       "5   0.006386  0.481940  0.667564  0.472375  0.597371 -0.445644  0.471862  \n",
       "6   0.002467  0.531006  0.645768  0.513447  0.653376 -0.479324  0.496025  \n",
       "7  -0.000610 -0.016128 -0.005203 -0.010875 -0.013276  0.017567 -0.016801  \n",
       "8  -0.014870  0.510052  0.427722  0.412330  0.494242 -0.422374  0.439828  \n",
       "9   0.002716  0.420015  0.594687  0.406728  0.514198 -0.412661  0.443905  \n",
       "10  0.008290  0.483601  0.661142  0.468601  0.594326 -0.441311  0.466921  \n",
       "11  0.002326  0.532135  0.650181  0.511528  0.653934 -0.480789  0.498361  \n",
       "12       NaN       NaN       NaN       NaN       NaN       NaN       NaN  \n",
       "13 -0.014751  0.510003  0.423204  0.405816  0.490376 -0.419913  0.438274  \n",
       "14  0.008819  0.401184  0.532501  0.371097  0.466488 -0.381998  0.412942  \n",
       "15  0.010984  0.472999  0.652206  0.455220  0.579477 -0.420081  0.444568  \n",
       "16 -0.004355  0.505682  0.593991  0.485214  0.615332 -0.441205  0.453157  \n",
       "17  0.081603 -0.006324  0.025694  0.004179  0.007439  0.004175 -0.002759  \n",
       "18 -0.013859  0.509723  0.405322  0.408410  0.473891 -0.393361  0.405911  \n",
       "19  0.016246  0.430289  0.596682  0.392711  0.504891 -0.386719  0.416504  \n",
       "20 -0.007977  0.422984  0.648831  0.453563  0.561112 -0.433467  0.461515  \n",
       "21  0.005276  0.524045  0.652759  0.505066  0.647034 -0.471815  0.490245  \n",
       "22  0.015695 -0.431373 -0.361271 -0.332248 -0.424001  0.362734 -0.382041  \n",
       "23 -0.014499  0.498507  0.420501  0.406205  0.483659 -0.405964  0.425323  \n",
       "24 -0.045609 -0.086500 -0.065120 -0.004250 -0.045058  0.019168 -0.017887  \n",
       "25  0.092250  0.760004  0.894302  0.770930  0.966916 -0.749421  0.747860  \n",
       "26  0.004416  0.897223  0.670300  0.750526  0.972434 -0.900023  0.887737  \n",
       "27  1.000000 -0.002657  0.132213  0.075397  0.063990  0.000258 -0.003113  \n",
       "28 -0.003707  0.994108  0.544843  0.643162  0.855526 -0.956948  0.969658  \n",
       "29  0.101630  0.643205  0.944734  0.714840  0.868386 -0.616351  0.615905  \n",
       "30  0.087750  0.769905  0.880891  0.794410  0.969795 -0.761690  0.758946  \n",
       "31  0.051724  0.861483  0.763310  0.777135  0.997045 -0.876211  0.863177  \n",
       "32       NaN       NaN       NaN       NaN       NaN       NaN       NaN  \n",
       "33 -0.002782  0.960774  0.530812  0.624167  0.850015 -0.991953  0.997865  \n",
       "34  0.073948  0.407422  0.750164  0.485404  0.609409 -0.441117  0.465272  \n",
       "35  0.087306  0.768638  0.886147  0.769554  0.968890 -0.759145  0.757428  \n",
       "36  0.053599  0.861313  0.767345  0.765196  0.997385 -0.875718  0.862734  \n",
       "37       NaN       NaN       NaN       NaN       NaN       NaN       NaN  \n",
       "38 -0.002693  0.960997  0.530275  0.620604  0.849873 -0.992312  0.997768  \n",
       "39  0.257515  0.008815  0.116719 -0.011791  0.053841 -0.003923 -0.000605  \n",
       "40  0.097736  0.755250  0.903502  0.755385  0.962965 -0.742125  0.741895  \n",
       "41  0.003157  0.902485  0.673920  0.732504  0.971066 -0.898692  0.886837  \n",
       "42  1.000000 -0.002657  0.132213  0.075397  0.063990  0.000258 -0.003113  \n",
       "43 -0.002657  1.000000  0.521095  0.621579  0.839647 -0.950269  0.958728  \n",
       "44  0.132213  0.521095  1.000000  0.609072  0.800979 -0.523436  0.528742  \n",
       "45  0.075397  0.621579  0.609072  1.000000  0.772440 -0.634619  0.616841  \n",
       "46  0.063990  0.839647  0.800979  0.772440  1.000000 -0.857715  0.845508  \n",
       "47  0.000258 -0.950269 -0.523436 -0.634619 -0.857715  1.000000 -0.988104  \n",
       "48 -0.003113  0.958728  0.528742  0.616841  0.845508 -0.988104  1.000000  \n",
       "\n",
       "[49 rows x 49 columns]"
      ]
     },
     "execution_count": 26,
     "metadata": {},
     "output_type": "execute_result"
    }
   ],
   "source": [
    "Indi_Panda.corr()"
   ]
  },
  {
   "cell_type": "markdown",
   "metadata": {},
   "source": [
    "## ACP"
   ]
  },
  {
   "cell_type": "markdown",
   "metadata": {},
   "source": [
    "ACP sur les 50 premières variables (sans les mots, les jours et la variable Y)"
   ]
  },
  {
   "cell_type": "code",
   "execution_count": 28,
   "metadata": {
    "collapsed": true
   },
   "outputs": [],
   "source": [
    "X=scale(Data[:, 1:50])"
   ]
  },
  {
   "cell_type": "code",
   "execution_count": 29,
   "metadata": {
    "collapsed": false
   },
   "outputs": [
    {
     "data": {
      "image/png": "[encoded data removed]",
      "text/plain": [
       "<Figure size 432x288 with 1 Axes>"
      ]
     },
     "metadata": {},
     "output_type": "display_data"
    }
   ],
   "source": [
    "pca = PCA()\n",
    "## Estimation, calcul des composantes principales\n",
    "C = pca.fit(X).transform(X)\n",
    "## Décroissance de la variance expliquée\n",
    "plt.plot(pca.explained_variance_ratio_)\n",
    "plt.show()"
   ]
  },
  {
   "cell_type": "code",
   "execution_count": 30,
   "metadata": {
    "collapsed": false
   },
   "outputs": [
    {
     "data": {
      "image/png": "[encoded data removed]",
      "text/plain": [
       "<Figure size 432x288 with 1 Axes>"
      ]
     },
     "metadata": {},
     "output_type": "display_data"
    }
   ],
   "source": [
    "## distribution des composantes principales\n",
    "plt.boxplot(C[:,0:20])\n",
    "plt.show()"
   ]
  },
  {
   "cell_type": "code",
   "execution_count": null,
   "metadata": {
    "collapsed": true
   },
   "outputs": [
    {
     "ename": "KeyboardInterrupt",
     "evalue": "",
     "output_type": "error",
     "traceback": [
      "\u001b[0;31m-----------------------------------------------------------------------\u001b[0m",
      "\u001b[0;31mKeyboardInterrupt\u001b[0m                     Traceback (most recent call last)",
      "\u001b[0;32m<ipython-input-31-767629c79ff3>\u001b[0m in \u001b[0;36m<module>\u001b[0;34m()\u001b[0m\n\u001b[1;32m      9\u001b[0m     \u001b[0;32melif\u001b[0m \u001b[0mnom\u001b[0m\u001b[0;34m==\u001b[0m\u001b[0;34m\"SupQuant\"\u001b[0m\u001b[0;34m:\u001b[0m\u001b[0;34m\u001b[0m\u001b[0m\n\u001b[1;32m     10\u001b[0m         \u001b[0mcolor\u001b[0m\u001b[0;34m=\u001b[0m\u001b[0;34m\"g\"\u001b[0m\u001b[0;34m\u001b[0m\u001b[0m\n\u001b[0;32m---> 11\u001b[0;31m     \u001b[0mplt\u001b[0m\u001b[0;34m.\u001b[0m\u001b[0mplot\u001b[0m\u001b[0;34m(\u001b[0m\u001b[0mi\u001b[0m\u001b[0;34m,\u001b[0m \u001b[0mj\u001b[0m\u001b[0;34m,\u001b[0m \u001b[0;34m\"o\"\u001b[0m\u001b[0;34m,\u001b[0m\u001b[0mcolor\u001b[0m\u001b[0;34m=\u001b[0m\u001b[0mcolor\u001b[0m\u001b[0;34m)\u001b[0m\u001b[0;34m\u001b[0m\u001b[0m\n\u001b[0m\u001b[1;32m     12\u001b[0m \u001b[0mplt\u001b[0m\u001b[0;34m.\u001b[0m\u001b[0maxis\u001b[0m\u001b[0;34m(\u001b[0m\u001b[0;34m(\u001b[0m\u001b[0;34m-\u001b[0m\u001b[0;36m4\u001b[0m\u001b[0;34m,\u001b[0m\u001b[0;36m6\u001b[0m\u001b[0;34m,\u001b[0m\u001b[0;34m-\u001b[0m\u001b[0;36m4\u001b[0m\u001b[0;34m,\u001b[0m\u001b[0;36m6\u001b[0m\u001b[0;34m)\u001b[0m\u001b[0;34m)\u001b[0m\u001b[0;34m\u001b[0m\u001b[0m\n\u001b[1;32m     13\u001b[0m \u001b[0mplt\u001b[0m\u001b[0;34m.\u001b[0m\u001b[0mshow\u001b[0m\u001b[0;34m(\u001b[0m\u001b[0;34m)\u001b[0m\u001b[0;34m\u001b[0m\u001b[0m\n",
      "\u001b[0;32m/usr/local/insa/anaconda/envs/GPU/lib/python3.6/site-packages/matplotlib/pyplot.py\u001b[0m in \u001b[0;36mplot\u001b[0;34m(*args, **kwargs)\u001b[0m\n\u001b[1;32m   3356\u001b[0m                       mplDeprecation)\n\u001b[1;32m   3357\u001b[0m     \u001b[0;32mtry\u001b[0m\u001b[0;34m:\u001b[0m\u001b[0;34m\u001b[0m\u001b[0m\n\u001b[0;32m-> 3358\u001b[0;31m         \u001b[0mret\u001b[0m \u001b[0;34m=\u001b[0m \u001b[0max\u001b[0m\u001b[0;34m.\u001b[0m\u001b[0mplot\u001b[0m\u001b[0;34m(\u001b[0m\u001b[0;34m*\u001b[0m\u001b[0margs\u001b[0m\u001b[0;34m,\u001b[0m \u001b[0;34m**\u001b[0m\u001b[0mkwargs\u001b[0m\u001b[0;34m)\u001b[0m\u001b[0;34m\u001b[0m\u001b[0m\n\u001b[0m\u001b[1;32m   3359\u001b[0m     \u001b[0;32mfinally\u001b[0m\u001b[0;34m:\u001b[0m\u001b[0;34m\u001b[0m\u001b[0m\n\u001b[1;32m   3360\u001b[0m         \u001b[0max\u001b[0m\u001b[0;34m.\u001b[0m\u001b[0m_hold\u001b[0m \u001b[0;34m=\u001b[0m \u001b[0mwashold\u001b[0m\u001b[0;34m\u001b[0m\u001b[0m\n",
      "\u001b[0;32m/usr/local/insa/anaconda/envs/GPU/lib/python3.6/site-packages/matplotlib/__init__.py\u001b[0m in \u001b[0;36minner\u001b[0;34m(ax, *args, **kwargs)\u001b[0m\n\u001b[1;32m   1853\u001b[0m                         \u001b[0;34m\"the Matplotlib list!)\"\u001b[0m \u001b[0;34m%\u001b[0m \u001b[0;34m(\u001b[0m\u001b[0mlabel_namer\u001b[0m\u001b[0;34m,\u001b[0m \u001b[0mfunc\u001b[0m\u001b[0;34m.\u001b[0m\u001b[0m__name__\u001b[0m\u001b[0;34m)\u001b[0m\u001b[0;34m,\u001b[0m\u001b[0;34m\u001b[0m\u001b[0m\n\u001b[1;32m   1854\u001b[0m                         RuntimeWarning, stacklevel=2)\n\u001b[0;32m-> 1855\u001b[0;31m             \u001b[0;32mreturn\u001b[0m \u001b[0mfunc\u001b[0m\u001b[0;34m(\u001b[0m\u001b[0max\u001b[0m\u001b[0;34m,\u001b[0m \u001b[0;34m*\u001b[0m\u001b[0margs\u001b[0m\u001b[0;34m,\u001b[0m \u001b[0;34m**\u001b[0m\u001b[0mkwargs\u001b[0m\u001b[0;34m)\u001b[0m\u001b[0;34m\u001b[0m\u001b[0m\n\u001b[0m\u001b[1;32m   1856\u001b[0m \u001b[0;34m\u001b[0m\u001b[0m\n\u001b[1;32m   1857\u001b[0m         inner.__doc__ = _add_data_doc(inner.__doc__,\n",
      "\u001b[0;32m/usr/local/insa/anaconda/envs/GPU/lib/python3.6/site-packages/matplotlib/axes/_axes.py\u001b[0m in \u001b[0;36mplot\u001b[0;34m(self, *args, **kwargs)\u001b[0m\n\u001b[1;32m   1529\u001b[0m             \u001b[0mlines\u001b[0m\u001b[0;34m.\u001b[0m\u001b[0mappend\u001b[0m\u001b[0;34m(\u001b[0m\u001b[0mline\u001b[0m\u001b[0;34m)\u001b[0m\u001b[0;34m\u001b[0m\u001b[0m\n\u001b[1;32m   1530\u001b[0m \u001b[0;34m\u001b[0m\u001b[0m\n\u001b[0;32m-> 1531\u001b[0;31m         \u001b[0mself\u001b[0m\u001b[0;34m.\u001b[0m\u001b[0mautoscale_view\u001b[0m\u001b[0;34m(\u001b[0m\u001b[0mscalex\u001b[0m\u001b[0;34m=\u001b[0m\u001b[0mscalex\u001b[0m\u001b[0;34m,\u001b[0m \u001b[0mscaley\u001b[0m\u001b[0;34m=\u001b[0m\u001b[0mscaley\u001b[0m\u001b[0;34m)\u001b[0m\u001b[0;34m\u001b[0m\u001b[0m\n\u001b[0m\u001b[1;32m   1532\u001b[0m         \u001b[0;32mreturn\u001b[0m \u001b[0mlines\u001b[0m\u001b[0;34m\u001b[0m\u001b[0m\n\u001b[1;32m   1533\u001b[0m \u001b[0;34m\u001b[0m\u001b[0m\n",
      "\u001b[0;32m/usr/local/insa/anaconda/envs/GPU/lib/python3.6/site-packages/matplotlib/axes/_base.py\u001b[0m in \u001b[0;36mautoscale_view\u001b[0;34m(self, tight, scalex, scaley)\u001b[0m\n\u001b[1;32m   2447\u001b[0m         \u001b[0;32mif\u001b[0m \u001b[0mself\u001b[0m\u001b[0;34m.\u001b[0m\u001b[0muse_sticky_edges\u001b[0m \u001b[0;32mand\u001b[0m \u001b[0;34m(\u001b[0m\u001b[0mself\u001b[0m\u001b[0;34m.\u001b[0m\u001b[0m_xmargin\u001b[0m \u001b[0;32mor\u001b[0m \u001b[0mself\u001b[0m\u001b[0;34m.\u001b[0m\u001b[0m_ymargin\u001b[0m\u001b[0;34m)\u001b[0m\u001b[0;34m:\u001b[0m\u001b[0;34m\u001b[0m\u001b[0m\n\u001b[1;32m   2448\u001b[0m             \u001b[0mstickies\u001b[0m \u001b[0;34m=\u001b[0m \u001b[0;34m[\u001b[0m\u001b[0martist\u001b[0m\u001b[0;34m.\u001b[0m\u001b[0msticky_edges\u001b[0m \u001b[0;32mfor\u001b[0m \u001b[0martist\u001b[0m \u001b[0;32min\u001b[0m \u001b[0mself\u001b[0m\u001b[0;34m.\u001b[0m\u001b[0mget_children\u001b[0m\u001b[0;34m(\u001b[0m\u001b[0;34m)\u001b[0m\u001b[0;34m]\u001b[0m\u001b[0;34m\u001b[0m\u001b[0m\n\u001b[0;32m-> 2449\u001b[0;31m             \u001b[0mx_stickies\u001b[0m \u001b[0;34m=\u001b[0m \u001b[0msum\u001b[0m\u001b[0;34m(\u001b[0m\u001b[0;34m[\u001b[0m\u001b[0msticky\u001b[0m\u001b[0;34m.\u001b[0m\u001b[0mx\u001b[0m \u001b[0;32mfor\u001b[0m \u001b[0msticky\u001b[0m \u001b[0;32min\u001b[0m \u001b[0mstickies\u001b[0m\u001b[0;34m]\u001b[0m\u001b[0;34m,\u001b[0m \u001b[0;34m[\u001b[0m\u001b[0;34m]\u001b[0m\u001b[0;34m)\u001b[0m\u001b[0;34m\u001b[0m\u001b[0m\n\u001b[0m\u001b[1;32m   2450\u001b[0m             \u001b[0my_stickies\u001b[0m \u001b[0;34m=\u001b[0m \u001b[0msum\u001b[0m\u001b[0;34m(\u001b[0m\u001b[0;34m[\u001b[0m\u001b[0msticky\u001b[0m\u001b[0;34m.\u001b[0m\u001b[0my\u001b[0m \u001b[0;32mfor\u001b[0m \u001b[0msticky\u001b[0m \u001b[0;32min\u001b[0m \u001b[0mstickies\u001b[0m\u001b[0;34m]\u001b[0m\u001b[0;34m,\u001b[0m \u001b[0;34m[\u001b[0m\u001b[0;34m]\u001b[0m\u001b[0;34m)\u001b[0m\u001b[0;34m\u001b[0m\u001b[0m\n\u001b[1;32m   2451\u001b[0m             \u001b[0;32mif\u001b[0m \u001b[0mself\u001b[0m\u001b[0;34m.\u001b[0m\u001b[0mget_xscale\u001b[0m\u001b[0;34m(\u001b[0m\u001b[0;34m)\u001b[0m\u001b[0;34m.\u001b[0m\u001b[0mlower\u001b[0m\u001b[0;34m(\u001b[0m\u001b[0;34m)\u001b[0m \u001b[0;34m==\u001b[0m \u001b[0;34m'log'\u001b[0m\u001b[0;34m:\u001b[0m\u001b[0;34m\u001b[0m\u001b[0m\n",
      "\u001b[0;31mKeyboardInterrupt\u001b[0m: "
     ]
    }
   ],
   "source": [
    "## Repésentation des individus\n",
    "plt.figure(figsize=(5,5))\n",
    "for i, j, nom in zip(C[:,0], C[:,1], Y_Quali):\n",
    "    color = \"red\"\n",
    "    if nom==\"Equal1\"  :\n",
    "        color=\"blue\"\n",
    "    elif nom==\"InfQuant\":\n",
    "        color=\"y\"\n",
    "    elif nom==\"SupQuant\":\n",
    "        color=\"g\"\n",
    "    plt.plot(i, j, \"o\",color=color)\n",
    "plt.axis((-4,6,-4,6))  \n",
    "plt.show()"
   ]
  },
  {
   "cell_type": "code",
   "execution_count": null,
   "metadata": {
    "collapsed": true
   },
   "outputs": [],
   "source": [
    "## coordonnées et représentation des variables\n",
    "coord1=pca.components_[0]*np.sqrt(pca.explained_variance_[0])\n",
    "coord2=pca.components_[1]*np.sqrt(pca.explained_variance_[1])\n",
    "fig = plt.figure(figsize=(7,7))\n",
    "ax = fig.add_subplot(1, 1, 1)\n",
    "for i, j, nom in zip(coord1,coord2, np.arange(1, 281)):\n",
    "    plt.text(i,j, nom)\n",
    "    plt.arrow(0,0,i,j,color='black')\n",
    "plt.axis((-1.2,1.2,-1.2,1.2))\n",
    "# cercle\n",
    "c=plt.Circle((0,0), radius=1, color='gray', fill=False)\n",
    "ax.add_patch(c)\n",
    "plt.show()"
   ]
  },
  {
   "cell_type": "code",
   "execution_count": null,
   "metadata": {
    "collapsed": true
   },
   "outputs": [],
   "source": [
    "pca.explained_variance_ratio_"
   ]
  },
  {
   "cell_type": "markdown",
   "metadata": {},
   "source": [
    "Même ACP mais avec toutes les variables"
   ]
  },
  {
   "cell_type": "code",
   "execution_count": null,
   "metadata": {
    "collapsed": true
   },
   "outputs": [],
   "source": [
    "X=scale(Data[:, 0:279])"
   ]
  },
  {
   "cell_type": "code",
   "execution_count": null,
   "metadata": {
    "collapsed": true
   },
   "outputs": [],
   "source": [
    "pca = PCA()\n",
    "## Estimation, calcul des composantes principales\n",
    "C = pca.fit(X).transform(X)\n",
    "## Décroissance de la variance expliquée\n",
    "plt.plot(pca.explained_variance_ratio_)\n",
    "plt.show()"
   ]
  },
  {
   "cell_type": "code",
   "execution_count": null,
   "metadata": {
    "collapsed": true
   },
   "outputs": [],
   "source": [
    "## coordonnées et représentation des variables\n",
    "coord1=pca.components_[0]*np.sqrt(pca.explained_variance_[0])\n",
    "coord2=pca.components_[1]*np.sqrt(pca.explained_variance_[1])\n",
    "fig = plt.figure(figsize=(7,7))\n",
    "ax = fig.add_subplot(1, 1, 1)\n",
    "for i, j, nom in zip(coord1,coord2, np.arange(1, 281)):\n",
    "    plt.text(i,j, nom)\n",
    "    plt.arrow(0,0,i,j,color='black')\n",
    "plt.axis((-1.2,1.2,-1.2,1.2))\n",
    "# cercle\n",
    "c=plt.Circle((0,0), radius=1, color='gray', fill=False)\n",
    "ax.add_patch(c)\n",
    "plt.show()"
   ]
  },
  {
   "cell_type": "code",
   "execution_count": null,
   "metadata": {
    "collapsed": true
   },
   "outputs": [],
   "source": [
    "pca.explained_variance_ratio_"
   ]
  },
  {
   "cell_type": "markdown",
   "metadata": {},
   "source": [
    "Cette ACP n'est pas très intéressante car seulement 23% de la variance est expliquée sur 2 variables."
   ]
  },
  {
   "cell_type": "markdown",
   "metadata": {},
   "source": [
    "## Création de l'échantillon test"
   ]
  },
  {
   "cell_type": "markdown",
   "metadata": {},
   "source": [
    "On sélectionne 10% des données, en prenant en compte les proportions de l'échantillon global\n",
    "\n",
    "On aura donc 90% des individus pour l'apprentissage (47157)\n",
    "On aura 10% des invidus pour les tests (5240)"
   ]
  },
  {
   "cell_type": "code",
   "execution_count": 13,
   "metadata": {
    "collapsed": true
   },
   "outputs": [],
   "source": [
    "TailleEchantillonApp=47157\n",
    "TailleEchantillonTest=5240\n",
    "NbCol=np.shape(Data)[1]\n",
    "EchantillonTest=np.zeros((TailleEchantillonTest,NbCol))\n",
    "EchantillonApp=np.zeros((TailleEchantillonApp,NbCol))"
   ]
  },
  {
   "cell_type": "code",
   "execution_count": 14,
   "metadata": {
    "collapsed": true
   },
   "outputs": [],
   "source": [
    "ListeTest=random.sample(range(0, np.shape(Data)[0]), 5240)\n",
    "j=0\n",
    "k=0\n",
    "for i in range(0, np.shape(Data)[0]):\n",
    "    if i in ListeTest:\n",
    "        EchantillonTest[j]=Data[i,:]\n",
    "        j+=1\n",
    "    else :\n",
    "        EchantillonApp[k]=Data[i,:]\n",
    "        k+=1\n",
    "        \n",
    "Ytest=EchantillonTest[:, 280]\n",
    "YApp=EchantillonApp[:,280]"
   ]
  },
  {
   "cell_type": "code",
   "execution_count": 15,
   "metadata": {
    "collapsed": false
   },
   "outputs": [
    {
     "name": "stdout",
     "output_type": "stream",
     "text": [
      "Proportion de 0 dans le vecteur Y de test :  0.6368320610687023\n",
      "Proportion de 0 dans le vecteur Y apprentissage:  0.6408804631337872\n"
     ]
    },
    {
     "data": {
      "text/plain": [
       "DescribeResult(nobs=5240, minmax=(0.0, 1424.0), mean=7.2257633587786261, variance=1714.2053678080867, skewness=15.71029167830309, kurtosis=377.7768713222571)"
      ]
     },
     "execution_count": 15,
     "metadata": {},
     "output_type": "execute_result"
    }
   ],
   "source": [
    "print(\"Proportion de 0 dans le vecteur Y de test : \", 1-(len(Ytest[Ytest!=0])/len(Ytest)))\n",
    "print(\"Proportion de 0 dans le vecteur Y apprentissage: \", 1-(len(YApp[YApp!=0])/len(YApp)))\n",
    "stats.describe(Ytest)"
   ]
  },
  {
   "cell_type": "code",
   "execution_count": 16,
   "metadata": {
    "collapsed": false
   },
   "outputs": [
    {
     "data": {
      "text/plain": [
       "DescribeResult(nobs=47157, minmax=(0.0, 1370.0), mean=6.7134889836079479, variance=1389.301211927592, skewness=12.206094669240324, kurtosis=206.3660506512974)"
      ]
     },
     "execution_count": 16,
     "metadata": {},
     "output_type": "execute_result"
    }
   ],
   "source": [
    "stats.describe(YApp)"
   ]
  },
  {
   "cell_type": "code",
   "execution_count": 17,
   "metadata": {
    "collapsed": true
   },
   "outputs": [],
   "source": [
    "Donnees_Panda=pd.DataFrame(EchantillonTest)"
   ]
  },
  {
   "cell_type": "code",
   "execution_count": 18,
   "metadata": {
    "collapsed": true
   },
   "outputs": [],
   "source": [
    "y_Panda=Donnees_Panda[280]\n",
    "X_Panda=Donnees_Panda.iloc[:,0:280]"
   ]
  },
  {
   "cell_type": "code",
   "execution_count": 19,
   "metadata": {
    "collapsed": true
   },
   "outputs": [],
   "source": [
    "Quantile87=np.percentile(y_Panda.values, 87.5)\n",
    "\n",
    "Y_Quali_Panda=[]\n",
    "\n",
    "for i in range(0, np.shape(y_Panda)[0]):\n",
    "    if y_Panda[i]==0:\n",
    "        Y_Quali_Panda.append(\"Equal0\")\n",
    "    elif y_Panda[i]==1:\n",
    "        Y_Quali_Panda.append(\"Equal1\")\n",
    "    elif y_Panda[i]>1 and y_Panda[i]<Quantile87:\n",
    "        Y_Quali_Panda.append(\"InfQuant\")\n",
    "    elif y_Panda[i]>=Quantile87:\n",
    "        Y_Quali_Panda.append(\"SupQuant\")\n",
    "        \n",
    "y_Quali_Panda=pd.DataFrame(Y_Quali_Panda)"
   ]
  },
  {
   "cell_type": "markdown",
   "metadata": {},
   "source": [
    "## Modèle linéaire avec Lasso"
   ]
  },
  {
   "cell_type": "code",
   "execution_count": 34,
   "metadata": {
    "collapsed": false,
    "scrolled": true
   },
   "outputs": [
    {
     "name": "stderr",
     "output_type": "stream",
     "text": [
      "/usr/local/insa/anaconda/envs/GPU/lib/python3.6/site-packages/sklearn/linear_model/coordinate_descent.py:491: ConvergenceWarning: Objective did not converge. You might want to increase the number of iterations. Fitting data with very small alpha may cause precision problems.\n",
      "  ConvergenceWarning)\n"
     ]
    }
   ],
   "source": [
    "RegLasso=linear_model.Lasso().fit(X_Panda, y_Panda)"
   ]
  },
  {
   "cell_type": "code",
   "execution_count": 35,
   "metadata": {
    "collapsed": true
   },
   "outputs": [],
   "source": [
    "coefs_lasso=RegLasso.coef_"
   ]
  },
  {
   "cell_type": "code",
   "execution_count": 36,
   "metadata": {
    "collapsed": false
   },
   "outputs": [
    {
     "name": "stderr",
     "output_type": "stream",
     "text": [
      "/usr/local/insa/anaconda/envs/GPU/lib/python3.6/site-packages/sklearn/linear_model/coordinate_descent.py:491: ConvergenceWarning: Objective did not converge. You might want to increase the number of iterations. Fitting data with very small alpha may cause precision problems.\n",
      "  ConvergenceWarning)\n",
      "/usr/local/insa/anaconda/envs/GPU/lib/python3.6/site-packages/sklearn/linear_model/coordinate_descent.py:491: ConvergenceWarning: Objective did not converge. You might want to increase the number of iterations. Fitting data with very small alpha may cause precision problems.\n",
      "  ConvergenceWarning)\n",
      "/usr/local/insa/anaconda/envs/GPU/lib/python3.6/site-packages/sklearn/linear_model/coordinate_descent.py:491: ConvergenceWarning: Objective did not converge. You might want to increase the number of iterations. Fitting data with very small alpha may cause precision problems.\n",
      "  ConvergenceWarning)\n",
      "/usr/local/insa/anaconda/envs/GPU/lib/python3.6/site-packages/sklearn/linear_model/coordinate_descent.py:491: ConvergenceWarning: Objective did not converge. You might want to increase the number of iterations. Fitting data with very small alpha may cause precision problems.\n",
      "  ConvergenceWarning)\n",
      "/usr/local/insa/anaconda/envs/GPU/lib/python3.6/site-packages/sklearn/linear_model/coordinate_descent.py:491: ConvergenceWarning: Objective did not converge. You might want to increase the number of iterations. Fitting data with very small alpha may cause precision problems.\n",
      "  ConvergenceWarning)\n",
      "/usr/local/insa/anaconda/envs/GPU/lib/python3.6/site-packages/sklearn/linear_model/coordinate_descent.py:491: ConvergenceWarning: Objective did not converge. You might want to increase the number of iterations. Fitting data with very small alpha may cause precision problems.\n",
      "  ConvergenceWarning)\n",
      "/usr/local/insa/anaconda/envs/GPU/lib/python3.6/site-packages/sklearn/linear_model/coordinate_descent.py:491: ConvergenceWarning: Objective did not converge. You might want to increase the number of iterations. Fitting data with very small alpha may cause precision problems.\n",
      "  ConvergenceWarning)\n",
      "/usr/local/insa/anaconda/envs/GPU/lib/python3.6/site-packages/sklearn/linear_model/coordinate_descent.py:491: ConvergenceWarning: Objective did not converge. You might want to increase the number of iterations. Fitting data with very small alpha may cause precision problems.\n",
      "  ConvergenceWarning)\n",
      "/usr/local/insa/anaconda/envs/GPU/lib/python3.6/site-packages/sklearn/linear_model/coordinate_descent.py:491: ConvergenceWarning: Objective did not converge. You might want to increase the number of iterations. Fitting data with very small alpha may cause precision problems.\n",
      "  ConvergenceWarning)\n",
      "/usr/local/insa/anaconda/envs/GPU/lib/python3.6/site-packages/sklearn/linear_model/coordinate_descent.py:491: ConvergenceWarning: Objective did not converge. You might want to increase the number of iterations. Fitting data with very small alpha may cause precision problems.\n",
      "  ConvergenceWarning)\n"
     ]
    }
   ],
   "source": [
    "my_alphas = np.array([0.001,0.01,0.02,0.025,0.05,0.1,0.25,0.5,0.8,1.0])\n",
    "alpha_for_path, coefs_lasso, _ = linear_model.lasso_path(X_Panda,y_Panda,alphas=my_alphas)"
   ]
  },
  {
   "cell_type": "code",
   "execution_count": 37,
   "metadata": {
    "collapsed": false,
    "scrolled": true
   },
   "outputs": [
    {
     "data": {
      "image/png": "[encoded data removed]",
      "text/plain": [
       "<Figure size 432x288 with 1 Axes>"
      ]
     },
     "metadata": {},
     "output_type": "display_data"
    }
   ],
   "source": [
    "couleurs=cm.rainbow(np.linspace(0,1, 280))\n",
    "for i in range(coefs_lasso.shape[0]):\n",
    "    plt.plot(alpha_for_path, coefs_lasso[i, :], c=couleurs[i])\n",
    "    \n",
    "plt.xlabel('Alpha')\n",
    "plt.ylabel('Coefficients')\n",
    "plt.title('Regularization paths of the Lasso')\n",
    "plt.show()"
   ]
  },
  {
   "cell_type": "code",
   "execution_count": 38,
   "metadata": {
    "collapsed": false
   },
   "outputs": [
    {
     "name": "stderr",
     "output_type": "stream",
     "text": [
      "/usr/local/insa/anaconda/envs/GPU/lib/python3.6/site-packages/sklearn/linear_model/coordinate_descent.py:491: ConvergenceWarning: Objective did not converge. You might want to increase the number of iterations. Fitting data with very small alpha may cause precision problems.\n",
      "  ConvergenceWarning)\n",
      "/usr/local/insa/anaconda/envs/GPU/lib/python3.6/site-packages/sklearn/linear_model/coordinate_descent.py:491: ConvergenceWarning: Objective did not converge. You might want to increase the number of iterations. Fitting data with very small alpha may cause precision problems.\n",
      "  ConvergenceWarning)\n",
      "/usr/local/insa/anaconda/envs/GPU/lib/python3.6/site-packages/sklearn/linear_model/coordinate_descent.py:491: ConvergenceWarning: Objective did not converge. You might want to increase the number of iterations. Fitting data with very small alpha may cause precision problems.\n",
      "  ConvergenceWarning)\n",
      "/usr/local/insa/anaconda/envs/GPU/lib/python3.6/site-packages/sklearn/linear_model/coordinate_descent.py:491: ConvergenceWarning: Objective did not converge. You might want to increase the number of iterations. Fitting data with very small alpha may cause precision problems.\n",
      "  ConvergenceWarning)\n",
      "/usr/local/insa/anaconda/envs/GPU/lib/python3.6/site-packages/sklearn/linear_model/coordinate_descent.py:491: ConvergenceWarning: Objective did not converge. You might want to increase the number of iterations. Fitting data with very small alpha may cause precision problems.\n",
      "  ConvergenceWarning)\n",
      "/usr/local/insa/anaconda/envs/GPU/lib/python3.6/site-packages/sklearn/linear_model/coordinate_descent.py:491: ConvergenceWarning: Objective did not converge. You might want to increase the number of iterations. Fitting data with very small alpha may cause precision problems.\n",
      "  ConvergenceWarning)\n",
      "/usr/local/insa/anaconda/envs/GPU/lib/python3.6/site-packages/sklearn/linear_model/coordinate_descent.py:491: ConvergenceWarning: Objective did not converge. You might want to increase the number of iterations. Fitting data with very small alpha may cause precision problems.\n",
      "  ConvergenceWarning)\n",
      "/usr/local/insa/anaconda/envs/GPU/lib/python3.6/site-packages/sklearn/linear_model/coordinate_descent.py:491: ConvergenceWarning: Objective did not converge. You might want to increase the number of iterations. Fitting data with very small alpha may cause precision problems.\n",
      "  ConvergenceWarning)\n",
      "/usr/local/insa/anaconda/envs/GPU/lib/python3.6/site-packages/sklearn/linear_model/coordinate_descent.py:491: ConvergenceWarning: Objective did not converge. You might want to increase the number of iterations. Fitting data with very small alpha may cause precision problems.\n",
      "  ConvergenceWarning)\n",
      "/usr/local/insa/anaconda/envs/GPU/lib/python3.6/site-packages/sklearn/linear_model/coordinate_descent.py:491: ConvergenceWarning: Objective did not converge. You might want to increase the number of iterations. Fitting data with very small alpha may cause precision problems.\n",
      "  ConvergenceWarning)\n"
     ]
    },
    {
     "data": {
      "image/png": "[encoded data removed]",
      "text/plain": [
       "<Figure size 432x288 with 1 Axes>"
      ]
     },
     "metadata": {},
     "output_type": "display_data"
    }
   ],
   "source": [
    "my_alphas = np.array([0.0001,0.001,0.002,0.0025,0.005,0.01,0.025,0.05,0.08,0.1])\n",
    "alpha_for_path, coefs_lasso, _ = linear_model.lasso_path(X_Panda,y_Panda,alphas=my_alphas)\n",
    "couleurs=cm.rainbow(np.linspace(0,1, 280))\n",
    "for i in range(coefs_lasso.shape[0]):\n",
    "    plt.plot(alpha_for_path, coefs_lasso[i, :], c=couleurs[i])\n",
    "    \n",
    "plt.xlabel('Alpha')\n",
    "plt.ylabel('Coefficients')\n",
    "plt.title('Regularization paths of the Lasso')\n",
    "plt.show()"
   ]
  },
  {
   "cell_type": "markdown",
   "metadata": {},
   "source": [
    "## Régression logistique"
   ]
  },
  {
   "cell_type": "code",
   "execution_count": 20,
   "metadata": {
    "collapsed": true
   },
   "outputs": [],
   "source": [
    "from sklearn import datasets\n",
    "from sklearn.linear_model import LogisticRegression\n",
    "from sklearn.model_selection import train_test_split\n",
    "from sklearn.model_selection import GridSearchCV"
   ]
  },
  {
   "cell_type": "code",
   "execution_count": 40,
   "metadata": {
    "collapsed": false,
    "scrolled": true
   },
   "outputs": [
    {
     "name": "stderr",
     "output_type": "stream",
     "text": [
      "/usr/local/insa/anaconda/envs/GPU/lib/python3.6/site-packages/sklearn/utils/validation.py:578: DataConversionWarning: A column-vector y was passed when a 1d array was expected. Please change the shape of y to (n_samples, ), for example using ravel().\n",
      "  y = column_or_1d(y, warn=True)\n",
      "/usr/local/insa/anaconda/envs/GPU/lib/python3.6/site-packages/sklearn/utils/validation.py:578: DataConversionWarning: A column-vector y was passed when a 1d array was expected. Please change the shape of y to (n_samples, ), for example using ravel().\n",
      "  y = column_or_1d(y, warn=True)\n",
      "/usr/local/insa/anaconda/envs/GPU/lib/python3.6/site-packages/sklearn/utils/validation.py:578: DataConversionWarning: A column-vector y was passed when a 1d array was expected. Please change the shape of y to (n_samples, ), for example using ravel().\n",
      "  y = column_or_1d(y, warn=True)\n",
      "/usr/local/insa/anaconda/envs/GPU/lib/python3.6/site-packages/sklearn/utils/validation.py:578: DataConversionWarning: A column-vector y was passed when a 1d array was expected. Please change the shape of y to (n_samples, ), for example using ravel().\n",
      "  y = column_or_1d(y, warn=True)\n",
      "/usr/local/insa/anaconda/envs/GPU/lib/python3.6/site-packages/sklearn/utils/validation.py:578: DataConversionWarning: A column-vector y was passed when a 1d array was expected. Please change the shape of y to (n_samples, ), for example using ravel().\n",
      "  y = column_or_1d(y, warn=True)\n",
      "/usr/local/insa/anaconda/envs/GPU/lib/python3.6/site-packages/sklearn/utils/validation.py:578: DataConversionWarning: A column-vector y was passed when a 1d array was expected. Please change the shape of y to (n_samples, ), for example using ravel().\n",
      "  y = column_or_1d(y, warn=True)\n",
      "/usr/local/insa/anaconda/envs/GPU/lib/python3.6/site-packages/sklearn/utils/validation.py:578: DataConversionWarning: A column-vector y was passed when a 1d array was expected. Please change the shape of y to (n_samples, ), for example using ravel().\n",
      "  y = column_or_1d(y, warn=True)\n",
      "/usr/local/insa/anaconda/envs/GPU/lib/python3.6/site-packages/sklearn/utils/validation.py:578: DataConversionWarning: A column-vector y was passed when a 1d array was expected. Please change the shape of y to (n_samples, ), for example using ravel().\n",
      "  y = column_or_1d(y, warn=True)\n",
      "/usr/local/insa/anaconda/envs/GPU/lib/python3.6/site-packages/sklearn/utils/validation.py:578: DataConversionWarning: A column-vector y was passed when a 1d array was expected. Please change the shape of y to (n_samples, ), for example using ravel().\n",
      "  y = column_or_1d(y, warn=True)\n",
      "/usr/local/insa/anaconda/envs/GPU/lib/python3.6/site-packages/sklearn/utils/validation.py:578: DataConversionWarning: A column-vector y was passed when a 1d array was expected. Please change the shape of y to (n_samples, ), for example using ravel().\n",
      "  y = column_or_1d(y, warn=True)\n",
      "/usr/local/insa/anaconda/envs/GPU/lib/python3.6/site-packages/sklearn/utils/validation.py:578: DataConversionWarning: A column-vector y was passed when a 1d array was expected. Please change the shape of y to (n_samples, ), for example using ravel().\n",
      "  y = column_or_1d(y, warn=True)\n",
      "/usr/local/insa/anaconda/envs/GPU/lib/python3.6/site-packages/sklearn/utils/validation.py:578: DataConversionWarning: A column-vector y was passed when a 1d array was expected. Please change the shape of y to (n_samples, ), for example using ravel().\n",
      "  y = column_or_1d(y, warn=True)\n",
      "/usr/local/insa/anaconda/envs/GPU/lib/python3.6/site-packages/sklearn/utils/validation.py:578: DataConversionWarning: A column-vector y was passed when a 1d array was expected. Please change the shape of y to (n_samples, ), for example using ravel().\n",
      "  y = column_or_1d(y, warn=True)\n",
      "/usr/local/insa/anaconda/envs/GPU/lib/python3.6/site-packages/sklearn/utils/validation.py:578: DataConversionWarning: A column-vector y was passed when a 1d array was expected. Please change the shape of y to (n_samples, ), for example using ravel().\n",
      "  y = column_or_1d(y, warn=True)\n",
      "/usr/local/insa/anaconda/envs/GPU/lib/python3.6/site-packages/sklearn/utils/validation.py:578: DataConversionWarning: A column-vector y was passed when a 1d array was expected. Please change the shape of y to (n_samples, ), for example using ravel().\n",
      "  y = column_or_1d(y, warn=True)\n",
      "/usr/local/insa/anaconda/envs/GPU/lib/python3.6/site-packages/sklearn/utils/validation.py:578: DataConversionWarning: A column-vector y was passed when a 1d array was expected. Please change the shape of y to (n_samples, ), for example using ravel().\n",
      "  y = column_or_1d(y, warn=True)\n",
      "/usr/local/insa/anaconda/envs/GPU/lib/python3.6/site-packages/sklearn/utils/validation.py:578: DataConversionWarning: A column-vector y was passed when a 1d array was expected. Please change the shape of y to (n_samples, ), for example using ravel().\n",
      "  y = column_or_1d(y, warn=True)\n",
      "/usr/local/insa/anaconda/envs/GPU/lib/python3.6/site-packages/sklearn/utils/validation.py:578: DataConversionWarning: A column-vector y was passed when a 1d array was expected. Please change the shape of y to (n_samples, ), for example using ravel().\n",
      "  y = column_or_1d(y, warn=True)\n",
      "/usr/local/insa/anaconda/envs/GPU/lib/python3.6/site-packages/sklearn/utils/validation.py:578: DataConversionWarning: A column-vector y was passed when a 1d array was expected. Please change the shape of y to (n_samples, ), for example using ravel().\n",
      "  y = column_or_1d(y, warn=True)\n",
      "/usr/local/insa/anaconda/envs/GPU/lib/python3.6/site-packages/sklearn/utils/validation.py:578: DataConversionWarning: A column-vector y was passed when a 1d array was expected. Please change the shape of y to (n_samples, ), for example using ravel().\n",
      "  y = column_or_1d(y, warn=True)\n",
      "/usr/local/insa/anaconda/envs/GPU/lib/python3.6/site-packages/sklearn/utils/validation.py:578: DataConversionWarning: A column-vector y was passed when a 1d array was expected. Please change the shape of y to (n_samples, ), for example using ravel().\n",
      "  y = column_or_1d(y, warn=True)\n",
      "/usr/local/insa/anaconda/envs/GPU/lib/python3.6/site-packages/sklearn/utils/validation.py:578: DataConversionWarning: A column-vector y was passed when a 1d array was expected. Please change the shape of y to (n_samples, ), for example using ravel().\n",
      "  y = column_or_1d(y, warn=True)\n",
      "/usr/local/insa/anaconda/envs/GPU/lib/python3.6/site-packages/sklearn/utils/validation.py:578: DataConversionWarning: A column-vector y was passed when a 1d array was expected. Please change the shape of y to (n_samples, ), for example using ravel().\n",
      "  y = column_or_1d(y, warn=True)\n",
      "/usr/local/insa/anaconda/envs/GPU/lib/python3.6/site-packages/sklearn/utils/validation.py:578: DataConversionWarning: A column-vector y was passed when a 1d array was expected. Please change the shape of y to (n_samples, ), for example using ravel().\n",
      "  y = column_or_1d(y, warn=True)\n",
      "/usr/local/insa/anaconda/envs/GPU/lib/python3.6/site-packages/sklearn/utils/validation.py:578: DataConversionWarning: A column-vector y was passed when a 1d array was expected. Please change the shape of y to (n_samples, ), for example using ravel().\n",
      "  y = column_or_1d(y, warn=True)\n",
      "/usr/local/insa/anaconda/envs/GPU/lib/python3.6/site-packages/sklearn/utils/validation.py:578: DataConversionWarning: A column-vector y was passed when a 1d array was expected. Please change the shape of y to (n_samples, ), for example using ravel().\n",
      "  y = column_or_1d(y, warn=True)\n"
     ]
    },
    {
     "name": "stdout",
     "output_type": "stream",
     "text": [
      "Meilleur score = 0.358969, Meilleur paramètre = {'C': 0.2}\n"
     ]
    }
   ],
   "source": [
    "param=[{\"C\":[0.2,0.4,0.6,1,1.2]}]\n",
    "logit = GridSearchCV(LogisticRegression(multi_class='ovr', solver='liblinear', penalty=\"l1\"), param,cv=5,n_jobs=-1)\n",
    "logitOpt=logit.fit(X_Panda, y_Quali_Panda)\n",
    "\n",
    "logitOpt.best_params_[\"C\"]\n",
    "print(\"Meilleur score = %f, Meilleur paramètre = %s\" % (1.-logitOpt.best_score_,logitOpt.best_params_))"
   ]
  },
  {
   "cell_type": "markdown",
   "metadata": {
    "collapsed": true
   },
   "source": [
    "Meilleur score = 0.358397, Meilleur paramètre = {'C': 0.2}"
   ]
  },
  {
   "cell_type": "code",
   "execution_count": 41,
   "metadata": {
    "collapsed": false
   },
   "outputs": [
    {
     "data": {
      "text/html": [
       "<div>\n",
       "<style scoped>\n",
       "    .dataframe tbody tr th:only-of-type {\n",
       "        vertical-align: middle;\n",
       "    }\n",
       "\n",
       "    .dataframe tbody tr th {\n",
       "        vertical-align: top;\n",
       "    }\n",
       "\n",
       "    .dataframe thead th {\n",
       "        text-align: right;\n",
       "    }\n",
       "</style>\n",
       "<table border=\"1\" class=\"dataframe\">\n",
       "  <thead>\n",
       "    <tr style=\"text-align: right;\">\n",
       "      <th></th>\n",
       "      <th>0</th>\n",
       "      <th>1</th>\n",
       "      <th>2</th>\n",
       "      <th>3</th>\n",
       "    </tr>\n",
       "  </thead>\n",
       "  <tbody>\n",
       "    <tr>\n",
       "      <th>0</th>\n",
       "      <td>3278</td>\n",
       "      <td>515</td>\n",
       "      <td>467</td>\n",
       "      <td>251</td>\n",
       "    </tr>\n",
       "    <tr>\n",
       "      <th>1</th>\n",
       "      <td>0</td>\n",
       "      <td>5</td>\n",
       "      <td>0</td>\n",
       "      <td>2</td>\n",
       "    </tr>\n",
       "    <tr>\n",
       "      <th>2</th>\n",
       "      <td>10</td>\n",
       "      <td>9</td>\n",
       "      <td>23</td>\n",
       "      <td>14</td>\n",
       "    </tr>\n",
       "    <tr>\n",
       "      <th>3</th>\n",
       "      <td>70</td>\n",
       "      <td>42</td>\n",
       "      <td>96</td>\n",
       "      <td>458</td>\n",
       "    </tr>\n",
       "  </tbody>\n",
       "</table>\n",
       "</div>"
      ],
      "text/plain": [
       "      0    1    2    3\n",
       "0  3278  515  467  251\n",
       "1     0    5    0    2\n",
       "2    10    9   23   14\n",
       "3    70   42   96  458"
      ]
     },
     "execution_count": 41,
     "metadata": {},
     "output_type": "execute_result"
    }
   ],
   "source": [
    "from sklearn.metrics import confusion_matrix\n",
    "pd.DataFrame(confusion_matrix(logitOpt.predict(X_Panda), y_Quali_Panda))"
   ]
  },
  {
   "cell_type": "code",
   "execution_count": 21,
   "metadata": {
    "collapsed": true
   },
   "outputs": [],
   "source": [
    "Y_Bin_Panda=[]\n",
    "\n",
    "for i in range(0, np.shape(y_Panda)[0]):\n",
    "    if y_Panda[i]==0:\n",
    "        Y_Bin_Panda.append(0)\n",
    "    else:\n",
    "        Y_Bin_Panda.append(1)\n",
    "        \n",
    "y_Bin_Panda=pd.DataFrame(Y_Bin_Panda)"
   ]
  },
  {
   "cell_type": "code",
   "execution_count": 59,
   "metadata": {
    "collapsed": false,
    "scrolled": true
   },
   "outputs": [
    {
     "name": "stderr",
     "output_type": "stream",
     "text": [
      "/usr/local/insa/anaconda/envs/GPU/lib/python3.6/site-packages/sklearn/utils/validation.py:578: DataConversionWarning: A column-vector y was passed when a 1d array was expected. Please change the shape of y to (n_samples, ), for example using ravel().\n",
      "  y = column_or_1d(y, warn=True)\n",
      "/usr/local/insa/anaconda/envs/GPU/lib/python3.6/site-packages/sklearn/utils/validation.py:578: DataConversionWarning: A column-vector y was passed when a 1d array was expected. Please change the shape of y to (n_samples, ), for example using ravel().\n",
      "  y = column_or_1d(y, warn=True)\n",
      "/usr/local/insa/anaconda/envs/GPU/lib/python3.6/site-packages/sklearn/utils/validation.py:578: DataConversionWarning: A column-vector y was passed when a 1d array was expected. Please change the shape of y to (n_samples, ), for example using ravel().\n",
      "  y = column_or_1d(y, warn=True)\n",
      "/usr/local/insa/anaconda/envs/GPU/lib/python3.6/site-packages/sklearn/utils/validation.py:578: DataConversionWarning: A column-vector y was passed when a 1d array was expected. Please change the shape of y to (n_samples, ), for example using ravel().\n",
      "  y = column_or_1d(y, warn=True)\n",
      "/usr/local/insa/anaconda/envs/GPU/lib/python3.6/site-packages/sklearn/utils/validation.py:578: DataConversionWarning: A column-vector y was passed when a 1d array was expected. Please change the shape of y to (n_samples, ), for example using ravel().\n",
      "  y = column_or_1d(y, warn=True)\n",
      "/usr/local/insa/anaconda/envs/GPU/lib/python3.6/site-packages/sklearn/utils/validation.py:578: DataConversionWarning: A column-vector y was passed when a 1d array was expected. Please change the shape of y to (n_samples, ), for example using ravel().\n",
      "  y = column_or_1d(y, warn=True)\n",
      "/usr/local/insa/anaconda/envs/GPU/lib/python3.6/site-packages/sklearn/utils/validation.py:578: DataConversionWarning: A column-vector y was passed when a 1d array was expected. Please change the shape of y to (n_samples, ), for example using ravel().\n",
      "  y = column_or_1d(y, warn=True)\n",
      "/usr/local/insa/anaconda/envs/GPU/lib/python3.6/site-packages/sklearn/utils/validation.py:578: DataConversionWarning: A column-vector y was passed when a 1d array was expected. Please change the shape of y to (n_samples, ), for example using ravel().\n",
      "  y = column_or_1d(y, warn=True)\n",
      "/usr/local/insa/anaconda/envs/GPU/lib/python3.6/site-packages/sklearn/utils/validation.py:578: DataConversionWarning: A column-vector y was passed when a 1d array was expected. Please change the shape of y to (n_samples, ), for example using ravel().\n",
      "  y = column_or_1d(y, warn=True)\n",
      "/usr/local/insa/anaconda/envs/GPU/lib/python3.6/site-packages/sklearn/utils/validation.py:578: DataConversionWarning: A column-vector y was passed when a 1d array was expected. Please change the shape of y to (n_samples, ), for example using ravel().\n",
      "  y = column_or_1d(y, warn=True)\n",
      "/usr/local/insa/anaconda/envs/GPU/lib/python3.6/site-packages/sklearn/utils/validation.py:578: DataConversionWarning: A column-vector y was passed when a 1d array was expected. Please change the shape of y to (n_samples, ), for example using ravel().\n",
      "  y = column_or_1d(y, warn=True)\n",
      "/usr/local/insa/anaconda/envs/GPU/lib/python3.6/site-packages/sklearn/utils/validation.py:578: DataConversionWarning: A column-vector y was passed when a 1d array was expected. Please change the shape of y to (n_samples, ), for example using ravel().\n",
      "  y = column_or_1d(y, warn=True)\n",
      "/usr/local/insa/anaconda/envs/GPU/lib/python3.6/site-packages/sklearn/utils/validation.py:578: DataConversionWarning: A column-vector y was passed when a 1d array was expected. Please change the shape of y to (n_samples, ), for example using ravel().\n",
      "  y = column_or_1d(y, warn=True)\n",
      "/usr/local/insa/anaconda/envs/GPU/lib/python3.6/site-packages/sklearn/utils/validation.py:578: DataConversionWarning: A column-vector y was passed when a 1d array was expected. Please change the shape of y to (n_samples, ), for example using ravel().\n",
      "  y = column_or_1d(y, warn=True)\n",
      "/usr/local/insa/anaconda/envs/GPU/lib/python3.6/site-packages/sklearn/utils/validation.py:578: DataConversionWarning: A column-vector y was passed when a 1d array was expected. Please change the shape of y to (n_samples, ), for example using ravel().\n",
      "  y = column_or_1d(y, warn=True)\n",
      "/usr/local/insa/anaconda/envs/GPU/lib/python3.6/site-packages/sklearn/utils/validation.py:578: DataConversionWarning: A column-vector y was passed when a 1d array was expected. Please change the shape of y to (n_samples, ), for example using ravel().\n",
      "  y = column_or_1d(y, warn=True)\n",
      "/usr/local/insa/anaconda/envs/GPU/lib/python3.6/site-packages/sklearn/utils/validation.py:578: DataConversionWarning: A column-vector y was passed when a 1d array was expected. Please change the shape of y to (n_samples, ), for example using ravel().\n",
      "  y = column_or_1d(y, warn=True)\n",
      "/usr/local/insa/anaconda/envs/GPU/lib/python3.6/site-packages/sklearn/utils/validation.py:578: DataConversionWarning: A column-vector y was passed when a 1d array was expected. Please change the shape of y to (n_samples, ), for example using ravel().\n",
      "  y = column_or_1d(y, warn=True)\n",
      "/usr/local/insa/anaconda/envs/GPU/lib/python3.6/site-packages/sklearn/utils/validation.py:578: DataConversionWarning: A column-vector y was passed when a 1d array was expected. Please change the shape of y to (n_samples, ), for example using ravel().\n",
      "  y = column_or_1d(y, warn=True)\n",
      "/usr/local/insa/anaconda/envs/GPU/lib/python3.6/site-packages/sklearn/utils/validation.py:578: DataConversionWarning: A column-vector y was passed when a 1d array was expected. Please change the shape of y to (n_samples, ), for example using ravel().\n",
      "  y = column_or_1d(y, warn=True)\n",
      "/usr/local/insa/anaconda/envs/GPU/lib/python3.6/site-packages/sklearn/utils/validation.py:578: DataConversionWarning: A column-vector y was passed when a 1d array was expected. Please change the shape of y to (n_samples, ), for example using ravel().\n",
      "  y = column_or_1d(y, warn=True)\n",
      "/usr/local/insa/anaconda/envs/GPU/lib/python3.6/site-packages/sklearn/utils/validation.py:578: DataConversionWarning: A column-vector y was passed when a 1d array was expected. Please change the shape of y to (n_samples, ), for example using ravel().\n",
      "  y = column_or_1d(y, warn=True)\n",
      "/usr/local/insa/anaconda/envs/GPU/lib/python3.6/site-packages/sklearn/utils/validation.py:578: DataConversionWarning: A column-vector y was passed when a 1d array was expected. Please change the shape of y to (n_samples, ), for example using ravel().\n",
      "  y = column_or_1d(y, warn=True)\n",
      "/usr/local/insa/anaconda/envs/GPU/lib/python3.6/site-packages/sklearn/utils/validation.py:578: DataConversionWarning: A column-vector y was passed when a 1d array was expected. Please change the shape of y to (n_samples, ), for example using ravel().\n",
      "  y = column_or_1d(y, warn=True)\n",
      "/usr/local/insa/anaconda/envs/GPU/lib/python3.6/site-packages/sklearn/utils/validation.py:578: DataConversionWarning: A column-vector y was passed when a 1d array was expected. Please change the shape of y to (n_samples, ), for example using ravel().\n",
      "  y = column_or_1d(y, warn=True)\n",
      "/usr/local/insa/anaconda/envs/GPU/lib/python3.6/site-packages/sklearn/utils/validation.py:578: DataConversionWarning: A column-vector y was passed when a 1d array was expected. Please change the shape of y to (n_samples, ), for example using ravel().\n",
      "  y = column_or_1d(y, warn=True)\n"
     ]
    },
    {
     "name": "stdout",
     "output_type": "stream",
     "text": [
      "Meilleur score = 0.317176, Meilleur paramètre = {'C': 0.2}\n"
     ]
    }
   ],
   "source": [
    "param=[{\"C\":[0.2,0.4,0.6,1,1.2]}]\n",
    "logit = GridSearchCV(LogisticRegression(multi_class='ovr', solver='liblinear', penalty=\"l1\"), param,cv=5,n_jobs=-1)\n",
    "logitOpt=logit.fit(X_Panda, y_Bin_Panda)\n",
    "\n",
    "logitOpt.best_params_[\"C\"]\n",
    "print(\"Meilleur score = %f, Meilleur paramètre = %s\" % (1.-logitOpt.best_score_,logitOpt.best_params_))"
   ]
  },
  {
   "cell_type": "code",
   "execution_count": 60,
   "metadata": {
    "collapsed": false
   },
   "outputs": [
    {
     "data": {
      "text/html": [
       "<div>\n",
       "<style scoped>\n",
       "    .dataframe tbody tr th:only-of-type {\n",
       "        vertical-align: middle;\n",
       "    }\n",
       "\n",
       "    .dataframe tbody tr th {\n",
       "        vertical-align: top;\n",
       "    }\n",
       "\n",
       "    .dataframe thead th {\n",
       "        text-align: right;\n",
       "    }\n",
       "</style>\n",
       "<table border=\"1\" class=\"dataframe\">\n",
       "  <thead>\n",
       "    <tr style=\"text-align: right;\">\n",
       "      <th></th>\n",
       "      <th>0</th>\n",
       "      <th>1</th>\n",
       "    </tr>\n",
       "  </thead>\n",
       "  <tbody>\n",
       "    <tr>\n",
       "      <th>0</th>\n",
       "      <td>3108</td>\n",
       "      <td>840</td>\n",
       "    </tr>\n",
       "    <tr>\n",
       "      <th>1</th>\n",
       "      <td>250</td>\n",
       "      <td>1042</td>\n",
       "    </tr>\n",
       "  </tbody>\n",
       "</table>\n",
       "</div>"
      ],
      "text/plain": [
       "      0     1\n",
       "0  3108   840\n",
       "1   250  1042"
      ]
     },
     "execution_count": 60,
     "metadata": {},
     "output_type": "execute_result"
    }
   ],
   "source": [
    "pd.DataFrame(confusion_matrix(logitOpt.predict(X_Panda), y_Bin_Panda))"
   ]
  },
  {
   "cell_type": "markdown",
   "metadata": {},
   "source": [
    "## Analyse Factorielle Discriminante"
   ]
  },
  {
   "cell_type": "code",
   "execution_count": 42,
   "metadata": {
    "collapsed": true
   },
   "outputs": [],
   "source": [
    "from sklearn.discriminant_analysis import LinearDiscriminantAnalysis"
   ]
  },
  {
   "cell_type": "code",
   "execution_count": 43,
   "metadata": {
    "collapsed": true
   },
   "outputs": [],
   "source": [
    "import utils.load as ul\n",
    "import utils.illustration as uil"
   ]
  },
  {
   "cell_type": "code",
   "execution_count": 44,
   "metadata": {
    "collapsed": false
   },
   "outputs": [
    {
     "name": "stderr",
     "output_type": "stream",
     "text": [
      "/usr/local/insa/anaconda/envs/GPU/lib/python3.6/site-packages/sklearn/utils/validation.py:578: DataConversionWarning: A column-vector y was passed when a 1d array was expected. Please change the shape of y to (n_samples, ), for example using ravel().\n",
      "  y = column_or_1d(y, warn=True)\n",
      "/usr/local/insa/anaconda/envs/GPU/lib/python3.6/site-packages/sklearn/discriminant_analysis.py:388: UserWarning: Variables are collinear.\n",
      "  warnings.warn(\"Variables are collinear.\")\n"
     ]
    }
   ],
   "source": [
    "method = LinearDiscriminantAnalysis() \n",
    "lda=method.fit(X_Panda,y_Quali_Panda)\n",
    "X_r2=lda.transform(X_Panda)"
   ]
  },
  {
   "cell_type": "code",
   "execution_count": 45,
   "metadata": {
    "collapsed": true
   },
   "outputs": [],
   "source": [
    "CMAP = plt.get_cmap(\"Set1\")\n",
    "ACTIVITY_DIC = {1: \"Equal0\",\n",
    "2 : \"Equal1\",\n",
    "3 : \"InfQuant\",\n",
    "4 : \"SupQuant\"}\n",
    "COLOR_DIC = {v:CMAP(k-2) if v!=\"WALKING\" else CMAP(11) for k,v in ACTIVITY_DIC.items()}\n",
    "LABELS = [ACTIVITY_DIC[c] for c in range(1,5)]\n",
    "COLOR_LIST = [COLOR_DIC[l] for l in LABELS]"
   ]
  },
  {
   "cell_type": "code",
   "execution_count": 46,
   "metadata": {
    "collapsed": true
   },
   "outputs": [],
   "source": [
    "colors=[]\n",
    "\n",
    "for y in y_Quali_Panda.values:\n",
    "    if y=='Equal0':\n",
    "        colors.append((0.8941176470588236, 0.10196078431372549, 0.10980392156862745, 1.0))\n",
    "    elif y==\"Equal1\" :\n",
    "        colors.append((0.8941176470588236, 0.10196078431372549, 0.10980392156862745, 1.0))\n",
    "    elif y==\"InfQuant\" :\n",
    "        colors.append((0.21568627450980393,0.49411764705882355,0.7215686274509804, 1.0))\n",
    "    elif y==\"SupQuant\" :\n",
    "        colors.append((0.30196078431372547,0.6862745098039216,0.2901960784313726,1.0))"
   ]
  },
  {
   "cell_type": "code",
   "execution_count": 47,
   "metadata": {
    "collapsed": true
   },
   "outputs": [],
   "source": [
    "markersizes = [20 for y in y_Quali_Panda]"
   ]
  },
  {
   "cell_type": "code",
   "execution_count": 48,
   "metadata": {
    "collapsed": false
   },
   "outputs": [
    {
     "data": {
      "image/png": "[encoded data removed]",
      "text/plain": [
       "<Figure size 1440x1440 with 3 Axes>"
      ]
     },
     "metadata": {},
     "output_type": "display_data"
    }
   ],
   "source": [
    "fig = plt.figure(figsize= (20,20))\n",
    "count = 0\n",
    "for nbc, nbc2,count in [(1,2,1), (2,3,2),(1,3,4)] :\n",
    "    ax = fig.add_subplot(2,2,count)\n",
    "    uil.plot_pca(ax, X_r2, lda, nbc, nbc2, colors, markersizes)\n",
    "#Build legend\n",
    "from matplotlib.lines import Line2D\n",
    "legend_elements = [Line2D([0], [0], color=COLOR_DIC[act],marker=\".\", linestyle=None, markersize=25, label=act)for act in ACTIVITY_DIC.values()]\n",
    "plt.legend(handles=legend_elements,loc='upper right', bbox_to_anchor=(3, 1.6),fontsize=15)\n",
    "plt.show()"
   ]
  },
  {
   "cell_type": "markdown",
   "metadata": {},
   "source": [
    "## K-Means"
   ]
  },
  {
   "cell_type": "code",
   "execution_count": 49,
   "metadata": {
    "collapsed": false
   },
   "outputs": [
    {
     "name": "stdout",
     "output_type": "stream",
     "text": [
      "Temps execution Kmeans : 0.9458139999999986\n"
     ]
    }
   ],
   "source": [
    "from sklearn.cluster import KMeans\n",
    "from sklearn.metrics import confusion_matrix\n",
    "from sklearn.preprocessing import StandardScaler\n",
    "import time\n",
    "tps1 = time.clock()\n",
    "X = StandardScaler().fit_transform(X_Panda)\n",
    "km=KMeans(n_clusters=4, n_jobs=-1)\n",
    "km.fit(X_Panda)\n",
    "tps2 = time.clock()\n",
    "print(\"Temps execution Kmeans :\", (tps2 - tps1))"
   ]
  },
  {
   "cell_type": "code",
   "execution_count": 50,
   "metadata": {
    "collapsed": true
   },
   "outputs": [],
   "source": [
    "Quantile87=np.percentile(y_Panda.values, 87.5)\n",
    "\n",
    "Y_Quali_Nb_Panda=[]\n",
    "\n",
    "for i in range(0, np.shape(y_Panda)[0]):\n",
    "    if y_Panda[i]==0:\n",
    "        Y_Quali_Nb_Panda.append(0)\n",
    "    elif y_Panda[i]==1:\n",
    "        Y_Quali_Nb_Panda.append(1)\n",
    "    elif y_Panda[i]>1 and y_Panda[i]<Quantile87:\n",
    "        Y_Quali_Nb_Panda.append(2)\n",
    "    elif y_Panda[i]>=Quantile87:\n",
    "        Y_Quali_Nb_Panda.append(3)\n",
    "        \n",
    "y_Quali_Nb_Panda=pd.DataFrame(Y_Quali_Nb_Panda)"
   ]
  },
  {
   "cell_type": "code",
   "execution_count": 51,
   "metadata": {
    "collapsed": false
   },
   "outputs": [
    {
     "data": {
      "text/html": [
       "<div>\n",
       "<style scoped>\n",
       "    .dataframe tbody tr th:only-of-type {\n",
       "        vertical-align: middle;\n",
       "    }\n",
       "\n",
       "    .dataframe tbody tr th {\n",
       "        vertical-align: top;\n",
       "    }\n",
       "\n",
       "    .dataframe thead th {\n",
       "        text-align: right;\n",
       "    }\n",
       "</style>\n",
       "<table border=\"1\" class=\"dataframe\">\n",
       "  <thead>\n",
       "    <tr style=\"text-align: right;\">\n",
       "      <th></th>\n",
       "      <th>0</th>\n",
       "      <th>1</th>\n",
       "      <th>2</th>\n",
       "      <th>3</th>\n",
       "    </tr>\n",
       "  </thead>\n",
       "  <tbody>\n",
       "    <tr>\n",
       "      <th>0</th>\n",
       "      <td>1997</td>\n",
       "      <td>305</td>\n",
       "      <td>314</td>\n",
       "      <td>300</td>\n",
       "    </tr>\n",
       "    <tr>\n",
       "      <th>1</th>\n",
       "      <td>244</td>\n",
       "      <td>49</td>\n",
       "      <td>57</td>\n",
       "      <td>78</td>\n",
       "    </tr>\n",
       "    <tr>\n",
       "      <th>2</th>\n",
       "      <td>1066</td>\n",
       "      <td>203</td>\n",
       "      <td>198</td>\n",
       "      <td>325</td>\n",
       "    </tr>\n",
       "    <tr>\n",
       "      <th>3</th>\n",
       "      <td>51</td>\n",
       "      <td>14</td>\n",
       "      <td>17</td>\n",
       "      <td>22</td>\n",
       "    </tr>\n",
       "  </tbody>\n",
       "</table>\n",
       "</div>"
      ],
      "text/plain": [
       "      0    1    2    3\n",
       "0  1997  305  314  300\n",
       "1   244   49   57   78\n",
       "2  1066  203  198  325\n",
       "3    51   14   17   22"
      ]
     },
     "execution_count": 51,
     "metadata": {},
     "output_type": "execute_result"
    }
   ],
   "source": [
    "pd.DataFrame(confusion_matrix(km.labels_, y_Quali_Nb_Panda))"
   ]
  }
 ],
 "metadata": {
  "anaconda-cloud": {},
  "kernelspec": {
   "display_name": "Python [default]",
   "language": "python",
   "name": "python3"
  },
  "language_info": {
   "codemirror_mode": {
    "name": "ipython",
    "version": 3
   },
   "file_extension": ".py",
   "mimetype": "text/x-python",
   "name": "python",
   "nbconvert_exporter": "python",
   "pygments_lexer": "ipython3",
   "version": "3.5.2"
  }
 },
 "nbformat": 4,
 "nbformat_minor": 1
}
