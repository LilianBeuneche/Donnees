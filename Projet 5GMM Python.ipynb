{
 "cells": [
  {
   "cell_type": "markdown",
   "metadata": {},
   "source": [
    "# Projet 5GMM"
   ]
  },
  {
   "cell_type": "markdown",
   "metadata": {},
   "source": [
    "Travailler sur les données \"train\"\n",
    "\n",
    "1- Isoler la variable Y (analyse descriptive dessus)\n",
    "\n",
    "2- Travailler sur les mots -> apparitions, corrélations\n",
    "\n",
    "3- Sur les variables quantitatives (histogrammes, corrélation entre les variables)\n",
    "\n",
    "4- ACP et étude de l'ébouli des valeurs propres : essayer de faire des groupes sur les Y pour représenter dans l'ACP\n",
    "\t-> Prédire le Y sur le plan factoriel de l'ACP\n"
   ]
  },
  {
   "cell_type": "markdown",
   "metadata": {},
   "source": [
    "## Les donnéées\n",
    "\n",
    "1:50: Average, standard deviation, min, max and median of the attributes 51...60 for the source of the current blog post\n",
    "\n",
    "51: Total number of comments before basetime \n",
    "\n",
    "52: Number of comments in the last 24 hours before the basetime \n",
    "\n",
    "53: Let T1 denote the datetime 48 hours before basetime, let T2 denote the datetime 24 hours before basetime. This attribute is the number of comments in the time period between T1 and T2 \n",
    "\n",
    "54: Number of comments in the first 24 hours after the publication of the blog post, but before basetime \n",
    "\n",
    "55: The difference of Attribute 52 and Attribute 53 \n",
    "\n",
    "56...60: The same features as the attributes 51...55, but features 56...60 refer to the number of links (trackbacks), while features 51...55 refer to the number of comments. \n",
    "\n",
    "61: The length of time between the publication of the blog post and basetime \n",
    "\n",
    "62: The length of the blog post \n",
    "\n",
    "63...262: The 200 bag of words features for 200 frequent words of the text of the blog post \n",
    "\n",
    "263...269: binary indicator features (0 or 1) for the weekday (Monday...Sunday) of the basetime \n",
    "\n",
    "270...276: binary indicator features (0 or 1) for the weekday (Monday...Sunday) of the date of publication of the blog post \n",
    "\n",
    "277: Number of parent pages: we consider a blog post P as a parent of blog post B, if B is a reply (trackback) to blog post P. \n",
    "\n",
    "278...280: Minimum, maximum, average number of comments that the parents received \n",
    "\n",
    "281: The target: the number of comments in the next 24 hours (relative to basetime)"
   ]
  },
  {
   "cell_type": "code",
   "execution_count": 3,
   "metadata": {
    "collapsed": false
   },
   "outputs": [],
   "source": [
    "import numpy as np\n",
    "import scipy as scp\n",
    "import matplotlib.pyplot as plt\n",
    "import matplotlib.cm as cm\n",
    "import csv\n",
    "from scipy import stats\n",
    "from sklearn.decomposition import PCA\n",
    "from sklearn.preprocessing import scale\n",
    "import pandas as pd\n",
    "import seaborn as sns\n",
    "import random\n",
    "from sklearn import linear_model\n",
    "import statsmodels.api as sm"
   ]
  },
  {
   "cell_type": "code",
   "execution_count": 4,
   "metadata": {
    "collapsed": false
   },
   "outputs": [],
   "source": [
    "#Fonction pour lire les données dans le CSV et les transformer en un tableau de nombres\n",
    "def lire_csv(Nom):\n",
    "    fichier_lire=open(Nom)\n",
    "\n",
    "    fichier=csv.reader(fichier_lire, delimiter=\",\")\n",
    "    fichier=list(fichier)\n",
    "    tab2=np.array(fichier)\n",
    "    #tab2=np.delete(tab2, (0),axis=0)\n",
    "    \n",
    "    for i in range(0,np.shape(tab2)[0]):\n",
    "        for j in range(2,10):\n",
    "            tab2[i][j]=np.copy(float(tab2[i][j].replace(\",\",\".\")))\n",
    "       \n",
    "    return tab2;"
   ]
  },
  {
   "cell_type": "code",
   "execution_count": 5,
   "metadata": {
    "collapsed": false
   },
   "outputs": [],
   "source": [
    "#Data est le tableau de toutes les données \"train\"\n",
    "Data=lire_csv(\"blogData_train.csv\")\n",
    "Data=Data.astype(np.float)"
   ]
  },
  {
   "cell_type": "code",
   "execution_count": 6,
   "metadata": {
    "collapsed": false
   },
   "outputs": [
    {
     "name": "stdout",
     "output_type": "stream",
     "text": [
      "[ 1.  0.  0. ...,  0.  0.  0.]\n",
      "[[ 0.  0.  0. ...,  0.  0.  0.]\n",
      " [ 0.  0.  0. ...,  0.  0.  0.]\n",
      " [ 0.  0.  0. ...,  0.  0.  0.]\n",
      " ..., \n",
      " [ 0.  0.  0. ...,  0.  0.  0.]\n",
      " [ 0.  0.  0. ...,  0.  0.  0.]\n",
      " [ 0.  0.  0. ...,  0.  0.  0.]]\n"
     ]
    }
   ],
   "source": [
    "#Y est la variable à prédire, ici c'est la 281ème colonne\n",
    "Y=Data[:,280]\n",
    "print(Y)\n",
    "\n",
    "#Mots est la matrice contenant l'apparition ou non apparition des mots clés, ici c'est les colonnes 62 à 262\n",
    "Mots=Data[:, 62:261]\n",
    "print(Mots)"
   ]
  },
  {
   "cell_type": "code",
   "execution_count": 12,
   "metadata": {
    "collapsed": false
   },
   "outputs": [
    {
     "data": {
      "text/plain": [
       "DescribeResult(nobs=52397, minmax=(0.0, 1424.0), mean=6.7647193541614978, variance=1421.7850114550367, skewness=12.691311246278929, kurtosis=232.29540940625407)"
      ]
     },
     "execution_count": 12,
     "metadata": {},
     "output_type": "execute_result"
    }
   ],
   "source": [
    "stats.describe(Y)"
   ]
  },
  {
   "cell_type": "markdown",
   "metadata": {},
   "source": [
    "### Description de la variable à prédire Y"
   ]
  },
  {
   "cell_type": "code",
   "execution_count": 13,
   "metadata": {
    "collapsed": false
   },
   "outputs": [
    {
     "data": {
      "image/png": "[encoded data removed]",
      "text/plain": [
       "<matplotlib.figure.Figure at 0x1978d69fba8>"
      ]
     },
     "metadata": {},
     "output_type": "display_data"
    }
   ],
   "source": [
    "plt.hist(Y)\n",
    "plt.title(\"Histogramme de la variable Y\")\n",
    "plt.show()"
   ]
  },
  {
   "cell_type": "code",
   "execution_count": 14,
   "metadata": {
    "collapsed": false
   },
   "outputs": [
    {
     "name": "stdout",
     "output_type": "stream",
     "text": [
      "Nombre différents de 0 dans le vecteur Y :  18838\n",
      "Proportion de 0 dans le vecteur Y :  0.6404755997480771\n"
     ]
    }
   ],
   "source": [
    "print(\"Nombre différents de 0 dans le vecteur Y : \", len(Y[Y!=0]))\n",
    "print(\"Proportion de 0 dans le vecteur Y : \", 1-(len(Y[Y!=0])/len(Y)))"
   ]
  },
  {
   "cell_type": "code",
   "execution_count": 15,
   "metadata": {
    "collapsed": false
   },
   "outputs": [
    {
     "data": {
      "image/png": "[encoded data removed]",
      "text/plain": [
       "<matplotlib.figure.Figure at 0x197c7c61828>"
      ]
     },
     "metadata": {},
     "output_type": "display_data"
    }
   ],
   "source": [
    "plt.hist(Y[Y!=0])\n",
    "plt.title(\"Histogramme de la variable Y sans les 0\")\n",
    "plt.show()"
   ]
  },
  {
   "cell_type": "code",
   "execution_count": 16,
   "metadata": {
    "collapsed": false
   },
   "outputs": [
    {
     "data": {
      "image/png": "[encoded data removed]",
      "text/plain": [
       "<matplotlib.figure.Figure at 0x1978d69f978>"
      ]
     },
     "metadata": {},
     "output_type": "display_data"
    }
   ],
   "source": [
    "Y_sans0=Y[Y!=0]\n",
    "plt.hist(Y_sans0[Y_sans0<100])\n",
    "plt.title(\"Histogramme de la variable Y sans les 0 et inférieur à 100\")\n",
    "plt.show()"
   ]
  },
  {
   "cell_type": "markdown",
   "metadata": {},
   "source": [
    "On remarque que 64% des nombres de commentaires valent 0 et plus de 75% valent 0 ou 1.\n",
    "Cependant, il y a une grande dispersion des autres valeurs.\n",
    "\n",
    "Dans un second temps, nous allons essayer de travailler avec une variable Y qui soit quantitative (à faire)."
   ]
  },
  {
   "cell_type": "code",
   "execution_count": 17,
   "metadata": {
    "collapsed": false
   },
   "outputs": [
    {
     "name": "stdout",
     "output_type": "stream",
     "text": [
      "6.0\n"
     ]
    }
   ],
   "source": [
    "Quantile87=np.percentile(Y, 87.5)\n",
    "print(Quantile87)"
   ]
  },
  {
   "cell_type": "code",
   "execution_count": 18,
   "metadata": {
    "collapsed": false
   },
   "outputs": [],
   "source": [
    "#Discretisation de la variale Y\n",
    "#Equal0\n",
    "#Equal1\n",
    "#InfQuant\n",
    "#SupQuant\n",
    "\n",
    "Y_Quali=[]\n",
    "\n",
    "for i in range(0, np.shape(Y)[0]):\n",
    "    if Y[i]==0:\n",
    "        Y_Quali.append(\"Equal0\")\n",
    "    elif Y[i]==1:\n",
    "        Y_Quali.append(\"Equal1\")\n",
    "    elif Y[i]>1 and Y[i]<Quantile87:\n",
    "        Y_Quali.append(\"InfQuant\")\n",
    "    elif Y[i]>=Quantile87:\n",
    "        Y_Quali.append(\"SupQuant\")"
   ]
  },
  {
   "cell_type": "markdown",
   "metadata": {},
   "source": [
    "L'autre idée est de transformer nos données avec un logarithme en faisant ln(1+Y)\n",
    "On remarque que les données sont mieux réparties et donc plus utilisables."
   ]
  },
  {
   "cell_type": "code",
   "execution_count": 19,
   "metadata": {
    "collapsed": false
   },
   "outputs": [
    {
     "data": {
      "image/png": "[encoded data removed]",
      "text/plain": [
       "<matplotlib.figure.Figure at 0x197c7d654a8>"
      ]
     },
     "metadata": {},
     "output_type": "display_data"
    }
   ],
   "source": [
    "Yln=np.log(1+Y)\n",
    "plt.hist(Yln)\n",
    "plt.show()"
   ]
  },
  {
   "cell_type": "markdown",
   "metadata": {
    "collapsed": true
   },
   "source": [
    "## Les mots présents"
   ]
  },
  {
   "cell_type": "markdown",
   "metadata": {},
   "source": [
    "Travail descriptif pour les variables correspondantes aux apparitions des différents mots."
   ]
  },
  {
   "cell_type": "code",
   "execution_count": 20,
   "metadata": {
    "collapsed": false
   },
   "outputs": [],
   "source": [
    "Mots=Data[:, 62:261]"
   ]
  },
  {
   "cell_type": "code",
   "execution_count": 21,
   "metadata": {
    "collapsed": false
   },
   "outputs": [
    {
     "data": {
      "image/png": "[encoded data removed]",
      "text/plain": [
       "<matplotlib.figure.Figure at 0x1978d69f2e8>"
      ]
     },
     "metadata": {},
     "output_type": "display_data"
    },
    {
     "data": {
      "image/png": "[encoded data removed]",
      "text/plain": [
       "<matplotlib.figure.Figure at 0x1978d8d0eb8>"
      ]
     },
     "metadata": {},
     "output_type": "display_data"
    }
   ],
   "source": [
    "Appar_Mots=np.zeros((200))\n",
    "for i in range(0, 199):\n",
    "    Appar_Mots[i]=np.sum(Mots[:,i])  \n",
    "\n",
    "plt.scatter(np.arange(0,200),Appar_Mots)\n",
    "plt.title(\"Nombre d'apparitions total de chaque mot\")\n",
    "plt.xlabel(\"Numéro du mot\")\n",
    "plt.ylabel(\"Nombre d'apparitions\")\n",
    "plt.show()\n",
    "plt.hist(Appar_Mots)\n",
    "plt.show()"
   ]
  },
  {
   "cell_type": "code",
   "execution_count": 22,
   "metadata": {
    "collapsed": false
   },
   "outputs": [
    {
     "data": {
      "text/plain": [
       "DescribeResult(nobs=200, minmax=(0.0, 34139.0), mean=2551.0799999999999, variance=31393769.008643214, skewness=3.4662552767445773, kurtosis=13.507010613325772)"
      ]
     },
     "execution_count": 22,
     "metadata": {},
     "output_type": "execute_result"
    }
   ],
   "source": [
    "stats.describe(Appar_Mots)"
   ]
  },
  {
   "cell_type": "code",
   "execution_count": 23,
   "metadata": {
    "collapsed": false
   },
   "outputs": [
    {
     "data": {
      "text/plain": [
       "133"
      ]
     },
     "execution_count": 23,
     "metadata": {},
     "output_type": "execute_result"
    }
   ],
   "source": [
    "len(Appar_Mots[Appar_Mots<1000])"
   ]
  },
  {
   "cell_type": "markdown",
   "metadata": {},
   "source": [
    "La majorité des mots apparaissent pour peu d'individus, il va donc falloir faire un tri.\n",
    "\n",
    "Face à cela, certains mots apparaissent dans presque tous les articles (individus).\n",
    "\n",
    "Corrélations entre les mots :"
   ]
  },
  {
   "cell_type": "code",
   "execution_count": 24,
   "metadata": {
    "collapsed": false
   },
   "outputs": [
    {
     "data": {
      "image/png": "[encoded data removed]",
      "text/plain": [
       "<matplotlib.figure.Figure at 0x197c7d65f98>"
      ]
     },
     "metadata": {},
     "output_type": "display_data"
    }
   ],
   "source": [
    "Mots_Panda=pd.DataFrame(Mots)\n",
    "Mots_Panda_Corr=Mots_Panda.corr()\n",
    "plt.matshow(Mots_Panda_Corr[Mots_Panda_Corr>0.7])\n",
    "#plt.xticks(range(len(Mots_Panda.columns)), Mots_Panda.columns)\n",
    "#plt.yticks(range(len(Mots_Panda.columns)), Mots_Panda.columns)\n",
    "plt.colorbar()\n",
    "plt.show()"
   ]
  },
  {
   "cell_type": "code",
   "execution_count": 25,
   "metadata": {
    "collapsed": false
   },
   "outputs": [
    {
     "ename": "NameError",
     "evalue": "name 'MotsCorr' is not defined",
     "output_type": "error",
     "traceback": [
      "\u001b[0;31m---------------------------------------------------------------------------\u001b[0m",
      "\u001b[0;31mNameError\u001b[0m                                 Traceback (most recent call last)",
      "\u001b[0;32m<ipython-input-25-b67be83a321c>\u001b[0m in \u001b[0;36m<module>\u001b[0;34m()\u001b[0m\n\u001b[0;32m----> 1\u001b[0;31m \u001b[0mMotsCorr\u001b[0m\u001b[1;33m[\u001b[0m\u001b[1;36m0\u001b[0m\u001b[1;33m,\u001b[0m\u001b[1;36m0\u001b[0m\u001b[1;33m]\u001b[0m\u001b[1;33m\u001b[0m\u001b[0m\n\u001b[0m",
      "\u001b[0;31mNameError\u001b[0m: name 'MotsCorr' is not defined"
     ]
    }
   ],
   "source": [
    "MotsCorr[0,0]"
   ]
  },
  {
   "cell_type": "code",
   "execution_count": null,
   "metadata": {
    "collapsed": false
   },
   "outputs": [],
   "source": [
    "MotsCorr=Mots_Panda_Corr.values\n",
    "\n",
    "Compteur = 0\n",
    "for i in range (0, 199):\n",
    "    for j in range(0, 199):\n",
    "        if MotsCorr[i,j]>0.7 and MotsCorr[i,j]<1:\n",
    "            print(\"Les mots corrélés sont :\", i, \"et\", j, \"avec une corrélation de \", MotsCorr[i,j])\n",
    "            Compteur+=1\n",
    "print(\"Il y a au total \", Compteur/2, \"duos de mots très corrélés\")"
   ]
  },
  {
   "cell_type": "code",
   "execution_count": null,
   "metadata": {
    "collapsed": true
   },
   "outputs": [],
   "source": [
    "Mots_50=Mots[:, 0:49]\n",
    "Mots_100=Mots[:, 50:99]\n",
    "Mots_150=Mots[:, 100:149]\n",
    "Mots_200=Mots[:, 150:199]\n",
    "Mots_50_Panda=pd.DataFrame(Mots_50)"
   ]
  },
  {
   "cell_type": "markdown",
   "metadata": {},
   "source": [
    "## Variables qualitatives et indicateurs"
   ]
  },
  {
   "cell_type": "markdown",
   "metadata": {},
   "source": [
    "Ici, on s'intéresse aux 50 premières variables qui sont les indicateurs sur le nombre de commentaires avant notre date."
   ]
  },
  {
   "cell_type": "code",
   "execution_count": 26,
   "metadata": {
    "collapsed": true
   },
   "outputs": [],
   "source": [
    "Indi=Data[:,0:49]"
   ]
  },
  {
   "cell_type": "code",
   "execution_count": 27,
   "metadata": {
    "collapsed": false
   },
   "outputs": [],
   "source": [
    "Indi_Panda=pd.DataFrame(Indi)"
   ]
  },
  {
   "cell_type": "code",
   "execution_count": 28,
   "metadata": {
    "collapsed": true
   },
   "outputs": [],
   "source": [
    "Indi2=Data[:,0:5]\n",
    "Indi_Panda2=pd.DataFrame(Indi2)"
   ]
  },
  {
   "cell_type": "code",
   "execution_count": 29,
   "metadata": {
    "collapsed": false
   },
   "outputs": [
    {
     "data": {
      "image/png": "[encoded data removed]",
      "text/plain": [
       "<matplotlib.figure.Figure at 0x1978e25eb70>"
      ]
     },
     "metadata": {},
     "output_type": "display_data"
    }
   ],
   "source": [
    "sns.pairplot(Indi_Panda2, kind=\"scatter\")\n",
    "plt.show()"
   ]
  },
  {
   "cell_type": "code",
   "execution_count": 30,
   "metadata": {
    "collapsed": false,
    "scrolled": true
   },
   "outputs": [
    {
     "data": {
      "image/png": "[encoded data removed]",
      "text/plain": [
       "<matplotlib.figure.Figure at 0x197c7c788d0>"
      ]
     },
     "metadata": {},
     "output_type": "display_data"
    }
   ],
   "source": [
    "plt.matshow(Indi_Panda.corr())\n",
    "plt.xticks(range(len(Indi_Panda.columns)), Indi_Panda.columns)\n",
    "plt.yticks(range(len(Indi_Panda.columns)), Indi_Panda.columns)\n",
    "plt.colorbar()\n",
    "plt.show()"
   ]
  },
  {
   "cell_type": "code",
   "execution_count": 31,
   "metadata": {
    "collapsed": false
   },
   "outputs": [
    {
     "data": {
      "text/html": [
       "<div>\n",
       "<table border=\"1\" class=\"dataframe\">\n",
       "  <thead>\n",
       "    <tr style=\"text-align: right;\">\n",
       "      <th></th>\n",
       "      <th>0</th>\n",
       "      <th>1</th>\n",
       "      <th>2</th>\n",
       "      <th>3</th>\n",
       "      <th>4</th>\n",
       "      <th>5</th>\n",
       "      <th>6</th>\n",
       "      <th>7</th>\n",
       "      <th>8</th>\n",
       "      <th>9</th>\n",
       "      <th>...</th>\n",
       "      <th>39</th>\n",
       "      <th>40</th>\n",
       "      <th>41</th>\n",
       "      <th>42</th>\n",
       "      <th>43</th>\n",
       "      <th>44</th>\n",
       "      <th>45</th>\n",
       "      <th>46</th>\n",
       "      <th>47</th>\n",
       "      <th>48</th>\n",
       "    </tr>\n",
       "  </thead>\n",
       "  <tbody>\n",
       "    <tr>\n",
       "      <th>0</th>\n",
       "      <td>1.000000</td>\n",
       "      <td>0.926063</td>\n",
       "      <td>0.153651</td>\n",
       "      <td>0.852126</td>\n",
       "      <td>0.973861</td>\n",
       "      <td>0.996860</td>\n",
       "      <td>0.941574</td>\n",
       "      <td>0.091091</td>\n",
       "      <td>0.795670</td>\n",
       "      <td>0.921001</td>\n",
       "      <td>...</td>\n",
       "      <td>0.004591</td>\n",
       "      <td>0.676312</td>\n",
       "      <td>0.535100</td>\n",
       "      <td>0.008172</td>\n",
       "      <td>0.474527</td>\n",
       "      <td>0.663158</td>\n",
       "      <td>0.462910</td>\n",
       "      <td>0.588045</td>\n",
       "      <td>-0.430831</td>\n",
       "      <td>0.456317</td>\n",
       "    </tr>\n",
       "    <tr>\n",
       "      <th>1</th>\n",
       "      <td>0.926063</td>\n",
       "      <td>1.000000</td>\n",
       "      <td>0.062471</td>\n",
       "      <td>0.923558</td>\n",
       "      <td>0.826808</td>\n",
       "      <td>0.913370</td>\n",
       "      <td>0.991400</td>\n",
       "      <td>0.017353</td>\n",
       "      <td>0.876339</td>\n",
       "      <td>0.753083</td>\n",
       "      <td>...</td>\n",
       "      <td>-0.000069</td>\n",
       "      <td>0.695246</td>\n",
       "      <td>0.604857</td>\n",
       "      <td>-0.005998</td>\n",
       "      <td>0.518617</td>\n",
       "      <td>0.630570</td>\n",
       "      <td>0.506877</td>\n",
       "      <td>0.640441</td>\n",
       "      <td>-0.467591</td>\n",
       "      <td>0.483224</td>\n",
       "    </tr>\n",
       "    <tr>\n",
       "      <th>2</th>\n",
       "      <td>0.153651</td>\n",
       "      <td>0.062471</td>\n",
       "      <td>1.000000</td>\n",
       "      <td>0.022318</td>\n",
       "      <td>0.182835</td>\n",
       "      <td>0.145746</td>\n",
       "      <td>0.101145</td>\n",
       "      <td>0.749392</td>\n",
       "      <td>0.015544</td>\n",
       "      <td>0.198764</td>\n",
       "      <td>...</td>\n",
       "      <td>0.022875</td>\n",
       "      <td>0.013064</td>\n",
       "      <td>-0.000422</td>\n",
       "      <td>0.081603</td>\n",
       "      <td>-0.006324</td>\n",
       "      <td>0.025694</td>\n",
       "      <td>0.004179</td>\n",
       "      <td>0.007439</td>\n",
       "      <td>0.004175</td>\n",
       "      <td>-0.002759</td>\n",
       "    </tr>\n",
       "    <tr>\n",
       "      <th>3</th>\n",
       "      <td>0.852126</td>\n",
       "      <td>0.923558</td>\n",
       "      <td>0.022318</td>\n",
       "      <td>1.000000</td>\n",
       "      <td>0.765456</td>\n",
       "      <td>0.825913</td>\n",
       "      <td>0.913739</td>\n",
       "      <td>0.005770</td>\n",
       "      <td>0.959883</td>\n",
       "      <td>0.644830</td>\n",
       "      <td>...</td>\n",
       "      <td>-0.010974</td>\n",
       "      <td>0.569128</td>\n",
       "      <td>0.521621</td>\n",
       "      <td>-0.015137</td>\n",
       "      <td>0.525901</td>\n",
       "      <td>0.483146</td>\n",
       "      <td>0.453277</td>\n",
       "      <td>0.527221</td>\n",
       "      <td>-0.438498</td>\n",
       "      <td>0.454094</td>\n",
       "    </tr>\n",
       "    <tr>\n",
       "      <th>4</th>\n",
       "      <td>0.973861</td>\n",
       "      <td>0.826808</td>\n",
       "      <td>0.182835</td>\n",
       "      <td>0.765456</td>\n",
       "      <td>1.000000</td>\n",
       "      <td>0.977636</td>\n",
       "      <td>0.854387</td>\n",
       "      <td>0.126099</td>\n",
       "      <td>0.704929</td>\n",
       "      <td>0.960397</td>\n",
       "      <td>...</td>\n",
       "      <td>0.009122</td>\n",
       "      <td>0.599619</td>\n",
       "      <td>0.462603</td>\n",
       "      <td>0.014236</td>\n",
       "      <td>0.426797</td>\n",
       "      <td>0.602223</td>\n",
       "      <td>0.396297</td>\n",
       "      <td>0.509220</td>\n",
       "      <td>-0.388761</td>\n",
       "      <td>0.418736</td>\n",
       "    </tr>\n",
       "    <tr>\n",
       "      <th>5</th>\n",
       "      <td>0.996860</td>\n",
       "      <td>0.913370</td>\n",
       "      <td>0.145746</td>\n",
       "      <td>0.825913</td>\n",
       "      <td>0.977636</td>\n",
       "      <td>1.000000</td>\n",
       "      <td>0.931110</td>\n",
       "      <td>0.088670</td>\n",
       "      <td>0.770021</td>\n",
       "      <td>0.941931</td>\n",
       "      <td>...</td>\n",
       "      <td>0.004753</td>\n",
       "      <td>0.682281</td>\n",
       "      <td>0.543814</td>\n",
       "      <td>0.006386</td>\n",
       "      <td>0.481940</td>\n",
       "      <td>0.667564</td>\n",
       "      <td>0.472375</td>\n",
       "      <td>0.597371</td>\n",
       "      <td>-0.445644</td>\n",
       "      <td>0.471862</td>\n",
       "    </tr>\n",
       "    <tr>\n",
       "      <th>6</th>\n",
       "      <td>0.941574</td>\n",
       "      <td>0.991400</td>\n",
       "      <td>0.101145</td>\n",
       "      <td>0.913739</td>\n",
       "      <td>0.854387</td>\n",
       "      <td>0.931110</td>\n",
       "      <td>1.000000</td>\n",
       "      <td>0.046142</td>\n",
       "      <td>0.889602</td>\n",
       "      <td>0.774960</td>\n",
       "      <td>...</td>\n",
       "      <td>0.001105</td>\n",
       "      <td>0.709332</td>\n",
       "      <td>0.616270</td>\n",
       "      <td>0.002467</td>\n",
       "      <td>0.531006</td>\n",
       "      <td>0.645768</td>\n",
       "      <td>0.513447</td>\n",
       "      <td>0.653376</td>\n",
       "      <td>-0.479324</td>\n",
       "      <td>0.496025</td>\n",
       "    </tr>\n",
       "    <tr>\n",
       "      <th>7</th>\n",
       "      <td>0.091091</td>\n",
       "      <td>0.017353</td>\n",
       "      <td>0.749392</td>\n",
       "      <td>0.005770</td>\n",
       "      <td>0.126099</td>\n",
       "      <td>0.088670</td>\n",
       "      <td>0.046142</td>\n",
       "      <td>1.000000</td>\n",
       "      <td>0.000688</td>\n",
       "      <td>0.155860</td>\n",
       "      <td>...</td>\n",
       "      <td>-0.000471</td>\n",
       "      <td>-0.010592</td>\n",
       "      <td>-0.016586</td>\n",
       "      <td>-0.000610</td>\n",
       "      <td>-0.016128</td>\n",
       "      <td>-0.005203</td>\n",
       "      <td>-0.010875</td>\n",
       "      <td>-0.013276</td>\n",
       "      <td>0.017567</td>\n",
       "      <td>-0.016801</td>\n",
       "    </tr>\n",
       "    <tr>\n",
       "      <th>8</th>\n",
       "      <td>0.795670</td>\n",
       "      <td>0.876339</td>\n",
       "      <td>0.015544</td>\n",
       "      <td>0.959883</td>\n",
       "      <td>0.704929</td>\n",
       "      <td>0.770021</td>\n",
       "      <td>0.889602</td>\n",
       "      <td>0.000688</td>\n",
       "      <td>1.000000</td>\n",
       "      <td>0.570294</td>\n",
       "      <td>...</td>\n",
       "      <td>-0.012169</td>\n",
       "      <td>0.525983</td>\n",
       "      <td>0.498073</td>\n",
       "      <td>-0.014870</td>\n",
       "      <td>0.510052</td>\n",
       "      <td>0.427722</td>\n",
       "      <td>0.412330</td>\n",
       "      <td>0.494242</td>\n",
       "      <td>-0.422374</td>\n",
       "      <td>0.439828</td>\n",
       "    </tr>\n",
       "    <tr>\n",
       "      <th>9</th>\n",
       "      <td>0.921001</td>\n",
       "      <td>0.753083</td>\n",
       "      <td>0.198764</td>\n",
       "      <td>0.644830</td>\n",
       "      <td>0.960397</td>\n",
       "      <td>0.941931</td>\n",
       "      <td>0.774960</td>\n",
       "      <td>0.155860</td>\n",
       "      <td>0.570294</td>\n",
       "      <td>1.000000</td>\n",
       "      <td>...</td>\n",
       "      <td>-0.003436</td>\n",
       "      <td>0.593770</td>\n",
       "      <td>0.461795</td>\n",
       "      <td>0.002716</td>\n",
       "      <td>0.420015</td>\n",
       "      <td>0.594687</td>\n",
       "      <td>0.406728</td>\n",
       "      <td>0.514198</td>\n",
       "      <td>-0.412661</td>\n",
       "      <td>0.443905</td>\n",
       "    </tr>\n",
       "    <tr>\n",
       "      <th>10</th>\n",
       "      <td>0.998910</td>\n",
       "      <td>0.921654</td>\n",
       "      <td>0.163347</td>\n",
       "      <td>0.842279</td>\n",
       "      <td>0.976374</td>\n",
       "      <td>0.998416</td>\n",
       "      <td>0.939649</td>\n",
       "      <td>0.098823</td>\n",
       "      <td>0.787987</td>\n",
       "      <td>0.929050</td>\n",
       "      <td>...</td>\n",
       "      <td>0.006207</td>\n",
       "      <td>0.679039</td>\n",
       "      <td>0.543851</td>\n",
       "      <td>0.008290</td>\n",
       "      <td>0.483601</td>\n",
       "      <td>0.661142</td>\n",
       "      <td>0.468601</td>\n",
       "      <td>0.594326</td>\n",
       "      <td>-0.441311</td>\n",
       "      <td>0.466921</td>\n",
       "    </tr>\n",
       "    <tr>\n",
       "      <th>11</th>\n",
       "      <td>0.948900</td>\n",
       "      <td>0.990792</td>\n",
       "      <td>0.100018</td>\n",
       "      <td>0.910829</td>\n",
       "      <td>0.865819</td>\n",
       "      <td>0.938987</td>\n",
       "      <td>0.999204</td>\n",
       "      <td>0.046342</td>\n",
       "      <td>0.883876</td>\n",
       "      <td>0.789400</td>\n",
       "      <td>...</td>\n",
       "      <td>0.001021</td>\n",
       "      <td>0.712068</td>\n",
       "      <td>0.615905</td>\n",
       "      <td>0.002326</td>\n",
       "      <td>0.532135</td>\n",
       "      <td>0.650181</td>\n",
       "      <td>0.511528</td>\n",
       "      <td>0.653934</td>\n",
       "      <td>-0.480789</td>\n",
       "      <td>0.498361</td>\n",
       "    </tr>\n",
       "    <tr>\n",
       "      <th>12</th>\n",
       "      <td>NaN</td>\n",
       "      <td>NaN</td>\n",
       "      <td>NaN</td>\n",
       "      <td>NaN</td>\n",
       "      <td>NaN</td>\n",
       "      <td>NaN</td>\n",
       "      <td>NaN</td>\n",
       "      <td>NaN</td>\n",
       "      <td>NaN</td>\n",
       "      <td>NaN</td>\n",
       "      <td>...</td>\n",
       "      <td>NaN</td>\n",
       "      <td>NaN</td>\n",
       "      <td>NaN</td>\n",
       "      <td>NaN</td>\n",
       "      <td>NaN</td>\n",
       "      <td>NaN</td>\n",
       "      <td>NaN</td>\n",
       "      <td>NaN</td>\n",
       "      <td>NaN</td>\n",
       "      <td>NaN</td>\n",
       "    </tr>\n",
       "    <tr>\n",
       "      <th>13</th>\n",
       "      <td>0.798356</td>\n",
       "      <td>0.876771</td>\n",
       "      <td>0.015885</td>\n",
       "      <td>0.958002</td>\n",
       "      <td>0.708806</td>\n",
       "      <td>0.772321</td>\n",
       "      <td>0.889656</td>\n",
       "      <td>0.000807</td>\n",
       "      <td>0.998519</td>\n",
       "      <td>0.573242</td>\n",
       "      <td>...</td>\n",
       "      <td>-0.012079</td>\n",
       "      <td>0.523391</td>\n",
       "      <td>0.494617</td>\n",
       "      <td>-0.014751</td>\n",
       "      <td>0.510003</td>\n",
       "      <td>0.423204</td>\n",
       "      <td>0.405816</td>\n",
       "      <td>0.490376</td>\n",
       "      <td>-0.419913</td>\n",
       "      <td>0.438274</td>\n",
       "    </tr>\n",
       "    <tr>\n",
       "      <th>14</th>\n",
       "      <td>0.912333</td>\n",
       "      <td>0.737123</td>\n",
       "      <td>0.330681</td>\n",
       "      <td>0.650961</td>\n",
       "      <td>0.959002</td>\n",
       "      <td>0.927879</td>\n",
       "      <td>0.763252</td>\n",
       "      <td>0.256335</td>\n",
       "      <td>0.577184</td>\n",
       "      <td>0.984173</td>\n",
       "      <td>...</td>\n",
       "      <td>-0.002319</td>\n",
       "      <td>0.540537</td>\n",
       "      <td>0.427047</td>\n",
       "      <td>0.008819</td>\n",
       "      <td>0.401184</td>\n",
       "      <td>0.532501</td>\n",
       "      <td>0.371097</td>\n",
       "      <td>0.466488</td>\n",
       "      <td>-0.381998</td>\n",
       "      <td>0.412942</td>\n",
       "    </tr>\n",
       "    <tr>\n",
       "      <th>15</th>\n",
       "      <td>0.997132</td>\n",
       "      <td>0.933183</td>\n",
       "      <td>0.176489</td>\n",
       "      <td>0.870504</td>\n",
       "      <td>0.965107</td>\n",
       "      <td>0.989112</td>\n",
       "      <td>0.949489</td>\n",
       "      <td>0.104824</td>\n",
       "      <td>0.819430</td>\n",
       "      <td>0.896087</td>\n",
       "      <td>...</td>\n",
       "      <td>0.006890</td>\n",
       "      <td>0.668139</td>\n",
       "      <td>0.530613</td>\n",
       "      <td>0.010984</td>\n",
       "      <td>0.472999</td>\n",
       "      <td>0.652206</td>\n",
       "      <td>0.455220</td>\n",
       "      <td>0.579477</td>\n",
       "      <td>-0.420081</td>\n",
       "      <td>0.444568</td>\n",
       "    </tr>\n",
       "    <tr>\n",
       "      <th>16</th>\n",
       "      <td>0.886327</td>\n",
       "      <td>0.989963</td>\n",
       "      <td>0.075559</td>\n",
       "      <td>0.929035</td>\n",
       "      <td>0.771987</td>\n",
       "      <td>0.865190</td>\n",
       "      <td>0.978083</td>\n",
       "      <td>0.018435</td>\n",
       "      <td>0.889525</td>\n",
       "      <td>0.674114</td>\n",
       "      <td>...</td>\n",
       "      <td>0.002013</td>\n",
       "      <td>0.666854</td>\n",
       "      <td>0.589403</td>\n",
       "      <td>-0.004355</td>\n",
       "      <td>0.505682</td>\n",
       "      <td>0.593991</td>\n",
       "      <td>0.485214</td>\n",
       "      <td>0.615332</td>\n",
       "      <td>-0.441205</td>\n",
       "      <td>0.453157</td>\n",
       "    </tr>\n",
       "    <tr>\n",
       "      <th>17</th>\n",
       "      <td>0.153651</td>\n",
       "      <td>0.062471</td>\n",
       "      <td>1.000000</td>\n",
       "      <td>0.022318</td>\n",
       "      <td>0.182835</td>\n",
       "      <td>0.145746</td>\n",
       "      <td>0.101145</td>\n",
       "      <td>0.749392</td>\n",
       "      <td>0.015544</td>\n",
       "      <td>0.198764</td>\n",
       "      <td>...</td>\n",
       "      <td>0.022875</td>\n",
       "      <td>0.013064</td>\n",
       "      <td>-0.000422</td>\n",
       "      <td>0.081603</td>\n",
       "      <td>-0.006324</td>\n",
       "      <td>0.025694</td>\n",
       "      <td>0.004179</td>\n",
       "      <td>0.007439</td>\n",
       "      <td>0.004175</td>\n",
       "      <td>-0.002759</td>\n",
       "    </tr>\n",
       "    <tr>\n",
       "      <th>18</th>\n",
       "      <td>0.780321</td>\n",
       "      <td>0.869797</td>\n",
       "      <td>0.028947</td>\n",
       "      <td>0.976835</td>\n",
       "      <td>0.687418</td>\n",
       "      <td>0.746937</td>\n",
       "      <td>0.867226</td>\n",
       "      <td>0.008254</td>\n",
       "      <td>0.971377</td>\n",
       "      <td>0.536040</td>\n",
       "      <td>...</td>\n",
       "      <td>-0.009757</td>\n",
       "      <td>0.510822</td>\n",
       "      <td>0.487258</td>\n",
       "      <td>-0.013859</td>\n",
       "      <td>0.509723</td>\n",
       "      <td>0.405322</td>\n",
       "      <td>0.408410</td>\n",
       "      <td>0.473891</td>\n",
       "      <td>-0.393361</td>\n",
       "      <td>0.405911</td>\n",
       "    </tr>\n",
       "    <tr>\n",
       "      <th>19</th>\n",
       "      <td>0.972425</td>\n",
       "      <td>0.825945</td>\n",
       "      <td>0.192662</td>\n",
       "      <td>0.773967</td>\n",
       "      <td>0.998351</td>\n",
       "      <td>0.974588</td>\n",
       "      <td>0.855885</td>\n",
       "      <td>0.139433</td>\n",
       "      <td>0.718524</td>\n",
       "      <td>0.952332</td>\n",
       "      <td>...</td>\n",
       "      <td>0.011356</td>\n",
       "      <td>0.595389</td>\n",
       "      <td>0.460704</td>\n",
       "      <td>0.016246</td>\n",
       "      <td>0.430289</td>\n",
       "      <td>0.596682</td>\n",
       "      <td>0.392711</td>\n",
       "      <td>0.504891</td>\n",
       "      <td>-0.386719</td>\n",
       "      <td>0.416504</td>\n",
       "    </tr>\n",
       "    <tr>\n",
       "      <th>20</th>\n",
       "      <td>0.884921</td>\n",
       "      <td>0.764599</td>\n",
       "      <td>0.004579</td>\n",
       "      <td>0.627370</td>\n",
       "      <td>0.891465</td>\n",
       "      <td>0.913965</td>\n",
       "      <td>0.778770</td>\n",
       "      <td>0.006799</td>\n",
       "      <td>0.565389</td>\n",
       "      <td>0.943045</td>\n",
       "      <td>...</td>\n",
       "      <td>-0.006197</td>\n",
       "      <td>0.639174</td>\n",
       "      <td>0.490551</td>\n",
       "      <td>-0.007977</td>\n",
       "      <td>0.422984</td>\n",
       "      <td>0.648831</td>\n",
       "      <td>0.453563</td>\n",
       "      <td>0.561112</td>\n",
       "      <td>-0.433467</td>\n",
       "      <td>0.461515</td>\n",
       "    </tr>\n",
       "    <tr>\n",
       "      <th>21</th>\n",
       "      <td>0.955116</td>\n",
       "      <td>0.984167</td>\n",
       "      <td>0.114149</td>\n",
       "      <td>0.907548</td>\n",
       "      <td>0.877636</td>\n",
       "      <td>0.944309</td>\n",
       "      <td>0.997582</td>\n",
       "      <td>0.058211</td>\n",
       "      <td>0.885568</td>\n",
       "      <td>0.796629</td>\n",
       "      <td>...</td>\n",
       "      <td>0.001138</td>\n",
       "      <td>0.709245</td>\n",
       "      <td>0.606516</td>\n",
       "      <td>0.005276</td>\n",
       "      <td>0.524045</td>\n",
       "      <td>0.652759</td>\n",
       "      <td>0.505066</td>\n",
       "      <td>0.647034</td>\n",
       "      <td>-0.471815</td>\n",
       "      <td>0.490245</td>\n",
       "    </tr>\n",
       "    <tr>\n",
       "      <th>22</th>\n",
       "      <td>-0.721287</td>\n",
       "      <td>-0.823586</td>\n",
       "      <td>-0.017834</td>\n",
       "      <td>-0.892489</td>\n",
       "      <td>-0.619366</td>\n",
       "      <td>-0.692541</td>\n",
       "      <td>-0.838444</td>\n",
       "      <td>0.000583</td>\n",
       "      <td>-0.970233</td>\n",
       "      <td>-0.481833</td>\n",
       "      <td>...</td>\n",
       "      <td>0.014055</td>\n",
       "      <td>-0.449232</td>\n",
       "      <td>-0.426008</td>\n",
       "      <td>0.015695</td>\n",
       "      <td>-0.431373</td>\n",
       "      <td>-0.361271</td>\n",
       "      <td>-0.332248</td>\n",
       "      <td>-0.424001</td>\n",
       "      <td>0.362734</td>\n",
       "      <td>-0.382041</td>\n",
       "    </tr>\n",
       "    <tr>\n",
       "      <th>23</th>\n",
       "      <td>0.795747</td>\n",
       "      <td>0.873344</td>\n",
       "      <td>0.011128</td>\n",
       "      <td>0.956209</td>\n",
       "      <td>0.706182</td>\n",
       "      <td>0.769160</td>\n",
       "      <td>0.886642</td>\n",
       "      <td>0.000464</td>\n",
       "      <td>0.997502</td>\n",
       "      <td>0.568962</td>\n",
       "      <td>...</td>\n",
       "      <td>-0.012022</td>\n",
       "      <td>0.520331</td>\n",
       "      <td>0.486349</td>\n",
       "      <td>-0.014499</td>\n",
       "      <td>0.498507</td>\n",
       "      <td>0.420501</td>\n",
       "      <td>0.406205</td>\n",
       "      <td>0.483659</td>\n",
       "      <td>-0.405964</td>\n",
       "      <td>0.425323</td>\n",
       "    </tr>\n",
       "    <tr>\n",
       "      <th>24</th>\n",
       "      <td>-0.148094</td>\n",
       "      <td>-0.138621</td>\n",
       "      <td>-0.060933</td>\n",
       "      <td>-0.295480</td>\n",
       "      <td>-0.154828</td>\n",
       "      <td>-0.119232</td>\n",
       "      <td>-0.150337</td>\n",
       "      <td>-0.215008</td>\n",
       "      <td>-0.292556</td>\n",
       "      <td>-0.068713</td>\n",
       "      <td>...</td>\n",
       "      <td>-0.002160</td>\n",
       "      <td>-0.073580</td>\n",
       "      <td>-0.053215</td>\n",
       "      <td>-0.045609</td>\n",
       "      <td>-0.086500</td>\n",
       "      <td>-0.065120</td>\n",
       "      <td>-0.004250</td>\n",
       "      <td>-0.045058</td>\n",
       "      <td>0.019168</td>\n",
       "      <td>-0.017887</td>\n",
       "    </tr>\n",
       "    <tr>\n",
       "      <th>25</th>\n",
       "      <td>0.672064</td>\n",
       "      <td>0.693496</td>\n",
       "      <td>0.011381</td>\n",
       "      <td>0.570603</td>\n",
       "      <td>0.595227</td>\n",
       "      <td>0.678539</td>\n",
       "      <td>0.707537</td>\n",
       "      <td>-0.009365</td>\n",
       "      <td>0.527232</td>\n",
       "      <td>0.590386</td>\n",
       "      <td>...</td>\n",
       "      <td>0.087854</td>\n",
       "      <td>0.999129</td>\n",
       "      <td>0.907407</td>\n",
       "      <td>0.092250</td>\n",
       "      <td>0.760004</td>\n",
       "      <td>0.894302</td>\n",
       "      <td>0.770930</td>\n",
       "      <td>0.966916</td>\n",
       "      <td>-0.749421</td>\n",
       "      <td>0.747860</td>\n",
       "    </tr>\n",
       "    <tr>\n",
       "      <th>26</th>\n",
       "      <td>0.532711</td>\n",
       "      <td>0.603383</td>\n",
       "      <td>-0.001730</td>\n",
       "      <td>0.520431</td>\n",
       "      <td>0.460762</td>\n",
       "      <td>0.542642</td>\n",
       "      <td>0.615050</td>\n",
       "      <td>-0.015901</td>\n",
       "      <td>0.495754</td>\n",
       "      <td>0.463262</td>\n",
       "      <td>...</td>\n",
       "      <td>0.049943</td>\n",
       "      <td>0.900350</td>\n",
       "      <td>0.997712</td>\n",
       "      <td>0.004416</td>\n",
       "      <td>0.897223</td>\n",
       "      <td>0.670300</td>\n",
       "      <td>0.750526</td>\n",
       "      <td>0.972434</td>\n",
       "      <td>-0.900023</td>\n",
       "      <td>0.887737</td>\n",
       "    </tr>\n",
       "    <tr>\n",
       "      <th>27</th>\n",
       "      <td>0.008172</td>\n",
       "      <td>-0.005998</td>\n",
       "      <td>0.081603</td>\n",
       "      <td>-0.015137</td>\n",
       "      <td>0.014236</td>\n",
       "      <td>0.006386</td>\n",
       "      <td>0.002467</td>\n",
       "      <td>-0.000610</td>\n",
       "      <td>-0.014870</td>\n",
       "      <td>0.002716</td>\n",
       "      <td>...</td>\n",
       "      <td>0.257515</td>\n",
       "      <td>0.097736</td>\n",
       "      <td>0.003157</td>\n",
       "      <td>1.000000</td>\n",
       "      <td>-0.002657</td>\n",
       "      <td>0.132213</td>\n",
       "      <td>0.075397</td>\n",
       "      <td>0.063990</td>\n",
       "      <td>0.000258</td>\n",
       "      <td>-0.003113</td>\n",
       "    </tr>\n",
       "    <tr>\n",
       "      <th>28</th>\n",
       "      <td>0.492159</td>\n",
       "      <td>0.531043</td>\n",
       "      <td>-0.007650</td>\n",
       "      <td>0.526028</td>\n",
       "      <td>0.445144</td>\n",
       "      <td>0.502260</td>\n",
       "      <td>0.544298</td>\n",
       "      <td>-0.016198</td>\n",
       "      <td>0.509423</td>\n",
       "      <td>0.448072</td>\n",
       "      <td>...</td>\n",
       "      <td>0.006574</td>\n",
       "      <td>0.773295</td>\n",
       "      <td>0.908420</td>\n",
       "      <td>-0.003707</td>\n",
       "      <td>0.994108</td>\n",
       "      <td>0.544843</td>\n",
       "      <td>0.643162</td>\n",
       "      <td>0.855526</td>\n",
       "      <td>-0.956948</td>\n",
       "      <td>0.969658</td>\n",
       "    </tr>\n",
       "    <tr>\n",
       "      <th>29</th>\n",
       "      <td>0.697688</td>\n",
       "      <td>0.687640</td>\n",
       "      <td>0.014956</td>\n",
       "      <td>0.566688</td>\n",
       "      <td>0.629807</td>\n",
       "      <td>0.702291</td>\n",
       "      <td>0.702422</td>\n",
       "      <td>-0.004235</td>\n",
       "      <td>0.512936</td>\n",
       "      <td>0.619161</td>\n",
       "      <td>...</td>\n",
       "      <td>0.090126</td>\n",
       "      <td>0.952514</td>\n",
       "      <td>0.769667</td>\n",
       "      <td>0.101630</td>\n",
       "      <td>0.643205</td>\n",
       "      <td>0.944734</td>\n",
       "      <td>0.714840</td>\n",
       "      <td>0.868386</td>\n",
       "      <td>-0.616351</td>\n",
       "      <td>0.615905</td>\n",
       "    </tr>\n",
       "    <tr>\n",
       "      <th>30</th>\n",
       "      <td>0.677702</td>\n",
       "      <td>0.696667</td>\n",
       "      <td>0.009348</td>\n",
       "      <td>0.577020</td>\n",
       "      <td>0.605300</td>\n",
       "      <td>0.686019</td>\n",
       "      <td>0.711456</td>\n",
       "      <td>-0.009094</td>\n",
       "      <td>0.532499</td>\n",
       "      <td>0.602493</td>\n",
       "      <td>...</td>\n",
       "      <td>0.094194</td>\n",
       "      <td>0.995407</td>\n",
       "      <td>0.914915</td>\n",
       "      <td>0.087750</td>\n",
       "      <td>0.769905</td>\n",
       "      <td>0.880891</td>\n",
       "      <td>0.794410</td>\n",
       "      <td>0.969795</td>\n",
       "      <td>-0.761690</td>\n",
       "      <td>0.758946</td>\n",
       "    </tr>\n",
       "    <tr>\n",
       "      <th>31</th>\n",
       "      <td>0.568854</td>\n",
       "      <td>0.628847</td>\n",
       "      <td>0.005128</td>\n",
       "      <td>0.524507</td>\n",
       "      <td>0.491229</td>\n",
       "      <td>0.578501</td>\n",
       "      <td>0.641323</td>\n",
       "      <td>-0.014321</td>\n",
       "      <td>0.493850</td>\n",
       "      <td>0.495840</td>\n",
       "      <td>...</td>\n",
       "      <td>0.052648</td>\n",
       "      <td>0.947048</td>\n",
       "      <td>0.984100</td>\n",
       "      <td>0.051724</td>\n",
       "      <td>0.861483</td>\n",
       "      <td>0.763310</td>\n",
       "      <td>0.777135</td>\n",
       "      <td>0.997045</td>\n",
       "      <td>-0.876211</td>\n",
       "      <td>0.863177</td>\n",
       "    </tr>\n",
       "    <tr>\n",
       "      <th>32</th>\n",
       "      <td>NaN</td>\n",
       "      <td>NaN</td>\n",
       "      <td>NaN</td>\n",
       "      <td>NaN</td>\n",
       "      <td>NaN</td>\n",
       "      <td>NaN</td>\n",
       "      <td>NaN</td>\n",
       "      <td>NaN</td>\n",
       "      <td>NaN</td>\n",
       "      <td>NaN</td>\n",
       "      <td>...</td>\n",
       "      <td>NaN</td>\n",
       "      <td>NaN</td>\n",
       "      <td>NaN</td>\n",
       "      <td>NaN</td>\n",
       "      <td>NaN</td>\n",
       "      <td>NaN</td>\n",
       "      <td>NaN</td>\n",
       "      <td>NaN</td>\n",
       "      <td>NaN</td>\n",
       "      <td>NaN</td>\n",
       "    </tr>\n",
       "    <tr>\n",
       "      <th>33</th>\n",
       "      <td>0.463991</td>\n",
       "      <td>0.488819</td>\n",
       "      <td>-0.003694</td>\n",
       "      <td>0.454906</td>\n",
       "      <td>0.427292</td>\n",
       "      <td>0.480344</td>\n",
       "      <td>0.501844</td>\n",
       "      <td>-0.016947</td>\n",
       "      <td>0.439880</td>\n",
       "      <td>0.455054</td>\n",
       "      <td>...</td>\n",
       "      <td>0.002014</td>\n",
       "      <td>0.746492</td>\n",
       "      <td>0.892466</td>\n",
       "      <td>-0.002782</td>\n",
       "      <td>0.960774</td>\n",
       "      <td>0.530812</td>\n",
       "      <td>0.624167</td>\n",
       "      <td>0.850015</td>\n",
       "      <td>-0.991953</td>\n",
       "      <td>0.997865</td>\n",
       "    </tr>\n",
       "    <tr>\n",
       "      <th>34</th>\n",
       "      <td>0.796453</td>\n",
       "      <td>0.659292</td>\n",
       "      <td>-0.002183</td>\n",
       "      <td>0.485330</td>\n",
       "      <td>0.809386</td>\n",
       "      <td>0.826542</td>\n",
       "      <td>0.677770</td>\n",
       "      <td>-0.002931</td>\n",
       "      <td>0.427790</td>\n",
       "      <td>0.885709</td>\n",
       "      <td>...</td>\n",
       "      <td>0.126475</td>\n",
       "      <td>0.702607</td>\n",
       "      <td>0.508748</td>\n",
       "      <td>0.073948</td>\n",
       "      <td>0.407422</td>\n",
       "      <td>0.750164</td>\n",
       "      <td>0.485404</td>\n",
       "      <td>0.609409</td>\n",
       "      <td>-0.441117</td>\n",
       "      <td>0.465272</td>\n",
       "    </tr>\n",
       "    <tr>\n",
       "      <th>35</th>\n",
       "      <td>0.682118</td>\n",
       "      <td>0.699170</td>\n",
       "      <td>0.009554</td>\n",
       "      <td>0.576897</td>\n",
       "      <td>0.610371</td>\n",
       "      <td>0.690241</td>\n",
       "      <td>0.714288</td>\n",
       "      <td>-0.008847</td>\n",
       "      <td>0.532778</td>\n",
       "      <td>0.606735</td>\n",
       "      <td>...</td>\n",
       "      <td>0.099807</td>\n",
       "      <td>0.996938</td>\n",
       "      <td>0.913813</td>\n",
       "      <td>0.087306</td>\n",
       "      <td>0.768638</td>\n",
       "      <td>0.886147</td>\n",
       "      <td>0.769554</td>\n",
       "      <td>0.968890</td>\n",
       "      <td>-0.759145</td>\n",
       "      <td>0.757428</td>\n",
       "    </tr>\n",
       "    <tr>\n",
       "      <th>36</th>\n",
       "      <td>0.573386</td>\n",
       "      <td>0.633029</td>\n",
       "      <td>0.004659</td>\n",
       "      <td>0.528060</td>\n",
       "      <td>0.495308</td>\n",
       "      <td>0.582841</td>\n",
       "      <td>0.645357</td>\n",
       "      <td>-0.014051</td>\n",
       "      <td>0.497235</td>\n",
       "      <td>0.499518</td>\n",
       "      <td>...</td>\n",
       "      <td>0.052440</td>\n",
       "      <td>0.949490</td>\n",
       "      <td>0.984120</td>\n",
       "      <td>0.053599</td>\n",
       "      <td>0.861313</td>\n",
       "      <td>0.767345</td>\n",
       "      <td>0.765196</td>\n",
       "      <td>0.997385</td>\n",
       "      <td>-0.875718</td>\n",
       "      <td>0.862734</td>\n",
       "    </tr>\n",
       "    <tr>\n",
       "      <th>37</th>\n",
       "      <td>NaN</td>\n",
       "      <td>NaN</td>\n",
       "      <td>NaN</td>\n",
       "      <td>NaN</td>\n",
       "      <td>NaN</td>\n",
       "      <td>NaN</td>\n",
       "      <td>NaN</td>\n",
       "      <td>NaN</td>\n",
       "      <td>NaN</td>\n",
       "      <td>NaN</td>\n",
       "      <td>...</td>\n",
       "      <td>NaN</td>\n",
       "      <td>NaN</td>\n",
       "      <td>NaN</td>\n",
       "      <td>NaN</td>\n",
       "      <td>NaN</td>\n",
       "      <td>NaN</td>\n",
       "      <td>NaN</td>\n",
       "      <td>NaN</td>\n",
       "      <td>NaN</td>\n",
       "      <td>NaN</td>\n",
       "    </tr>\n",
       "    <tr>\n",
       "      <th>38</th>\n",
       "      <td>0.464461</td>\n",
       "      <td>0.489849</td>\n",
       "      <td>-0.003562</td>\n",
       "      <td>0.456123</td>\n",
       "      <td>0.427467</td>\n",
       "      <td>0.480703</td>\n",
       "      <td>0.502778</td>\n",
       "      <td>-0.016854</td>\n",
       "      <td>0.441195</td>\n",
       "      <td>0.454861</td>\n",
       "      <td>...</td>\n",
       "      <td>0.002075</td>\n",
       "      <td>0.746377</td>\n",
       "      <td>0.892738</td>\n",
       "      <td>-0.002693</td>\n",
       "      <td>0.960997</td>\n",
       "      <td>0.530275</td>\n",
       "      <td>0.620604</td>\n",
       "      <td>0.849873</td>\n",
       "      <td>-0.992312</td>\n",
       "      <td>0.997768</td>\n",
       "    </tr>\n",
       "    <tr>\n",
       "      <th>39</th>\n",
       "      <td>0.004591</td>\n",
       "      <td>-0.000069</td>\n",
       "      <td>0.022875</td>\n",
       "      <td>-0.010974</td>\n",
       "      <td>0.009122</td>\n",
       "      <td>0.004753</td>\n",
       "      <td>0.001105</td>\n",
       "      <td>-0.000471</td>\n",
       "      <td>-0.012169</td>\n",
       "      <td>-0.003436</td>\n",
       "      <td>...</td>\n",
       "      <td>1.000000</td>\n",
       "      <td>0.094975</td>\n",
       "      <td>0.053643</td>\n",
       "      <td>0.257515</td>\n",
       "      <td>0.008815</td>\n",
       "      <td>0.116719</td>\n",
       "      <td>-0.011791</td>\n",
       "      <td>0.053841</td>\n",
       "      <td>-0.003923</td>\n",
       "      <td>-0.000605</td>\n",
       "    </tr>\n",
       "    <tr>\n",
       "      <th>40</th>\n",
       "      <td>0.676312</td>\n",
       "      <td>0.695246</td>\n",
       "      <td>0.013064</td>\n",
       "      <td>0.569128</td>\n",
       "      <td>0.599619</td>\n",
       "      <td>0.682281</td>\n",
       "      <td>0.709332</td>\n",
       "      <td>-0.010592</td>\n",
       "      <td>0.525983</td>\n",
       "      <td>0.593770</td>\n",
       "      <td>...</td>\n",
       "      <td>0.094975</td>\n",
       "      <td>1.000000</td>\n",
       "      <td>0.901928</td>\n",
       "      <td>0.097736</td>\n",
       "      <td>0.755250</td>\n",
       "      <td>0.903502</td>\n",
       "      <td>0.755385</td>\n",
       "      <td>0.962965</td>\n",
       "      <td>-0.742125</td>\n",
       "      <td>0.741895</td>\n",
       "    </tr>\n",
       "    <tr>\n",
       "      <th>41</th>\n",
       "      <td>0.535100</td>\n",
       "      <td>0.604857</td>\n",
       "      <td>-0.000422</td>\n",
       "      <td>0.521621</td>\n",
       "      <td>0.462603</td>\n",
       "      <td>0.543814</td>\n",
       "      <td>0.616270</td>\n",
       "      <td>-0.016586</td>\n",
       "      <td>0.498073</td>\n",
       "      <td>0.461795</td>\n",
       "      <td>...</td>\n",
       "      <td>0.053643</td>\n",
       "      <td>0.901928</td>\n",
       "      <td>1.000000</td>\n",
       "      <td>0.003157</td>\n",
       "      <td>0.902485</td>\n",
       "      <td>0.673920</td>\n",
       "      <td>0.732504</td>\n",
       "      <td>0.971066</td>\n",
       "      <td>-0.898692</td>\n",
       "      <td>0.886837</td>\n",
       "    </tr>\n",
       "    <tr>\n",
       "      <th>42</th>\n",
       "      <td>0.008172</td>\n",
       "      <td>-0.005998</td>\n",
       "      <td>0.081603</td>\n",
       "      <td>-0.015137</td>\n",
       "      <td>0.014236</td>\n",
       "      <td>0.006386</td>\n",
       "      <td>0.002467</td>\n",
       "      <td>-0.000610</td>\n",
       "      <td>-0.014870</td>\n",
       "      <td>0.002716</td>\n",
       "      <td>...</td>\n",
       "      <td>0.257515</td>\n",
       "      <td>0.097736</td>\n",
       "      <td>0.003157</td>\n",
       "      <td>1.000000</td>\n",
       "      <td>-0.002657</td>\n",
       "      <td>0.132213</td>\n",
       "      <td>0.075397</td>\n",
       "      <td>0.063990</td>\n",
       "      <td>0.000258</td>\n",
       "      <td>-0.003113</td>\n",
       "    </tr>\n",
       "    <tr>\n",
       "      <th>43</th>\n",
       "      <td>0.474527</td>\n",
       "      <td>0.518617</td>\n",
       "      <td>-0.006324</td>\n",
       "      <td>0.525901</td>\n",
       "      <td>0.426797</td>\n",
       "      <td>0.481940</td>\n",
       "      <td>0.531006</td>\n",
       "      <td>-0.016128</td>\n",
       "      <td>0.510052</td>\n",
       "      <td>0.420015</td>\n",
       "      <td>...</td>\n",
       "      <td>0.008815</td>\n",
       "      <td>0.755250</td>\n",
       "      <td>0.902485</td>\n",
       "      <td>-0.002657</td>\n",
       "      <td>1.000000</td>\n",
       "      <td>0.521095</td>\n",
       "      <td>0.621579</td>\n",
       "      <td>0.839647</td>\n",
       "      <td>-0.950269</td>\n",
       "      <td>0.958728</td>\n",
       "    </tr>\n",
       "    <tr>\n",
       "      <th>44</th>\n",
       "      <td>0.663158</td>\n",
       "      <td>0.630570</td>\n",
       "      <td>0.025694</td>\n",
       "      <td>0.483146</td>\n",
       "      <td>0.602223</td>\n",
       "      <td>0.667564</td>\n",
       "      <td>0.645768</td>\n",
       "      <td>-0.005203</td>\n",
       "      <td>0.427722</td>\n",
       "      <td>0.594687</td>\n",
       "      <td>...</td>\n",
       "      <td>0.116719</td>\n",
       "      <td>0.903502</td>\n",
       "      <td>0.673920</td>\n",
       "      <td>0.132213</td>\n",
       "      <td>0.521095</td>\n",
       "      <td>1.000000</td>\n",
       "      <td>0.609072</td>\n",
       "      <td>0.800979</td>\n",
       "      <td>-0.523436</td>\n",
       "      <td>0.528742</td>\n",
       "    </tr>\n",
       "    <tr>\n",
       "      <th>45</th>\n",
       "      <td>0.462910</td>\n",
       "      <td>0.506877</td>\n",
       "      <td>0.004179</td>\n",
       "      <td>0.453277</td>\n",
       "      <td>0.396297</td>\n",
       "      <td>0.472375</td>\n",
       "      <td>0.513447</td>\n",
       "      <td>-0.010875</td>\n",
       "      <td>0.412330</td>\n",
       "      <td>0.406728</td>\n",
       "      <td>...</td>\n",
       "      <td>-0.011791</td>\n",
       "      <td>0.755385</td>\n",
       "      <td>0.732504</td>\n",
       "      <td>0.075397</td>\n",
       "      <td>0.621579</td>\n",
       "      <td>0.609072</td>\n",
       "      <td>1.000000</td>\n",
       "      <td>0.772440</td>\n",
       "      <td>-0.634619</td>\n",
       "      <td>0.616841</td>\n",
       "    </tr>\n",
       "    <tr>\n",
       "      <th>46</th>\n",
       "      <td>0.588045</td>\n",
       "      <td>0.640441</td>\n",
       "      <td>0.007439</td>\n",
       "      <td>0.527221</td>\n",
       "      <td>0.509220</td>\n",
       "      <td>0.597371</td>\n",
       "      <td>0.653376</td>\n",
       "      <td>-0.013276</td>\n",
       "      <td>0.494242</td>\n",
       "      <td>0.514198</td>\n",
       "      <td>...</td>\n",
       "      <td>0.053841</td>\n",
       "      <td>0.962965</td>\n",
       "      <td>0.971066</td>\n",
       "      <td>0.063990</td>\n",
       "      <td>0.839647</td>\n",
       "      <td>0.800979</td>\n",
       "      <td>0.772440</td>\n",
       "      <td>1.000000</td>\n",
       "      <td>-0.857715</td>\n",
       "      <td>0.845508</td>\n",
       "    </tr>\n",
       "    <tr>\n",
       "      <th>47</th>\n",
       "      <td>-0.430831</td>\n",
       "      <td>-0.467591</td>\n",
       "      <td>0.004175</td>\n",
       "      <td>-0.438498</td>\n",
       "      <td>-0.388761</td>\n",
       "      <td>-0.445644</td>\n",
       "      <td>-0.479324</td>\n",
       "      <td>0.017567</td>\n",
       "      <td>-0.422374</td>\n",
       "      <td>-0.412661</td>\n",
       "      <td>...</td>\n",
       "      <td>-0.003923</td>\n",
       "      <td>-0.742125</td>\n",
       "      <td>-0.898692</td>\n",
       "      <td>0.000258</td>\n",
       "      <td>-0.950269</td>\n",
       "      <td>-0.523436</td>\n",
       "      <td>-0.634619</td>\n",
       "      <td>-0.857715</td>\n",
       "      <td>1.000000</td>\n",
       "      <td>-0.988104</td>\n",
       "    </tr>\n",
       "    <tr>\n",
       "      <th>48</th>\n",
       "      <td>0.456317</td>\n",
       "      <td>0.483224</td>\n",
       "      <td>-0.002759</td>\n",
       "      <td>0.454094</td>\n",
       "      <td>0.418736</td>\n",
       "      <td>0.471862</td>\n",
       "      <td>0.496025</td>\n",
       "      <td>-0.016801</td>\n",
       "      <td>0.439828</td>\n",
       "      <td>0.443905</td>\n",
       "      <td>...</td>\n",
       "      <td>-0.000605</td>\n",
       "      <td>0.741895</td>\n",
       "      <td>0.886837</td>\n",
       "      <td>-0.003113</td>\n",
       "      <td>0.958728</td>\n",
       "      <td>0.528742</td>\n",
       "      <td>0.616841</td>\n",
       "      <td>0.845508</td>\n",
       "      <td>-0.988104</td>\n",
       "      <td>1.000000</td>\n",
       "    </tr>\n",
       "  </tbody>\n",
       "</table>\n",
       "<p>49 rows × 49 columns</p>\n",
       "</div>"
      ],
      "text/plain": [
       "          0         1         2         3         4         5         6   \\\n",
       "0   1.000000  0.926063  0.153651  0.852126  0.973861  0.996860  0.941574   \n",
       "1   0.926063  1.000000  0.062471  0.923558  0.826808  0.913370  0.991400   \n",
       "2   0.153651  0.062471  1.000000  0.022318  0.182835  0.145746  0.101145   \n",
       "3   0.852126  0.923558  0.022318  1.000000  0.765456  0.825913  0.913739   \n",
       "4   0.973861  0.826808  0.182835  0.765456  1.000000  0.977636  0.854387   \n",
       "5   0.996860  0.913370  0.145746  0.825913  0.977636  1.000000  0.931110   \n",
       "6   0.941574  0.991400  0.101145  0.913739  0.854387  0.931110  1.000000   \n",
       "7   0.091091  0.017353  0.749392  0.005770  0.126099  0.088670  0.046142   \n",
       "8   0.795670  0.876339  0.015544  0.959883  0.704929  0.770021  0.889602   \n",
       "9   0.921001  0.753083  0.198764  0.644830  0.960397  0.941931  0.774960   \n",
       "10  0.998910  0.921654  0.163347  0.842279  0.976374  0.998416  0.939649   \n",
       "11  0.948900  0.990792  0.100018  0.910829  0.865819  0.938987  0.999204   \n",
       "12       NaN       NaN       NaN       NaN       NaN       NaN       NaN   \n",
       "13  0.798356  0.876771  0.015885  0.958002  0.708806  0.772321  0.889656   \n",
       "14  0.912333  0.737123  0.330681  0.650961  0.959002  0.927879  0.763252   \n",
       "15  0.997132  0.933183  0.176489  0.870504  0.965107  0.989112  0.949489   \n",
       "16  0.886327  0.989963  0.075559  0.929035  0.771987  0.865190  0.978083   \n",
       "17  0.153651  0.062471  1.000000  0.022318  0.182835  0.145746  0.101145   \n",
       "18  0.780321  0.869797  0.028947  0.976835  0.687418  0.746937  0.867226   \n",
       "19  0.972425  0.825945  0.192662  0.773967  0.998351  0.974588  0.855885   \n",
       "20  0.884921  0.764599  0.004579  0.627370  0.891465  0.913965  0.778770   \n",
       "21  0.955116  0.984167  0.114149  0.907548  0.877636  0.944309  0.997582   \n",
       "22 -0.721287 -0.823586 -0.017834 -0.892489 -0.619366 -0.692541 -0.838444   \n",
       "23  0.795747  0.873344  0.011128  0.956209  0.706182  0.769160  0.886642   \n",
       "24 -0.148094 -0.138621 -0.060933 -0.295480 -0.154828 -0.119232 -0.150337   \n",
       "25  0.672064  0.693496  0.011381  0.570603  0.595227  0.678539  0.707537   \n",
       "26  0.532711  0.603383 -0.001730  0.520431  0.460762  0.542642  0.615050   \n",
       "27  0.008172 -0.005998  0.081603 -0.015137  0.014236  0.006386  0.002467   \n",
       "28  0.492159  0.531043 -0.007650  0.526028  0.445144  0.502260  0.544298   \n",
       "29  0.697688  0.687640  0.014956  0.566688  0.629807  0.702291  0.702422   \n",
       "30  0.677702  0.696667  0.009348  0.577020  0.605300  0.686019  0.711456   \n",
       "31  0.568854  0.628847  0.005128  0.524507  0.491229  0.578501  0.641323   \n",
       "32       NaN       NaN       NaN       NaN       NaN       NaN       NaN   \n",
       "33  0.463991  0.488819 -0.003694  0.454906  0.427292  0.480344  0.501844   \n",
       "34  0.796453  0.659292 -0.002183  0.485330  0.809386  0.826542  0.677770   \n",
       "35  0.682118  0.699170  0.009554  0.576897  0.610371  0.690241  0.714288   \n",
       "36  0.573386  0.633029  0.004659  0.528060  0.495308  0.582841  0.645357   \n",
       "37       NaN       NaN       NaN       NaN       NaN       NaN       NaN   \n",
       "38  0.464461  0.489849 -0.003562  0.456123  0.427467  0.480703  0.502778   \n",
       "39  0.004591 -0.000069  0.022875 -0.010974  0.009122  0.004753  0.001105   \n",
       "40  0.676312  0.695246  0.013064  0.569128  0.599619  0.682281  0.709332   \n",
       "41  0.535100  0.604857 -0.000422  0.521621  0.462603  0.543814  0.616270   \n",
       "42  0.008172 -0.005998  0.081603 -0.015137  0.014236  0.006386  0.002467   \n",
       "43  0.474527  0.518617 -0.006324  0.525901  0.426797  0.481940  0.531006   \n",
       "44  0.663158  0.630570  0.025694  0.483146  0.602223  0.667564  0.645768   \n",
       "45  0.462910  0.506877  0.004179  0.453277  0.396297  0.472375  0.513447   \n",
       "46  0.588045  0.640441  0.007439  0.527221  0.509220  0.597371  0.653376   \n",
       "47 -0.430831 -0.467591  0.004175 -0.438498 -0.388761 -0.445644 -0.479324   \n",
       "48  0.456317  0.483224 -0.002759  0.454094  0.418736  0.471862  0.496025   \n",
       "\n",
       "          7         8         9     ...           39        40        41  \\\n",
       "0   0.091091  0.795670  0.921001    ...     0.004591  0.676312  0.535100   \n",
       "1   0.017353  0.876339  0.753083    ...    -0.000069  0.695246  0.604857   \n",
       "2   0.749392  0.015544  0.198764    ...     0.022875  0.013064 -0.000422   \n",
       "3   0.005770  0.959883  0.644830    ...    -0.010974  0.569128  0.521621   \n",
       "4   0.126099  0.704929  0.960397    ...     0.009122  0.599619  0.462603   \n",
       "5   0.088670  0.770021  0.941931    ...     0.004753  0.682281  0.543814   \n",
       "6   0.046142  0.889602  0.774960    ...     0.001105  0.709332  0.616270   \n",
       "7   1.000000  0.000688  0.155860    ...    -0.000471 -0.010592 -0.016586   \n",
       "8   0.000688  1.000000  0.570294    ...    -0.012169  0.525983  0.498073   \n",
       "9   0.155860  0.570294  1.000000    ...    -0.003436  0.593770  0.461795   \n",
       "10  0.098823  0.787987  0.929050    ...     0.006207  0.679039  0.543851   \n",
       "11  0.046342  0.883876  0.789400    ...     0.001021  0.712068  0.615905   \n",
       "12       NaN       NaN       NaN    ...          NaN       NaN       NaN   \n",
       "13  0.000807  0.998519  0.573242    ...    -0.012079  0.523391  0.494617   \n",
       "14  0.256335  0.577184  0.984173    ...    -0.002319  0.540537  0.427047   \n",
       "15  0.104824  0.819430  0.896087    ...     0.006890  0.668139  0.530613   \n",
       "16  0.018435  0.889525  0.674114    ...     0.002013  0.666854  0.589403   \n",
       "17  0.749392  0.015544  0.198764    ...     0.022875  0.013064 -0.000422   \n",
       "18  0.008254  0.971377  0.536040    ...    -0.009757  0.510822  0.487258   \n",
       "19  0.139433  0.718524  0.952332    ...     0.011356  0.595389  0.460704   \n",
       "20  0.006799  0.565389  0.943045    ...    -0.006197  0.639174  0.490551   \n",
       "21  0.058211  0.885568  0.796629    ...     0.001138  0.709245  0.606516   \n",
       "22  0.000583 -0.970233 -0.481833    ...     0.014055 -0.449232 -0.426008   \n",
       "23  0.000464  0.997502  0.568962    ...    -0.012022  0.520331  0.486349   \n",
       "24 -0.215008 -0.292556 -0.068713    ...    -0.002160 -0.073580 -0.053215   \n",
       "25 -0.009365  0.527232  0.590386    ...     0.087854  0.999129  0.907407   \n",
       "26 -0.015901  0.495754  0.463262    ...     0.049943  0.900350  0.997712   \n",
       "27 -0.000610 -0.014870  0.002716    ...     0.257515  0.097736  0.003157   \n",
       "28 -0.016198  0.509423  0.448072    ...     0.006574  0.773295  0.908420   \n",
       "29 -0.004235  0.512936  0.619161    ...     0.090126  0.952514  0.769667   \n",
       "30 -0.009094  0.532499  0.602493    ...     0.094194  0.995407  0.914915   \n",
       "31 -0.014321  0.493850  0.495840    ...     0.052648  0.947048  0.984100   \n",
       "32       NaN       NaN       NaN    ...          NaN       NaN       NaN   \n",
       "33 -0.016947  0.439880  0.455054    ...     0.002014  0.746492  0.892466   \n",
       "34 -0.002931  0.427790  0.885709    ...     0.126475  0.702607  0.508748   \n",
       "35 -0.008847  0.532778  0.606735    ...     0.099807  0.996938  0.913813   \n",
       "36 -0.014051  0.497235  0.499518    ...     0.052440  0.949490  0.984120   \n",
       "37       NaN       NaN       NaN    ...          NaN       NaN       NaN   \n",
       "38 -0.016854  0.441195  0.454861    ...     0.002075  0.746377  0.892738   \n",
       "39 -0.000471 -0.012169 -0.003436    ...     1.000000  0.094975  0.053643   \n",
       "40 -0.010592  0.525983  0.593770    ...     0.094975  1.000000  0.901928   \n",
       "41 -0.016586  0.498073  0.461795    ...     0.053643  0.901928  1.000000   \n",
       "42 -0.000610 -0.014870  0.002716    ...     0.257515  0.097736  0.003157   \n",
       "43 -0.016128  0.510052  0.420015    ...     0.008815  0.755250  0.902485   \n",
       "44 -0.005203  0.427722  0.594687    ...     0.116719  0.903502  0.673920   \n",
       "45 -0.010875  0.412330  0.406728    ...    -0.011791  0.755385  0.732504   \n",
       "46 -0.013276  0.494242  0.514198    ...     0.053841  0.962965  0.971066   \n",
       "47  0.017567 -0.422374 -0.412661    ...    -0.003923 -0.742125 -0.898692   \n",
       "48 -0.016801  0.439828  0.443905    ...    -0.000605  0.741895  0.886837   \n",
       "\n",
       "          42        43        44        45        46        47        48  \n",
       "0   0.008172  0.474527  0.663158  0.462910  0.588045 -0.430831  0.456317  \n",
       "1  -0.005998  0.518617  0.630570  0.506877  0.640441 -0.467591  0.483224  \n",
       "2   0.081603 -0.006324  0.025694  0.004179  0.007439  0.004175 -0.002759  \n",
       "3  -0.015137  0.525901  0.483146  0.453277  0.527221 -0.438498  0.454094  \n",
       "4   0.014236  0.426797  0.602223  0.396297  0.509220 -0.388761  0.418736  \n",
       "5   0.006386  0.481940  0.667564  0.472375  0.597371 -0.445644  0.471862  \n",
       "6   0.002467  0.531006  0.645768  0.513447  0.653376 -0.479324  0.496025  \n",
       "7  -0.000610 -0.016128 -0.005203 -0.010875 -0.013276  0.017567 -0.016801  \n",
       "8  -0.014870  0.510052  0.427722  0.412330  0.494242 -0.422374  0.439828  \n",
       "9   0.002716  0.420015  0.594687  0.406728  0.514198 -0.412661  0.443905  \n",
       "10  0.008290  0.483601  0.661142  0.468601  0.594326 -0.441311  0.466921  \n",
       "11  0.002326  0.532135  0.650181  0.511528  0.653934 -0.480789  0.498361  \n",
       "12       NaN       NaN       NaN       NaN       NaN       NaN       NaN  \n",
       "13 -0.014751  0.510003  0.423204  0.405816  0.490376 -0.419913  0.438274  \n",
       "14  0.008819  0.401184  0.532501  0.371097  0.466488 -0.381998  0.412942  \n",
       "15  0.010984  0.472999  0.652206  0.455220  0.579477 -0.420081  0.444568  \n",
       "16 -0.004355  0.505682  0.593991  0.485214  0.615332 -0.441205  0.453157  \n",
       "17  0.081603 -0.006324  0.025694  0.004179  0.007439  0.004175 -0.002759  \n",
       "18 -0.013859  0.509723  0.405322  0.408410  0.473891 -0.393361  0.405911  \n",
       "19  0.016246  0.430289  0.596682  0.392711  0.504891 -0.386719  0.416504  \n",
       "20 -0.007977  0.422984  0.648831  0.453563  0.561112 -0.433467  0.461515  \n",
       "21  0.005276  0.524045  0.652759  0.505066  0.647034 -0.471815  0.490245  \n",
       "22  0.015695 -0.431373 -0.361271 -0.332248 -0.424001  0.362734 -0.382041  \n",
       "23 -0.014499  0.498507  0.420501  0.406205  0.483659 -0.405964  0.425323  \n",
       "24 -0.045609 -0.086500 -0.065120 -0.004250 -0.045058  0.019168 -0.017887  \n",
       "25  0.092250  0.760004  0.894302  0.770930  0.966916 -0.749421  0.747860  \n",
       "26  0.004416  0.897223  0.670300  0.750526  0.972434 -0.900023  0.887737  \n",
       "27  1.000000 -0.002657  0.132213  0.075397  0.063990  0.000258 -0.003113  \n",
       "28 -0.003707  0.994108  0.544843  0.643162  0.855526 -0.956948  0.969658  \n",
       "29  0.101630  0.643205  0.944734  0.714840  0.868386 -0.616351  0.615905  \n",
       "30  0.087750  0.769905  0.880891  0.794410  0.969795 -0.761690  0.758946  \n",
       "31  0.051724  0.861483  0.763310  0.777135  0.997045 -0.876211  0.863177  \n",
       "32       NaN       NaN       NaN       NaN       NaN       NaN       NaN  \n",
       "33 -0.002782  0.960774  0.530812  0.624167  0.850015 -0.991953  0.997865  \n",
       "34  0.073948  0.407422  0.750164  0.485404  0.609409 -0.441117  0.465272  \n",
       "35  0.087306  0.768638  0.886147  0.769554  0.968890 -0.759145  0.757428  \n",
       "36  0.053599  0.861313  0.767345  0.765196  0.997385 -0.875718  0.862734  \n",
       "37       NaN       NaN       NaN       NaN       NaN       NaN       NaN  \n",
       "38 -0.002693  0.960997  0.530275  0.620604  0.849873 -0.992312  0.997768  \n",
       "39  0.257515  0.008815  0.116719 -0.011791  0.053841 -0.003923 -0.000605  \n",
       "40  0.097736  0.755250  0.903502  0.755385  0.962965 -0.742125  0.741895  \n",
       "41  0.003157  0.902485  0.673920  0.732504  0.971066 -0.898692  0.886837  \n",
       "42  1.000000 -0.002657  0.132213  0.075397  0.063990  0.000258 -0.003113  \n",
       "43 -0.002657  1.000000  0.521095  0.621579  0.839647 -0.950269  0.958728  \n",
       "44  0.132213  0.521095  1.000000  0.609072  0.800979 -0.523436  0.528742  \n",
       "45  0.075397  0.621579  0.609072  1.000000  0.772440 -0.634619  0.616841  \n",
       "46  0.063990  0.839647  0.800979  0.772440  1.000000 -0.857715  0.845508  \n",
       "47  0.000258 -0.950269 -0.523436 -0.634619 -0.857715  1.000000 -0.988104  \n",
       "48 -0.003113  0.958728  0.528742  0.616841  0.845508 -0.988104  1.000000  \n",
       "\n",
       "[49 rows x 49 columns]"
      ]
     },
     "execution_count": 31,
     "metadata": {},
     "output_type": "execute_result"
    }
   ],
   "source": [
    "Indi_Panda.corr()"
   ]
  },
  {
   "cell_type": "markdown",
   "metadata": {},
   "source": [
    "## ACP"
   ]
  },
  {
   "cell_type": "markdown",
   "metadata": {},
   "source": [
    "ACP sur les 50 premières variables (sans les mots, les jours et la variable Y)"
   ]
  },
  {
   "cell_type": "code",
   "execution_count": 2,
   "metadata": {
    "collapsed": false
   },
   "outputs": [
    {
     "ename": "NameError",
     "evalue": "name 'scale' is not defined",
     "output_type": "error",
     "traceback": [
      "\u001b[0;31m---------------------------------------------------------------------------\u001b[0m",
      "\u001b[0;31mNameError\u001b[0m                                 Traceback (most recent call last)",
      "\u001b[0;32m<ipython-input-2-e892410302d1>\u001b[0m in \u001b[0;36m<module>\u001b[0;34m()\u001b[0m\n\u001b[0;32m----> 1\u001b[0;31m \u001b[0mX\u001b[0m\u001b[1;33m=\u001b[0m\u001b[0mscale\u001b[0m\u001b[1;33m(\u001b[0m\u001b[0mData\u001b[0m\u001b[1;33m[\u001b[0m\u001b[1;33m:\u001b[0m\u001b[1;33m,\u001b[0m \u001b[1;36m1\u001b[0m\u001b[1;33m:\u001b[0m\u001b[1;36m50\u001b[0m\u001b[1;33m]\u001b[0m\u001b[1;33m)\u001b[0m\u001b[1;33m\u001b[0m\u001b[0m\n\u001b[0m",
      "\u001b[0;31mNameError\u001b[0m: name 'scale' is not defined"
     ]
    }
   ],
   "source": [
    "X=scale(Data[:, 1:50])"
   ]
  },
  {
   "cell_type": "code",
   "execution_count": 3,
   "metadata": {
    "collapsed": false
   },
   "outputs": [
    {
     "ename": "NameError",
     "evalue": "name 'PCA' is not defined",
     "output_type": "error",
     "traceback": [
      "\u001b[0;31m---------------------------------------------------------------------------\u001b[0m",
      "\u001b[0;31mNameError\u001b[0m                                 Traceback (most recent call last)",
      "\u001b[0;32m<ipython-input-3-6a0ff51a360e>\u001b[0m in \u001b[0;36m<module>\u001b[0;34m()\u001b[0m\n\u001b[0;32m----> 1\u001b[0;31m \u001b[0mpca\u001b[0m \u001b[1;33m=\u001b[0m \u001b[0mPCA\u001b[0m\u001b[1;33m(\u001b[0m\u001b[1;33m)\u001b[0m\u001b[1;33m\u001b[0m\u001b[0m\n\u001b[0m\u001b[1;32m      2\u001b[0m \u001b[1;31m## Estimation, calcul des composantes principales\u001b[0m\u001b[1;33m\u001b[0m\u001b[1;33m\u001b[0m\u001b[0m\n\u001b[1;32m      3\u001b[0m \u001b[0mC\u001b[0m \u001b[1;33m=\u001b[0m \u001b[0mpca\u001b[0m\u001b[1;33m.\u001b[0m\u001b[0mfit\u001b[0m\u001b[1;33m(\u001b[0m\u001b[0mX\u001b[0m\u001b[1;33m)\u001b[0m\u001b[1;33m.\u001b[0m\u001b[0mtransform\u001b[0m\u001b[1;33m(\u001b[0m\u001b[0mX\u001b[0m\u001b[1;33m)\u001b[0m\u001b[1;33m\u001b[0m\u001b[0m\n\u001b[1;32m      4\u001b[0m \u001b[1;31m## Décroissance de la variance expliquée\u001b[0m\u001b[1;33m\u001b[0m\u001b[1;33m\u001b[0m\u001b[0m\n\u001b[1;32m      5\u001b[0m \u001b[0mplt\u001b[0m\u001b[1;33m.\u001b[0m\u001b[0mplot\u001b[0m\u001b[1;33m(\u001b[0m\u001b[0mpca\u001b[0m\u001b[1;33m.\u001b[0m\u001b[0mexplained_variance_ratio_\u001b[0m\u001b[1;33m)\u001b[0m\u001b[1;33m\u001b[0m\u001b[0m\n",
      "\u001b[0;31mNameError\u001b[0m: name 'PCA' is not defined"
     ]
    }
   ],
   "source": [
    "pca = PCA()\n",
    "## Estimation, calcul des composantes principales\n",
    "C = pca.fit(X).transform(X)\n",
    "## Décroissance de la variance expliquée\n",
    "plt.plot(pca.explained_variance_ratio_)\n",
    "plt.show()"
   ]
  },
  {
   "cell_type": "code",
   "execution_count": 4,
   "metadata": {
    "collapsed": false
   },
   "outputs": [
    {
     "ename": "NameError",
     "evalue": "name 'plt' is not defined",
     "output_type": "error",
     "traceback": [
      "\u001b[0;31m---------------------------------------------------------------------------\u001b[0m",
      "\u001b[0;31mNameError\u001b[0m                                 Traceback (most recent call last)",
      "\u001b[0;32m<ipython-input-4-0a9bcabe47b0>\u001b[0m in \u001b[0;36m<module>\u001b[0;34m()\u001b[0m\n\u001b[1;32m      1\u001b[0m \u001b[1;31m## distribution des composantes principales\u001b[0m\u001b[1;33m\u001b[0m\u001b[1;33m\u001b[0m\u001b[0m\n\u001b[0;32m----> 2\u001b[0;31m \u001b[0mplt\u001b[0m\u001b[1;33m.\u001b[0m\u001b[0mboxplot\u001b[0m\u001b[1;33m(\u001b[0m\u001b[0mC\u001b[0m\u001b[1;33m[\u001b[0m\u001b[1;33m:\u001b[0m\u001b[1;33m,\u001b[0m\u001b[1;36m0\u001b[0m\u001b[1;33m:\u001b[0m\u001b[1;36m20\u001b[0m\u001b[1;33m]\u001b[0m\u001b[1;33m)\u001b[0m\u001b[1;33m\u001b[0m\u001b[0m\n\u001b[0m\u001b[1;32m      3\u001b[0m \u001b[0mplt\u001b[0m\u001b[1;33m.\u001b[0m\u001b[0mshow\u001b[0m\u001b[1;33m(\u001b[0m\u001b[1;33m)\u001b[0m\u001b[1;33m\u001b[0m\u001b[0m\n",
      "\u001b[0;31mNameError\u001b[0m: name 'plt' is not defined"
     ]
    }
   ],
   "source": [
    "## distribution des composantes principales\n",
    "plt.boxplot(C[:,0:20])\n",
    "plt.show()"
   ]
  },
  {
   "cell_type": "code",
   "execution_count": 5,
   "metadata": {
    "collapsed": false
   },
   "outputs": [
    {
     "ename": "NameError",
     "evalue": "name 'plt' is not defined",
     "output_type": "error",
     "traceback": [
      "\u001b[0;31m---------------------------------------------------------------------------\u001b[0m",
      "\u001b[0;31mNameError\u001b[0m                                 Traceback (most recent call last)",
      "\u001b[0;32m<ipython-input-5-d3ac63f78e6e>\u001b[0m in \u001b[0;36m<module>\u001b[0;34m()\u001b[0m\n\u001b[1;32m      1\u001b[0m \u001b[1;31m## Repésentation des individus\u001b[0m\u001b[1;33m\u001b[0m\u001b[1;33m\u001b[0m\u001b[0m\n\u001b[0;32m----> 2\u001b[0;31m \u001b[0mplt\u001b[0m\u001b[1;33m.\u001b[0m\u001b[0mfigure\u001b[0m\u001b[1;33m(\u001b[0m\u001b[0mfigsize\u001b[0m\u001b[1;33m=\u001b[0m\u001b[1;33m(\u001b[0m\u001b[1;36m5\u001b[0m\u001b[1;33m,\u001b[0m\u001b[1;36m5\u001b[0m\u001b[1;33m)\u001b[0m\u001b[1;33m)\u001b[0m\u001b[1;33m\u001b[0m\u001b[0m\n\u001b[0m\u001b[1;32m      3\u001b[0m \u001b[1;32mfor\u001b[0m \u001b[0mi\u001b[0m\u001b[1;33m,\u001b[0m \u001b[0mj\u001b[0m\u001b[1;33m,\u001b[0m \u001b[0mnom\u001b[0m \u001b[1;32min\u001b[0m \u001b[0mzip\u001b[0m\u001b[1;33m(\u001b[0m\u001b[0mC\u001b[0m\u001b[1;33m[\u001b[0m\u001b[1;33m:\u001b[0m\u001b[1;33m,\u001b[0m\u001b[1;36m0\u001b[0m\u001b[1;33m]\u001b[0m\u001b[1;33m,\u001b[0m \u001b[0mC\u001b[0m\u001b[1;33m[\u001b[0m\u001b[1;33m:\u001b[0m\u001b[1;33m,\u001b[0m\u001b[1;36m1\u001b[0m\u001b[1;33m]\u001b[0m\u001b[1;33m,\u001b[0m \u001b[0mY_Quali\u001b[0m\u001b[1;33m)\u001b[0m\u001b[1;33m:\u001b[0m\u001b[1;33m\u001b[0m\u001b[0m\n\u001b[1;32m      4\u001b[0m     \u001b[0mcolor\u001b[0m \u001b[1;33m=\u001b[0m \u001b[1;34m\"red\"\u001b[0m\u001b[1;33m\u001b[0m\u001b[0m\n\u001b[1;32m      5\u001b[0m     \u001b[1;32mif\u001b[0m \u001b[0mnom\u001b[0m\u001b[1;33m==\u001b[0m\u001b[1;34m\"Equal1\"\u001b[0m  \u001b[1;33m:\u001b[0m\u001b[1;33m\u001b[0m\u001b[0m\n",
      "\u001b[0;31mNameError\u001b[0m: name 'plt' is not defined"
     ]
    }
   ],
   "source": [
    "## Repésentation des individus\n",
    "plt.figure(figsize=(5,5))\n",
    "for i, j, nom in zip(C[:,0], C[:,1], Y_Quali):\n",
    "    color = \"red\"\n",
    "    if nom==\"Equal1\"  :\n",
    "        color=\"blue\"\n",
    "    elif nom==\"InfQuant\":\n",
    "        color=\"y\"\n",
    "    elif nom==\"SupQuant\":\n",
    "        color=\"g\"\n",
    "    plt.plot(i, j, \"o\",color=color)\n",
    "plt.axis((-4,6,-4,6))  \n",
    "plt.show()"
   ]
  },
  {
   "cell_type": "code",
   "execution_count": 6,
   "metadata": {
    "collapsed": false
   },
   "outputs": [
    {
     "ename": "NameError",
     "evalue": "name 'pca' is not defined",
     "output_type": "error",
     "traceback": [
      "\u001b[0;31m---------------------------------------------------------------------------\u001b[0m",
      "\u001b[0;31mNameError\u001b[0m                                 Traceback (most recent call last)",
      "\u001b[0;32m<ipython-input-6-f4945f9359e2>\u001b[0m in \u001b[0;36m<module>\u001b[0;34m()\u001b[0m\n\u001b[1;32m      1\u001b[0m \u001b[1;31m## coordonnées et représentation des variables\u001b[0m\u001b[1;33m\u001b[0m\u001b[1;33m\u001b[0m\u001b[0m\n\u001b[0;32m----> 2\u001b[0;31m \u001b[0mcoord1\u001b[0m\u001b[1;33m=\u001b[0m\u001b[0mpca\u001b[0m\u001b[1;33m.\u001b[0m\u001b[0mcomponents_\u001b[0m\u001b[1;33m[\u001b[0m\u001b[1;36m0\u001b[0m\u001b[1;33m]\u001b[0m\u001b[1;33m*\u001b[0m\u001b[0mnp\u001b[0m\u001b[1;33m.\u001b[0m\u001b[0msqrt\u001b[0m\u001b[1;33m(\u001b[0m\u001b[0mpca\u001b[0m\u001b[1;33m.\u001b[0m\u001b[0mexplained_variance_\u001b[0m\u001b[1;33m[\u001b[0m\u001b[1;36m0\u001b[0m\u001b[1;33m]\u001b[0m\u001b[1;33m)\u001b[0m\u001b[1;33m\u001b[0m\u001b[0m\n\u001b[0m\u001b[1;32m      3\u001b[0m \u001b[0mcoord2\u001b[0m\u001b[1;33m=\u001b[0m\u001b[0mpca\u001b[0m\u001b[1;33m.\u001b[0m\u001b[0mcomponents_\u001b[0m\u001b[1;33m[\u001b[0m\u001b[1;36m1\u001b[0m\u001b[1;33m]\u001b[0m\u001b[1;33m*\u001b[0m\u001b[0mnp\u001b[0m\u001b[1;33m.\u001b[0m\u001b[0msqrt\u001b[0m\u001b[1;33m(\u001b[0m\u001b[0mpca\u001b[0m\u001b[1;33m.\u001b[0m\u001b[0mexplained_variance_\u001b[0m\u001b[1;33m[\u001b[0m\u001b[1;36m1\u001b[0m\u001b[1;33m]\u001b[0m\u001b[1;33m)\u001b[0m\u001b[1;33m\u001b[0m\u001b[0m\n\u001b[1;32m      4\u001b[0m \u001b[0mfig\u001b[0m \u001b[1;33m=\u001b[0m \u001b[0mplt\u001b[0m\u001b[1;33m.\u001b[0m\u001b[0mfigure\u001b[0m\u001b[1;33m(\u001b[0m\u001b[0mfigsize\u001b[0m\u001b[1;33m=\u001b[0m\u001b[1;33m(\u001b[0m\u001b[1;36m7\u001b[0m\u001b[1;33m,\u001b[0m\u001b[1;36m7\u001b[0m\u001b[1;33m)\u001b[0m\u001b[1;33m)\u001b[0m\u001b[1;33m\u001b[0m\u001b[0m\n\u001b[1;32m      5\u001b[0m \u001b[0max\u001b[0m \u001b[1;33m=\u001b[0m \u001b[0mfig\u001b[0m\u001b[1;33m.\u001b[0m\u001b[0madd_subplot\u001b[0m\u001b[1;33m(\u001b[0m\u001b[1;36m1\u001b[0m\u001b[1;33m,\u001b[0m \u001b[1;36m1\u001b[0m\u001b[1;33m,\u001b[0m \u001b[1;36m1\u001b[0m\u001b[1;33m)\u001b[0m\u001b[1;33m\u001b[0m\u001b[0m\n",
      "\u001b[0;31mNameError\u001b[0m: name 'pca' is not defined"
     ]
    }
   ],
   "source": [
    "## coordonnées et représentation des variables\n",
    "coord1=pca.components_[0]*np.sqrt(pca.explained_variance_[0])\n",
    "coord2=pca.components_[1]*np.sqrt(pca.explained_variance_[1])\n",
    "fig = plt.figure(figsize=(7,7))\n",
    "ax = fig.add_subplot(1, 1, 1)\n",
    "for i, j, nom in zip(coord1,coord2, np.arange(1, 281)):\n",
    "    plt.text(i,j, nom)\n",
    "    plt.arrow(0,0,i,j,color='black')\n",
    "plt.axis((-1.2,1.2,-1.2,1.2))\n",
    "# cercle\n",
    "c=plt.Circle((0,0), radius=1, color='gray', fill=False)\n",
    "ax.add_patch(c)\n",
    "plt.show()"
   ]
  },
  {
   "cell_type": "code",
   "execution_count": 7,
   "metadata": {
    "collapsed": false
   },
   "outputs": [
    {
     "ename": "NameError",
     "evalue": "name 'pca' is not defined",
     "output_type": "error",
     "traceback": [
      "\u001b[0;31m---------------------------------------------------------------------------\u001b[0m",
      "\u001b[0;31mNameError\u001b[0m                                 Traceback (most recent call last)",
      "\u001b[0;32m<ipython-input-7-aa5bb7b33121>\u001b[0m in \u001b[0;36m<module>\u001b[0;34m()\u001b[0m\n\u001b[0;32m----> 1\u001b[0;31m \u001b[0mpca\u001b[0m\u001b[1;33m.\u001b[0m\u001b[0mexplained_variance_ratio_\u001b[0m\u001b[1;33m\u001b[0m\u001b[0m\n\u001b[0m",
      "\u001b[0;31mNameError\u001b[0m: name 'pca' is not defined"
     ]
    }
   ],
   "source": [
    "pca.explained_variance_ratio_"
   ]
  },
  {
   "cell_type": "markdown",
   "metadata": {},
   "source": [
    "Même ACP mais avec toutes les variables"
   ]
  },
  {
   "cell_type": "code",
   "execution_count": 37,
   "metadata": {
    "collapsed": true
   },
   "outputs": [],
   "source": [
    "X=scale(Data[:, 0:279])"
   ]
  },
  {
   "cell_type": "code",
   "execution_count": 38,
   "metadata": {
    "collapsed": false
   },
   "outputs": [
    {
     "data": {
      "image/png": "[encoded data removed]",
      "text/plain": [
       "<matplotlib.figure.Figure at 0x1d90b8e29b0>"
      ]
     },
     "metadata": {},
     "output_type": "display_data"
    }
   ],
   "source": [
    "pca = PCA()\n",
    "## Estimation, calcul des composantes principales\n",
    "C = pca.fit(X).transform(X)\n",
    "## Décroissance de la variance expliquée\n",
    "plt.plot(pca.explained_variance_ratio_)\n",
    "plt.show()"
   ]
  },
  {
   "cell_type": "code",
   "execution_count": 39,
   "metadata": {
    "collapsed": false
   },
   "outputs": [
    {
     "data": {
      "image/png": "[encoded data removed]",
      "text/plain": [
       "<matplotlib.figure.Figure at 0x1d90b961470>"
      ]
     },
     "metadata": {},
     "output_type": "display_data"
    }
   ],
   "source": [
    "## coordonnées et représentation des variables\n",
    "coord1=pca.components_[0]*np.sqrt(pca.explained_variance_[0])\n",
    "coord2=pca.components_[1]*np.sqrt(pca.explained_variance_[1])\n",
    "fig = plt.figure(figsize=(7,7))\n",
    "ax = fig.add_subplot(1, 1, 1)\n",
    "for i, j, nom in zip(coord1,coord2, np.arange(1, 281)):\n",
    "    plt.text(i,j, nom)\n",
    "    plt.arrow(0,0,i,j,color='black')\n",
    "plt.axis((-1.2,1.2,-1.2,1.2))\n",
    "# cercle\n",
    "c=plt.Circle((0,0), radius=1, color='gray', fill=False)\n",
    "ax.add_patch(c)\n",
    "plt.show()"
   ]
  },
  {
   "cell_type": "code",
   "execution_count": 40,
   "metadata": {
    "collapsed": false
   },
   "outputs": [
    {
     "data": {
      "text/plain": [
       "array([  1.32963543e-01,   1.07269986e-01,   4.79398087e-02,\n",
       "         2.37035871e-02,   1.21858606e-02,   1.05445964e-02,\n",
       "         9.94698814e-03,   9.35880203e-03,   8.49778483e-03,\n",
       "         7.86866504e-03,   7.66466778e-03,   7.12660376e-03,\n",
       "         6.93889403e-03,   6.83176022e-03,   5.63712534e-03,\n",
       "         5.55699330e-03,   5.41592786e-03,   5.31558468e-03,\n",
       "         5.17750322e-03,   5.00328961e-03,   4.94473887e-03,\n",
       "         4.75073642e-03,   4.72460963e-03,   4.64145793e-03,\n",
       "         4.59421476e-03,   4.55824222e-03,   4.51530392e-03,\n",
       "         4.46402054e-03,   4.43731063e-03,   4.40916851e-03,\n",
       "         4.39127804e-03,   4.35750104e-03,   4.30503040e-03,\n",
       "         4.28523414e-03,   4.26391722e-03,   4.21716825e-03,\n",
       "         4.17779472e-03,   4.15991711e-03,   4.14115153e-03,\n",
       "         4.11565861e-03,   4.09939290e-03,   4.06211921e-03,\n",
       "         4.05332518e-03,   4.02695836e-03,   4.01030535e-03,\n",
       "         3.99806214e-03,   3.97163666e-03,   3.95447559e-03,\n",
       "         3.93200157e-03,   3.90580544e-03,   3.87795898e-03,\n",
       "         3.86820525e-03,   3.85147293e-03,   3.84324041e-03,\n",
       "         3.81494262e-03,   3.79804469e-03,   3.79161876e-03,\n",
       "         3.78265313e-03,   3.74544300e-03,   3.73378310e-03,\n",
       "         3.71545071e-03,   3.70420043e-03,   3.68726679e-03,\n",
       "         3.67718556e-03,   3.66052225e-03,   3.64717429e-03,\n",
       "         3.62068884e-03,   3.61798855e-03,   3.59729580e-03,\n",
       "         3.57768568e-03,   3.56942720e-03,   3.56184091e-03,\n",
       "         3.53843918e-03,   3.53199440e-03,   3.51927841e-03,\n",
       "         3.51400647e-03,   3.49104321e-03,   3.48242762e-03,\n",
       "         3.46093067e-03,   3.45855011e-03,   3.44683590e-03,\n",
       "         3.43439191e-03,   3.41833166e-03,   3.38932171e-03,\n",
       "         3.38624196e-03,   3.38081482e-03,   3.35337082e-03,\n",
       "         3.34358581e-03,   3.34243984e-03,   3.32668942e-03,\n",
       "         3.32204646e-03,   3.29953575e-03,   3.29364673e-03,\n",
       "         3.27722741e-03,   3.25583669e-03,   3.24530937e-03,\n",
       "         3.22496624e-03,   3.21814946e-03,   3.21110453e-03,\n",
       "         3.18948020e-03,   3.18096079e-03,   3.17176142e-03,\n",
       "         3.15587819e-03,   3.14878511e-03,   3.12996566e-03,\n",
       "         3.11300299e-03,   3.09739095e-03,   3.09188869e-03,\n",
       "         3.08485940e-03,   3.07639937e-03,   3.06883272e-03,\n",
       "         3.06375836e-03,   3.03738046e-03,   3.02243297e-03,\n",
       "         3.01552220e-03,   3.00271757e-03,   3.00073842e-03,\n",
       "         2.99222212e-03,   2.97107191e-03,   2.96824915e-03,\n",
       "         2.95281379e-03,   2.93182001e-03,   2.92231067e-03,\n",
       "         2.90883575e-03,   2.89696848e-03,   2.88962268e-03,\n",
       "         2.87880242e-03,   2.85905596e-03,   2.84689419e-03,\n",
       "         2.82645982e-03,   2.82075579e-03,   2.80882480e-03,\n",
       "         2.80175320e-03,   2.77280015e-03,   2.76598397e-03,\n",
       "         2.75622598e-03,   2.74407272e-03,   2.74268936e-03,\n",
       "         2.72469195e-03,   2.70622748e-03,   2.69071791e-03,\n",
       "         2.68385824e-03,   2.67992687e-03,   2.66635335e-03,\n",
       "         2.64742600e-03,   2.63446244e-03,   2.62806337e-03,\n",
       "         2.62261520e-03,   2.59555770e-03,   2.59222759e-03,\n",
       "         2.58264534e-03,   2.57126650e-03,   2.56214088e-03,\n",
       "         2.55944564e-03,   2.54775804e-03,   2.53290065e-03,\n",
       "         2.51696297e-03,   2.51262132e-03,   2.47475141e-03,\n",
       "         2.46635323e-03,   2.45045395e-03,   2.44491984e-03,\n",
       "         2.41982706e-03,   2.40413479e-03,   2.39811493e-03,\n",
       "         2.35850733e-03,   2.34863031e-03,   2.32978726e-03,\n",
       "         2.30691283e-03,   2.29241249e-03,   2.28041525e-03,\n",
       "         2.27686449e-03,   2.24859296e-03,   2.21475536e-03,\n",
       "         2.20371979e-03,   2.19190004e-03,   2.16312397e-03,\n",
       "         2.14640239e-03,   2.13222507e-03,   2.11147310e-03,\n",
       "         2.09949946e-03,   2.08125349e-03,   2.05779796e-03,\n",
       "         2.01971761e-03,   1.96760305e-03,   1.95853216e-03,\n",
       "         1.92991332e-03,   1.89701682e-03,   1.87125268e-03,\n",
       "         1.83720945e-03,   1.81524437e-03,   1.72886138e-03,\n",
       "         1.67302794e-03,   1.61429865e-03,   1.53330838e-03,\n",
       "         1.52767089e-03,   1.51723592e-03,   1.49001101e-03,\n",
       "         1.43588684e-03,   1.36348430e-03,   1.35956641e-03,\n",
       "         1.21274637e-03,   1.15825790e-03,   1.13540077e-03,\n",
       "         1.00461601e-03,   9.63801168e-04,   9.52707466e-04,\n",
       "         8.55848200e-04,   8.13052316e-04,   7.80885514e-04,\n",
       "         6.75241595e-04,   6.45860884e-04,   5.00169386e-04,\n",
       "         3.23855702e-04,   2.81959998e-04,   2.01240756e-04,\n",
       "         1.62399198e-04,   1.11030845e-04,   8.38402948e-05,\n",
       "         7.91720571e-05,   7.53690363e-05,   4.76603674e-05,\n",
       "         4.19521434e-05,   3.56990240e-05,   2.74351492e-05,\n",
       "         2.27084181e-05,   1.47644738e-05,   1.20424633e-05,\n",
       "         8.98232140e-06,   7.56985370e-06,   5.48101816e-06,\n",
       "         4.19948946e-06,   3.32052328e-06,   2.75851390e-06,\n",
       "         2.63816720e-06,   2.31066912e-06,   1.39229888e-06,\n",
       "         1.18450488e-06,   8.25738903e-07,   6.78519417e-07,\n",
       "         4.05211178e-07,   3.42737368e-07,   2.67629963e-07,\n",
       "         2.12000680e-07,   7.12866454e-08,   9.60825689e-19,\n",
       "         2.56706785e-19,   9.87999769e-31,   7.67184088e-31,\n",
       "         2.69310038e-32,   2.35169067e-32,   5.47356189e-33,\n",
       "         4.14063788e-33,   1.36009156e-33,   8.87646851e-34,\n",
       "         8.87646851e-34,   8.87646851e-34,   8.87646851e-34,\n",
       "         8.87646851e-34,   8.87646851e-34,   8.87646851e-34,\n",
       "         8.87646851e-34,   8.87646851e-34,   8.87646851e-34,\n",
       "         8.87646851e-34,   8.87646851e-34,   8.87646851e-34,\n",
       "         8.87646851e-34,   8.87646851e-34,   8.87646851e-34,\n",
       "         8.87646851e-34,   8.87646851e-34,   8.87646851e-34,\n",
       "         8.87646851e-34,   8.87646851e-34,   8.87646851e-34,\n",
       "         8.87646851e-34,   4.12296807e-34,   3.20093192e-34])"
      ]
     },
     "execution_count": 40,
     "metadata": {},
     "output_type": "execute_result"
    }
   ],
   "source": [
    "pca.explained_variance_ratio_"
   ]
  },
  {
   "cell_type": "markdown",
   "metadata": {},
   "source": [
    "Cette ACP n'est pas très intéressante car seulement 23% de la variance est expliquée sur 2 variables."
   ]
  },
  {
   "cell_type": "markdown",
   "metadata": {},
   "source": [
    "## Création de l'échantillon test"
   ]
  },
  {
   "cell_type": "markdown",
   "metadata": {},
   "source": [
    "On sélectionne 10% des données, en prenant en compte les proportions de l'échantillon global\n",
    "\n",
    "On aura donc 90% des individus pour l'apprentissage (47157)\n",
    "On aura 10% des invidus pour les tests (5240)"
   ]
  },
  {
   "cell_type": "code",
   "execution_count": 7,
   "metadata": {
    "collapsed": true
   },
   "outputs": [],
   "source": [
    "TailleEchantillonApp=47157\n",
    "TailleEchantillonTest=5240\n",
    "NbCol=np.shape(Data)[1]\n",
    "EchantillonTest=np.zeros((TailleEchantillonTest,NbCol))\n",
    "EchantillonApp=np.zeros((TailleEchantillonApp,NbCol))"
   ]
  },
  {
   "cell_type": "code",
   "execution_count": 8,
   "metadata": {
    "collapsed": false
   },
   "outputs": [],
   "source": [
    "ListeTest=random.sample(range(0, np.shape(Data)[0]), 5240)\n",
    "j=0\n",
    "k=0\n",
    "for i in range(0, np.shape(Data)[0]):\n",
    "    if i in ListeTest:\n",
    "        EchantillonTest[j]=Data[i,:]\n",
    "        j+=1\n",
    "    else :\n",
    "        EchantillonApp[k]=Data[i,:]\n",
    "        k+=1\n",
    "        \n",
    "Ytest=EchantillonTest[:, 280]\n",
    "YApp=EchantillonApp[:,280]"
   ]
  },
  {
   "cell_type": "code",
   "execution_count": 9,
   "metadata": {
    "collapsed": false
   },
   "outputs": [
    {
     "name": "stdout",
     "output_type": "stream",
     "text": [
      "Proportion de 0 dans le vecteur Y de test :  0.6423664122137405\n",
      "Proportion de 0 dans le vecteur Y apprentissage:  0.6402654961087431\n"
     ]
    },
    {
     "data": {
      "text/plain": [
       "DescribeResult(nobs=5240, minmax=(0.0, 971.0), mean=7.073854961832061, variance=1625.2667337525806, skewness=11.636513760972484, kurtosis=173.3374732357555)"
      ]
     },
     "execution_count": 9,
     "metadata": {},
     "output_type": "execute_result"
    }
   ],
   "source": [
    "print(\"Proportion de 0 dans le vecteur Y de test : \", 1-(len(Ytest[Ytest!=0])/len(Ytest)))\n",
    "print(\"Proportion de 0 dans le vecteur Y apprentissage: \", 1-(len(YApp[YApp!=0])/len(YApp)))\n",
    "stats.describe(Ytest)"
   ]
  },
  {
   "cell_type": "code",
   "execution_count": 10,
   "metadata": {
    "collapsed": false
   },
   "outputs": [
    {
     "data": {
      "text/plain": [
       "DescribeResult(nobs=47157, minmax=(0.0, 1424.0), mean=6.7303687681574313, variance=1399.1966799322913, skewness=12.825673874614113, kurtosis=240.5165424338482)"
      ]
     },
     "execution_count": 10,
     "metadata": {},
     "output_type": "execute_result"
    }
   ],
   "source": [
    "stats.describe(YApp)"
   ]
  },
  {
   "cell_type": "code",
   "execution_count": 11,
   "metadata": {
    "collapsed": false
   },
   "outputs": [],
   "source": [
    "Donnees_Panda=pd.DataFrame(EchantillonApp)"
   ]
  },
  {
   "cell_type": "code",
   "execution_count": 12,
   "metadata": {
    "collapsed": false
   },
   "outputs": [],
   "source": [
    "y_Panda=Donnees_Panda[280]\n",
    "X_Panda=Donnees_Panda.iloc[:,:280]"
   ]
  },
  {
   "cell_type": "code",
   "execution_count": 13,
   "metadata": {
    "collapsed": false
   },
   "outputs": [],
   "source": [
    "Quantile87=np.percentile(y_Panda.values, 87.5)\n",
    "\n",
    "Y_Quali_Panda=[]\n",
    "\n",
    "for i in range(0, np.shape(y_Panda)[0]):\n",
    "    if y_Panda[i]==0:\n",
    "        Y_Quali_Panda.append(\"Equal0\")\n",
    "    elif y_Panda[i]==1:\n",
    "        Y_Quali_Panda.append(\"Equal1\")\n",
    "    elif y_Panda[i]>1 and y_Panda[i]<Quantile87:\n",
    "        Y_Quali_Panda.append(\"InfQuant\")\n",
    "    elif y_Panda[i]>=Quantile87:\n",
    "        Y_Quali_Panda.append(\"SupQuant\")\n",
    "        \n",
    "y_Quali_Panda=pd.DataFrame(Y_Quali_Panda)"
   ]
  },
  {
   "cell_type": "markdown",
   "metadata": {
    "collapsed": true
   },
   "source": [
    "## Régression Linéaire\n"
   ]
  },
  {
   "cell_type": "code",
   "execution_count": 14,
   "metadata": {
    "collapsed": false
   },
   "outputs": [
    {
     "name": "stdout",
     "output_type": "stream",
     "text": [
      "                            OLS Regression Results                            \n",
      "==============================================================================\n",
      "Dep. Variable:                    280   R-squared:                       0.356\n",
      "Model:                            OLS   Adj. R-squared:                  0.353\n",
      "Method:                 Least Squares   F-statistic:                     104.5\n",
      "Date:                Wed, 07 Nov 2018   Prob (F-statistic):               0.00\n",
      "Time:                        14:37:01   Log-Likelihood:            -2.2733e+05\n",
      "No. Observations:               47157   AIC:                         4.552e+05\n",
      "Df Residuals:                   46908   BIC:                         4.573e+05\n",
      "Df Model:                         248                                         \n",
      "Covariance Type:            nonrobust                                         \n",
      "==============================================================================\n",
      "                 coef    std err          t      P>|t|      [95.0% Conf. Int.]\n",
      "------------------------------------------------------------------------------\n",
      "0             -0.6282      0.237     -2.653      0.008        -1.092    -0.164\n",
      "1              0.3274      0.194      1.691      0.091        -0.052     0.707\n",
      "2           -323.2320    171.498     -1.885      0.059      -659.371    12.907\n",
      "3             -0.0038      0.007     -0.546      0.585        -0.017     0.010\n",
      "4              0.0402      0.077      0.524      0.601        -0.110     0.191\n",
      "5          -6.793e+05   3.83e+05     -1.774      0.076     -1.43e+06  7.14e+04\n",
      "6             -0.8844      0.445     -1.989      0.047        -1.756    -0.013\n",
      "7             -1.6222      1.826     -0.888      0.374        -5.202     1.957\n",
      "8              0.0353      0.025      1.427      0.154        -0.013     0.084\n",
      "9             -0.3826      0.196     -1.949      0.051        -0.767     0.002\n",
      "10          6.793e+05   3.83e+05      1.774      0.076     -7.14e+04  1.43e+06\n",
      "11             0.7353      0.300      2.448      0.014         0.147     1.324\n",
      "12            97.5337     51.766      1.884      0.060        -3.928   198.995\n",
      "13            -0.0619      0.029     -2.163      0.031        -0.118    -0.006\n",
      "14             0.5044      0.242      2.086      0.037         0.031     0.978\n",
      "15             0.2020      0.222      0.910      0.363        -0.233     0.637\n",
      "16            -0.2933      0.142     -2.062      0.039        -0.572    -0.015\n",
      "17           323.1977    171.493      1.885      0.059       -12.931   659.326\n",
      "18             0.0163      0.009      1.809      0.071        -0.001     0.034\n",
      "19             0.0560      0.083      0.672      0.502        -0.107     0.219\n",
      "20          6.793e+05   3.83e+05      1.774      0.076     -7.14e+04  1.43e+06\n",
      "21             0.1222      0.193      0.632      0.527        -0.257     0.501\n",
      "22            -0.0120      0.007     -1.634      0.102        -0.026     0.002\n",
      "23             0.0005      0.013      0.038      0.969        -0.024     0.025\n",
      "24             0.1719      0.078      2.194      0.028         0.018     0.325\n",
      "25            -2.0944     10.476     -0.200      0.842       -22.627    18.438\n",
      "26            -2.0422      6.530     -0.313      0.754       -14.840    10.756\n",
      "27             0.5650      1.551      0.364      0.716        -2.475     3.605\n",
      "28            -0.2436      0.406     -0.600      0.549        -1.039     0.552\n",
      "29             0.4187      1.126      0.372      0.710        -1.789     2.626\n",
      "30         -3.249e+07   1.73e+07     -1.882      0.060     -6.63e+07  1.35e+06\n",
      "31            19.9357     17.821      1.119      0.263       -14.993    54.865\n",
      "32             0.7615      0.406      1.877      0.061        -0.034     1.557\n",
      "33            -1.0856      1.868     -0.581      0.561        -4.747     2.576\n",
      "34            11.9470      6.371      1.875      0.061        -0.540    24.434\n",
      "35          3.249e+07   1.73e+07      1.882      0.060     -1.35e+06  6.63e+07\n",
      "36           -19.9478     17.004     -1.173      0.241       -53.275    13.380\n",
      "37             0.2333      0.125      1.865      0.062        -0.012     0.479\n",
      "38             1.6369      1.913      0.856      0.392        -2.113     5.386\n",
      "39           -16.1493     14.937     -1.081      0.280       -45.426    13.128\n",
      "40            -1.7592      9.301     -0.189      0.850       -19.990    16.472\n",
      "41             2.9771      5.764      0.517      0.606        -8.320    14.274\n",
      "42            -0.5030      1.645     -0.306      0.760        -3.728     2.722\n",
      "43             0.0956      0.385      0.248      0.804        -0.659     0.850\n",
      "44            -0.6883      1.217     -0.565      0.572        -3.074     1.698\n",
      "45          3.249e+07   1.73e+07      1.882      0.060     -1.35e+06  6.63e+07\n",
      "46            -2.1333      8.251     -0.259      0.796       -18.304    14.038\n",
      "47            -0.0478      0.675     -0.071      0.944        -1.371     1.275\n",
      "48            -0.3499      0.642     -0.545      0.586        -1.609     0.909\n",
      "49             1.0042     13.394      0.075      0.940       -25.249    27.257\n",
      "50            -0.0302      0.007     -4.262      0.000        -0.044    -0.016\n",
      "51            -9.6188      5.177     -1.858      0.063       -19.767     0.529\n",
      "52             9.7884      5.177      1.891      0.059        -0.359    19.936\n",
      "53            -0.0423      0.007     -5.818      0.000        -0.057    -0.028\n",
      "54             9.8344      5.177      1.899      0.058        -0.313    19.982\n",
      "55            -1.0140      0.581     -1.747      0.081        -2.152     0.124\n",
      "56             0.0148      0.345      0.043      0.966        -0.661     0.690\n",
      "57             0.8328      0.349      2.385      0.017         0.148     1.517\n",
      "58             1.0405      0.568      1.833      0.067        -0.072     2.153\n",
      "59             0.4374      0.242      1.808      0.071        -0.037     0.911\n",
      "60            -0.1540      0.007    -21.129      0.000        -0.168    -0.140\n",
      "61          9.434e-05    7.4e-05      1.276      0.202     -5.06e-05     0.000\n",
      "62             2.4213      3.645      0.664      0.507        -4.723     9.566\n",
      "63            -0.5384      0.420     -1.283      0.200        -1.361     0.284\n",
      "64             1.8410      3.298      0.558      0.577        -4.622     8.304\n",
      "65             1.0078      8.779      0.115      0.909       -16.199    18.215\n",
      "66            -0.3467      0.391     -0.886      0.376        -1.113     0.420\n",
      "67             0.4070      0.438      0.928      0.353        -0.452     1.266\n",
      "68             1.4175      0.391      3.624      0.000         0.651     2.184\n",
      "69            -3.5255      2.949     -1.196      0.232        -9.305     2.254\n",
      "70            -2.1131      2.476     -0.853      0.393        -6.966     2.740\n",
      "71             2.4510      0.913      2.686      0.007         0.662     4.240\n",
      "72             1.5817      3.294      0.480      0.631        -4.875     8.039\n",
      "73            -7.6559      6.239     -1.227      0.220       -19.885     4.574\n",
      "74            -0.7722      2.176     -0.355      0.723        -5.037     3.492\n",
      "75             1.1690      3.301      0.354      0.723        -5.302     7.640\n",
      "76             5.4631      1.262      4.328      0.000         2.989     7.937\n",
      "77            -1.8826      3.861     -0.488      0.626        -9.450     5.685\n",
      "78             0.1229      0.402      0.306      0.760        -0.665     0.910\n",
      "79             1.0988      3.304      0.333      0.739        -5.377     7.575\n",
      "80             1.9995      3.302      0.605      0.545        -4.473     8.472\n",
      "81            -4.2075      2.565     -1.641      0.101        -9.234     0.819\n",
      "82             0.2160      3.782      0.057      0.954        -7.197     7.629\n",
      "83           -12.1970     12.415     -0.982      0.326       -36.530    12.136\n",
      "84            32.7185      9.304      3.517      0.000        14.483    50.954\n",
      "85            -0.4561      1.011     -0.451      0.652        -2.438     1.525\n",
      "86           -16.7687     14.003     -1.198      0.231       -44.215    10.677\n",
      "87             2.8013      1.329      2.107      0.035         0.196     5.407\n",
      "88            -0.6804      0.611     -1.114      0.265        -1.877     0.516\n",
      "89            28.8662     17.495      1.650      0.099        -5.425    63.157\n",
      "90            -6.8315      8.946     -0.764      0.445       -24.366    10.703\n",
      "91            30.2682     10.706      2.827      0.005         9.284    51.252\n",
      "92             1.4026      2.070      0.678      0.498        -2.655     5.460\n",
      "93             1.2582      3.299      0.381      0.703        -5.207     7.724\n",
      "94            -6.4967     12.364     -0.525      0.599       -30.731    17.738\n",
      "95             0.5308      0.526      1.008      0.313        -0.501     1.563\n",
      "96             2.0937      3.306      0.633      0.527        -4.386     8.574\n",
      "97            10.7314      7.862      1.365      0.172        -4.678    26.141\n",
      "98            -6.3454      8.812     -0.720      0.471       -23.618    10.927\n",
      "99            -5.9267      4.785     -1.239      0.215       -15.305     3.451\n",
      "100           -0.4986      0.479     -1.040      0.298        -1.438     0.441\n",
      "101            0.5406      0.556      0.973      0.331        -0.549     1.630\n",
      "102            0.2812      0.839      0.335      0.737        -1.362     1.925\n",
      "103            0.9484      0.708      1.339      0.181        -0.440     2.337\n",
      "104            3.0508      2.660      1.147      0.251        -2.163     8.264\n",
      "105           -0.1994      4.212     -0.047      0.962        -8.454     8.056\n",
      "106           -4.1249      2.729     -1.511      0.131        -9.474     1.224\n",
      "107           -0.7648      1.141     -0.670      0.503        -3.001     1.472\n",
      "108            2.0314     21.402      0.095      0.924       -39.918    43.980\n",
      "109           -1.4442      0.918     -1.573      0.116        -3.244     0.356\n",
      "110            0.3778     12.334      0.031      0.976       -23.798    24.553\n",
      "111           -3.7017      7.178     -0.516      0.606       -17.771    10.367\n",
      "112            2.1701      9.769      0.222      0.824       -16.977    21.317\n",
      "113           -1.1687      0.443     -2.640      0.008        -2.036    -0.301\n",
      "114            0.2262      0.589      0.384      0.701        -0.929     1.381\n",
      "115           -1.0953      1.010     -1.084      0.278        -3.075     0.885\n",
      "116           -2.2035      3.661     -0.602      0.547        -9.379     4.972\n",
      "117            0.3181      1.329      0.239      0.811        -2.286     2.922\n",
      "118           -1.2656      0.684     -1.851      0.064        -2.606     0.075\n",
      "119           -0.2647      0.429     -0.617      0.537        -1.106     0.577\n",
      "120            0.6599      0.782      0.843      0.399        -0.874     2.194\n",
      "121           -0.3934      0.391     -1.007      0.314        -1.159     0.372\n",
      "122           -2.4265      7.440     -0.326      0.744       -17.010    12.156\n",
      "123           -0.2636     21.855     -0.012      0.990       -43.101    42.573\n",
      "124           -1.9001      1.413     -1.344      0.179        -4.670     0.870\n",
      "125            4.9783      6.986      0.713      0.476        -8.713    18.670\n",
      "126           -3.9429      1.939     -2.034      0.042        -7.743    -0.143\n",
      "127            0.4107      1.302      0.316      0.752        -2.140     2.962\n",
      "128            2.5794     17.418      0.148      0.882       -31.561    36.719\n",
      "129            1.5626      3.294      0.474      0.635        -4.895     8.020\n",
      "130           -0.9665      2.072     -0.466      0.641        -5.028     3.095\n",
      "131            1.7639      3.296      0.535      0.593        -4.696     8.224\n",
      "132            3.9044      6.289      0.621      0.535        -8.422    16.231\n",
      "133            0.8264      0.762      1.085      0.278        -0.667     2.320\n",
      "134           -0.3749      0.896     -0.419      0.676        -2.130     1.381\n",
      "135            0.2118      0.697      0.304      0.761        -1.153     1.577\n",
      "136            5.2077      2.329      2.236      0.025         0.643     9.773\n",
      "137            1.5117      0.852      1.774      0.076        -0.159     3.182\n",
      "138            0.4187      0.392      1.067      0.286        -0.350     1.187\n",
      "139           -0.2918      0.562     -0.519      0.604        -1.394     0.810\n",
      "140            0.2821      0.566      0.499      0.618        -0.827     1.391\n",
      "141           -0.2437      2.828     -0.086      0.931        -5.787     5.300\n",
      "142           -0.7057      0.564     -1.250      0.211        -1.812     0.401\n",
      "143            0.3572      1.602      0.223      0.824        -2.783     3.497\n",
      "144           -5.8714      2.562     -2.292      0.022       -10.893    -0.850\n",
      "145           -2.7568      2.630     -1.048      0.294        -7.911     2.397\n",
      "146           -6.5211      2.019     -3.229      0.001       -10.479    -2.563\n",
      "147           -5.3192     11.044     -0.482      0.630       -26.966    16.327\n",
      "148            1.7351      3.296      0.526      0.599        -4.724     8.195\n",
      "149            1.6549      3.057      0.541      0.588        -4.337     7.647\n",
      "150            0.6615      0.372      1.779      0.075        -0.067     1.390\n",
      "151           -2.8722      3.232     -0.889      0.374        -9.208     3.463\n",
      "152           -1.6100      0.687     -2.343      0.019        -2.957    -0.263\n",
      "153            1.5322      0.824      1.860      0.063        -0.082     3.147\n",
      "154          -18.1032     17.467     -1.036      0.300       -52.340    16.133\n",
      "155            1.5367      3.295      0.466      0.641        -4.921     7.994\n",
      "156            0.2617      1.545      0.169      0.865        -2.767     3.290\n",
      "157            1.0353      0.382      2.712      0.007         0.287     1.783\n",
      "158            1.1097      0.505      2.196      0.028         0.119     2.100\n",
      "159           -7.7904      4.380     -1.778      0.075       -16.376     0.795\n",
      "160            1.6453      3.295      0.499      0.618        -4.812     8.103\n",
      "161           -0.6478      0.864     -0.750      0.454        -2.342     1.046\n",
      "162            0.7719      0.899      0.859      0.390        -0.990     2.534\n",
      "163           -1.7445      1.941     -0.899      0.369        -5.549     2.060\n",
      "164           -1.1179      4.152     -0.269      0.788        -9.255     7.019\n",
      "165            1.6420      3.295      0.498      0.618        -4.816     8.100\n",
      "166            0.9521      3.975      0.240      0.811        -6.840     8.744\n",
      "167           -1.8417     10.118     -0.182      0.856       -21.674    17.991\n",
      "168            1.7440      3.296      0.529      0.597        -4.716     8.204\n",
      "169           -0.0818      0.425     -0.193      0.847        -0.914     0.750\n",
      "170           17.7889      5.132      3.466      0.001         7.729    27.848\n",
      "171            1.6568      3.295      0.503      0.615        -4.801     8.115\n",
      "172           -5.0193      9.162     -0.548      0.584       -22.977    12.939\n",
      "173           -1.2528      1.214     -1.032      0.302        -3.632     1.126\n",
      "174            1.2995      2.760      0.471      0.638        -4.110     6.709\n",
      "175           -4.1689      4.371     -0.954      0.340       -12.736     4.398\n",
      "176           -1.0826      2.382     -0.454      0.649        -5.752     3.586\n",
      "177           -1.4337      7.358     -0.195      0.846       -15.855    12.987\n",
      "178            1.6704      3.295      0.507      0.612        -4.788     8.128\n",
      "179           -0.0861      0.522     -0.165      0.869        -1.109     0.937\n",
      "180           -0.4504      0.729     -0.618      0.537        -1.879     0.978\n",
      "181            0.7729      1.430      0.541      0.589        -2.029     3.575\n",
      "182           -0.8782      0.576     -1.524      0.127        -2.008     0.251\n",
      "183            0.9433      0.497      1.898      0.058        -0.031     1.918\n",
      "184            0.5023      8.143      0.062      0.951       -15.457    16.462\n",
      "185            1.5684      1.228      1.277      0.202        -0.839     3.976\n",
      "186           -1.5146      1.057     -1.432      0.152        -3.587     0.558\n",
      "187           -1.6682      1.896     -0.880      0.379        -5.383     2.047\n",
      "188           -0.8057      1.192     -0.676      0.499        -3.143     1.531\n",
      "189            1.6379      3.295      0.497      0.619        -4.820     8.095\n",
      "190           -0.5804      0.492     -1.180      0.238        -1.545     0.384\n",
      "191            1.6015      1.145      1.399      0.162        -0.643     3.846\n",
      "192           -0.3510      0.461     -0.762      0.446        -1.254     0.552\n",
      "193           -0.5347      0.437     -1.223      0.221        -1.392     0.322\n",
      "194            2.6778      1.013      2.644      0.008         0.693     4.662\n",
      "195           -0.8805      1.116     -0.789      0.430        -3.068     1.307\n",
      "196           -0.7643      0.574     -1.333      0.183        -1.889     0.360\n",
      "197            1.6025      3.294      0.486      0.627        -4.855     8.060\n",
      "198            3.3127      8.870      0.373      0.709       -14.073    20.699\n",
      "199            1.6727      3.295      0.508      0.612        -4.785     8.131\n",
      "200           -2.2046      2.283     -0.966      0.334        -6.680     2.271\n",
      "201            0.5210      0.426      1.223      0.221        -0.314     1.356\n",
      "202           -5.3205      5.212     -1.021      0.307       -15.536     4.895\n",
      "203            2.0262      3.916      0.517      0.605        -5.650     9.702\n",
      "204            0.6809      1.425      0.478      0.633        -2.111     3.473\n",
      "205            0.1391      2.217      0.063      0.950        -4.207     4.485\n",
      "206            0.6856      0.686      1.000      0.317        -0.658     2.030\n",
      "207            1.5603      1.320      1.182      0.237        -1.027     4.148\n",
      "208            1.4413      4.270      0.338      0.736        -6.928     9.810\n",
      "209            0.4213      0.384      1.097      0.272        -0.331     1.174\n",
      "210           -2.9305      2.838     -1.033      0.302        -8.493     2.632\n",
      "211            1.6347      3.295      0.496      0.620        -4.823     8.092\n",
      "212           -0.1651      0.396     -0.417      0.676        -0.941     0.611\n",
      "213            5.4148      6.793      0.797      0.425        -7.899    18.728\n",
      "214           -0.0025      2.268     -0.001      0.999        -4.447     4.442\n",
      "215            1.2047      0.602      2.001      0.045         0.025     2.385\n",
      "216          -30.9077      6.118     -5.052      0.000       -42.898   -18.917\n",
      "217            1.2030      3.095      0.389      0.697        -4.863     7.269\n",
      "218           -1.8594      0.886     -2.098      0.036        -3.597    -0.122\n",
      "219           -0.3235      3.369     -0.096      0.924        -6.927     6.280\n",
      "220            0.7422      0.731      1.016      0.310        -0.690     2.175\n",
      "221          -11.5934      3.918     -2.959      0.003       -19.273    -3.914\n",
      "222           -0.6529     18.289     -0.036      0.972       -36.499    35.193\n",
      "223           -3.9940     10.196     -0.392      0.695       -23.979    15.991\n",
      "224           -2.1518      1.768     -1.217      0.224        -5.617     1.313\n",
      "225            1.2190      0.401      3.040      0.002         0.433     2.005\n",
      "226           -0.3129      1.979     -0.158      0.874        -4.192     3.566\n",
      "227           -0.4335      0.451     -0.962      0.336        -1.317     0.450\n",
      "228           -1.9994      3.639     -0.549      0.583        -9.133     5.134\n",
      "229            0.6500      0.470      1.384      0.166        -0.270     1.570\n",
      "230           -2.3807      2.212     -1.076      0.282        -6.717     1.955\n",
      "231            0.6034      0.381      1.583      0.113        -0.144     1.350\n",
      "232           -0.1212      0.432     -0.281      0.779        -0.967     0.725\n",
      "233           -0.6934      0.743     -0.933      0.351        -2.151     0.764\n",
      "234           -0.5373      3.808     -0.141      0.888        -8.002     6.927\n",
      "235            1.6603      3.295      0.504      0.614        -4.798     8.118\n",
      "236           -1.7248      2.043     -0.844      0.399        -5.729     2.280\n",
      "237           -4.9015      3.056     -1.604      0.109       -10.892     1.088\n",
      "238           -1.1426      4.921     -0.232      0.816       -10.787     8.502\n",
      "239           -0.5325      3.424     -0.156      0.876        -7.244     6.179\n",
      "240            2.6449      0.886      2.984      0.003         0.907     4.382\n",
      "241           -2.1364      1.218     -1.753      0.080        -4.525     0.252\n",
      "242            1.6369      3.295      0.497      0.619        -4.821     8.094\n",
      "243            0.2280     17.700      0.013      0.990       -34.464    34.920\n",
      "244            0.2167      1.018      0.213      0.831        -1.778     2.212\n",
      "245           -0.8012      0.554     -1.445      0.148        -1.888     0.285\n",
      "246           -0.8983      0.467     -1.924      0.054        -1.813     0.017\n",
      "247            0.4477      0.398      1.124      0.261        -0.333     1.228\n",
      "248            0.3672      1.686      0.218      0.828        -2.937     3.671\n",
      "249            1.6444      3.295      0.499      0.618        -4.813     8.102\n",
      "250           -0.2669      1.182     -0.226      0.821        -2.584     2.050\n",
      "251            3.1468      1.784      1.764      0.078        -0.350     6.644\n",
      "252           -3.5668     13.594     -0.262      0.793       -30.211    23.078\n",
      "253            0.1860      0.919      0.202      0.840        -1.616     1.988\n",
      "254           -1.7021      1.293     -1.317      0.188        -4.236     0.831\n",
      "255            2.3345     10.211      0.229      0.819       -17.678    22.347\n",
      "256            0.8078      0.756      1.069      0.285        -0.674     2.290\n",
      "257            2.5476      2.987      0.853      0.394        -3.307     8.402\n",
      "258            0.3418      2.367      0.144      0.885        -4.298     4.982\n",
      "259            2.0193      2.748      0.735      0.462        -3.367     7.405\n",
      "260            2.5414      1.557      1.633      0.103        -0.509     5.592\n",
      "261           -3.5979      9.122     -0.394      0.693       -21.476    14.280\n",
      "262            3.6060      0.515      7.004      0.000         2.597     4.615\n",
      "263            2.6532      0.486      5.463      0.000         1.701     3.605\n",
      "264            1.4941      0.462      3.236      0.001         0.589     2.399\n",
      "265            1.8033      0.436      4.132      0.000         0.948     2.659\n",
      "266            1.6301      0.440      3.704      0.000         0.767     2.493\n",
      "267            2.6573      0.455      5.836      0.000         1.765     3.550\n",
      "268            4.0341      0.491      8.209      0.000         3.071     4.997\n",
      "269            2.4154      0.475      5.084      0.000         1.484     3.347\n",
      "270            3.4495      0.459      7.507      0.000         2.549     4.350\n",
      "271            2.7616      0.443      6.235      0.000         1.893     3.630\n",
      "272            1.8812      0.445      4.228      0.000         1.009     2.753\n",
      "273            1.9779      0.453      4.364      0.000         1.090     2.866\n",
      "274            2.7364      0.518      5.283      0.000         1.721     3.752\n",
      "275            2.3066      0.539      4.280      0.000         1.250     3.363\n",
      "276            0.0315      0.094      0.337      0.736        -0.152     0.215\n",
      "277                 0          0        nan        nan             0         0\n",
      "278           -0.0022      0.011     -0.205      0.838        -0.024     0.019\n",
      "279            0.0063      0.015      0.426      0.670        -0.023     0.035\n",
      "==============================================================================\n",
      "Omnibus:                    78659.819   Durbin-Watson:                   1.936\n",
      "Prob(Omnibus):                  0.000   Jarque-Bera (JB):        151618236.281\n",
      "Skew:                          10.988   Prob(JB):                         0.00\n",
      "Kurtosis:                     279.914   Cond. No.                     1.22e+16\n",
      "==============================================================================\n",
      "\n",
      "Warnings:\n",
      "[1] Standard Errors assume that the covariance matrix of the errors is correctly specified.\n",
      "[2] The smallest eigenvalue is 7.23e-21. This might indicate that there are\n",
      "strong multicollinearity problems or that the design matrix is singular.\n"
     ]
    }
   ],
   "source": [
    "model = sm.OLS(y_Panda, X_Panda)\n",
    "Reg=model.fit()\n",
    "print(Reg.summary())"
   ]
  },
  {
   "cell_type": "markdown",
   "metadata": {},
   "source": [
    "## Régression polytomique"
   ]
  },
  {
   "cell_type": "code",
   "execution_count": 55,
   "metadata": {
    "collapsed": true
   },
   "outputs": [
    {
     "ename": "KeyboardInterrupt",
     "evalue": "",
     "output_type": "error",
     "traceback": [
      "\u001b[0;31m---------------------------------------------------------------------------\u001b[0m",
      "\u001b[0;31mKeyboardInterrupt\u001b[0m                         Traceback (most recent call last)",
      "\u001b[0;32m<ipython-input-55-219ab85d52a5>\u001b[0m in \u001b[0;36m<module>\u001b[0;34m()\u001b[0m\n\u001b[0;32m----> 1\u001b[0;31m \u001b[0mRegMulti\u001b[0m\u001b[1;33m=\u001b[0m\u001b[0mlinear_model\u001b[0m\u001b[1;33m.\u001b[0m\u001b[0mLogisticRegression\u001b[0m\u001b[1;33m(\u001b[0m\u001b[0mmulti_class\u001b[0m\u001b[1;33m=\u001b[0m\u001b[1;34m'multinomial'\u001b[0m\u001b[1;33m,\u001b[0m\u001b[0msolver\u001b[0m \u001b[1;33m=\u001b[0m\u001b[1;34m'newton-cg'\u001b[0m\u001b[1;33m)\u001b[0m\u001b[1;33m.\u001b[0m\u001b[0mfit\u001b[0m\u001b[1;33m(\u001b[0m\u001b[0mX_Panda\u001b[0m\u001b[1;33m,\u001b[0m\u001b[0my_Panda\u001b[0m\u001b[1;33m)\u001b[0m\u001b[1;33m\u001b[0m\u001b[0m\n\u001b[0m\u001b[1;32m      2\u001b[0m \u001b[0mprint\u001b[0m\u001b[1;33m(\u001b[0m\u001b[0mRegMulti\u001b[0m\u001b[1;33m)\u001b[0m\u001b[1;33m\u001b[0m\u001b[0m\n",
      "\u001b[0;32mC:\\Users\\Lilian Beuneche\\Anaconda3\\lib\\site-packages\\sklearn\\linear_model\\logistic.py\u001b[0m in \u001b[0;36mfit\u001b[0;34m(self, X, y, sample_weight)\u001b[0m\n\u001b[1;32m   1205\u001b[0m                       \u001b[0mmax_squared_sum\u001b[0m\u001b[1;33m=\u001b[0m\u001b[0mmax_squared_sum\u001b[0m\u001b[1;33m,\u001b[0m\u001b[1;33m\u001b[0m\u001b[0m\n\u001b[1;32m   1206\u001b[0m                       sample_weight=sample_weight)\n\u001b[0;32m-> 1207\u001b[0;31m             for (class_, warm_start_coef_) in zip(classes_, warm_start_coef))\n\u001b[0m\u001b[1;32m   1208\u001b[0m \u001b[1;33m\u001b[0m\u001b[0m\n\u001b[1;32m   1209\u001b[0m         \u001b[0mfold_coefs_\u001b[0m\u001b[1;33m,\u001b[0m \u001b[0m_\u001b[0m\u001b[1;33m,\u001b[0m \u001b[0mn_iter_\u001b[0m \u001b[1;33m=\u001b[0m \u001b[0mzip\u001b[0m\u001b[1;33m(\u001b[0m\u001b[1;33m*\u001b[0m\u001b[0mfold_coefs_\u001b[0m\u001b[1;33m)\u001b[0m\u001b[1;33m\u001b[0m\u001b[0m\n",
      "\u001b[0;32mC:\\Users\\Lilian Beuneche\\Anaconda3\\lib\\site-packages\\sklearn\\externals\\joblib\\parallel.py\u001b[0m in \u001b[0;36m__call__\u001b[0;34m(self, iterable)\u001b[0m\n\u001b[1;32m    798\u001b[0m             \u001b[1;31m# was dispatched. In particular this covers the edge\u001b[0m\u001b[1;33m\u001b[0m\u001b[1;33m\u001b[0m\u001b[0m\n\u001b[1;32m    799\u001b[0m             \u001b[1;31m# case of Parallel used with an exhausted iterator.\u001b[0m\u001b[1;33m\u001b[0m\u001b[1;33m\u001b[0m\u001b[0m\n\u001b[0;32m--> 800\u001b[0;31m             \u001b[1;32mwhile\u001b[0m \u001b[0mself\u001b[0m\u001b[1;33m.\u001b[0m\u001b[0mdispatch_one_batch\u001b[0m\u001b[1;33m(\u001b[0m\u001b[0miterator\u001b[0m\u001b[1;33m)\u001b[0m\u001b[1;33m:\u001b[0m\u001b[1;33m\u001b[0m\u001b[0m\n\u001b[0m\u001b[1;32m    801\u001b[0m                 \u001b[0mself\u001b[0m\u001b[1;33m.\u001b[0m\u001b[0m_iterating\u001b[0m \u001b[1;33m=\u001b[0m \u001b[1;32mTrue\u001b[0m\u001b[1;33m\u001b[0m\u001b[0m\n\u001b[1;32m    802\u001b[0m             \u001b[1;32melse\u001b[0m\u001b[1;33m:\u001b[0m\u001b[1;33m\u001b[0m\u001b[0m\n",
      "\u001b[0;32mC:\\Users\\Lilian Beuneche\\Anaconda3\\lib\\site-packages\\sklearn\\externals\\joblib\\parallel.py\u001b[0m in \u001b[0;36mdispatch_one_batch\u001b[0;34m(self, iterator)\u001b[0m\n\u001b[1;32m    656\u001b[0m                 \u001b[1;32mreturn\u001b[0m \u001b[1;32mFalse\u001b[0m\u001b[1;33m\u001b[0m\u001b[0m\n\u001b[1;32m    657\u001b[0m             \u001b[1;32melse\u001b[0m\u001b[1;33m:\u001b[0m\u001b[1;33m\u001b[0m\u001b[0m\n\u001b[0;32m--> 658\u001b[0;31m                 \u001b[0mself\u001b[0m\u001b[1;33m.\u001b[0m\u001b[0m_dispatch\u001b[0m\u001b[1;33m(\u001b[0m\u001b[0mtasks\u001b[0m\u001b[1;33m)\u001b[0m\u001b[1;33m\u001b[0m\u001b[0m\n\u001b[0m\u001b[1;32m    659\u001b[0m                 \u001b[1;32mreturn\u001b[0m \u001b[1;32mTrue\u001b[0m\u001b[1;33m\u001b[0m\u001b[0m\n\u001b[1;32m    660\u001b[0m \u001b[1;33m\u001b[0m\u001b[0m\n",
      "\u001b[0;32mC:\\Users\\Lilian Beuneche\\Anaconda3\\lib\\site-packages\\sklearn\\externals\\joblib\\parallel.py\u001b[0m in \u001b[0;36m_dispatch\u001b[0;34m(self, batch)\u001b[0m\n\u001b[1;32m    564\u001b[0m \u001b[1;33m\u001b[0m\u001b[0m\n\u001b[1;32m    565\u001b[0m         \u001b[1;32mif\u001b[0m \u001b[0mself\u001b[0m\u001b[1;33m.\u001b[0m\u001b[0m_pool\u001b[0m \u001b[1;32mis\u001b[0m \u001b[1;32mNone\u001b[0m\u001b[1;33m:\u001b[0m\u001b[1;33m\u001b[0m\u001b[0m\n\u001b[0;32m--> 566\u001b[0;31m             \u001b[0mjob\u001b[0m \u001b[1;33m=\u001b[0m \u001b[0mImmediateComputeBatch\u001b[0m\u001b[1;33m(\u001b[0m\u001b[0mbatch\u001b[0m\u001b[1;33m)\u001b[0m\u001b[1;33m\u001b[0m\u001b[0m\n\u001b[0m\u001b[1;32m    567\u001b[0m             \u001b[0mself\u001b[0m\u001b[1;33m.\u001b[0m\u001b[0m_jobs\u001b[0m\u001b[1;33m.\u001b[0m\u001b[0mappend\u001b[0m\u001b[1;33m(\u001b[0m\u001b[0mjob\u001b[0m\u001b[1;33m)\u001b[0m\u001b[1;33m\u001b[0m\u001b[0m\n\u001b[1;32m    568\u001b[0m             \u001b[0mself\u001b[0m\u001b[1;33m.\u001b[0m\u001b[0mn_dispatched_batches\u001b[0m \u001b[1;33m+=\u001b[0m \u001b[1;36m1\u001b[0m\u001b[1;33m\u001b[0m\u001b[0m\n",
      "\u001b[0;32mC:\\Users\\Lilian Beuneche\\Anaconda3\\lib\\site-packages\\sklearn\\externals\\joblib\\parallel.py\u001b[0m in \u001b[0;36m__init__\u001b[0;34m(self, batch)\u001b[0m\n\u001b[1;32m    178\u001b[0m         \u001b[1;31m# Don't delay the application, to avoid keeping the input\u001b[0m\u001b[1;33m\u001b[0m\u001b[1;33m\u001b[0m\u001b[0m\n\u001b[1;32m    179\u001b[0m         \u001b[1;31m# arguments in memory\u001b[0m\u001b[1;33m\u001b[0m\u001b[1;33m\u001b[0m\u001b[0m\n\u001b[0;32m--> 180\u001b[0;31m         \u001b[0mself\u001b[0m\u001b[1;33m.\u001b[0m\u001b[0mresults\u001b[0m \u001b[1;33m=\u001b[0m \u001b[0mbatch\u001b[0m\u001b[1;33m(\u001b[0m\u001b[1;33m)\u001b[0m\u001b[1;33m\u001b[0m\u001b[0m\n\u001b[0m\u001b[1;32m    181\u001b[0m \u001b[1;33m\u001b[0m\u001b[0m\n\u001b[1;32m    182\u001b[0m     \u001b[1;32mdef\u001b[0m \u001b[0mget\u001b[0m\u001b[1;33m(\u001b[0m\u001b[0mself\u001b[0m\u001b[1;33m)\u001b[0m\u001b[1;33m:\u001b[0m\u001b[1;33m\u001b[0m\u001b[0m\n",
      "\u001b[0;32mC:\\Users\\Lilian Beuneche\\Anaconda3\\lib\\site-packages\\sklearn\\externals\\joblib\\parallel.py\u001b[0m in \u001b[0;36m__call__\u001b[0;34m(self)\u001b[0m\n\u001b[1;32m     70\u001b[0m \u001b[1;33m\u001b[0m\u001b[0m\n\u001b[1;32m     71\u001b[0m     \u001b[1;32mdef\u001b[0m \u001b[0m__call__\u001b[0m\u001b[1;33m(\u001b[0m\u001b[0mself\u001b[0m\u001b[1;33m)\u001b[0m\u001b[1;33m:\u001b[0m\u001b[1;33m\u001b[0m\u001b[0m\n\u001b[0;32m---> 72\u001b[0;31m         \u001b[1;32mreturn\u001b[0m \u001b[1;33m[\u001b[0m\u001b[0mfunc\u001b[0m\u001b[1;33m(\u001b[0m\u001b[1;33m*\u001b[0m\u001b[0margs\u001b[0m\u001b[1;33m,\u001b[0m \u001b[1;33m**\u001b[0m\u001b[0mkwargs\u001b[0m\u001b[1;33m)\u001b[0m \u001b[1;32mfor\u001b[0m \u001b[0mfunc\u001b[0m\u001b[1;33m,\u001b[0m \u001b[0margs\u001b[0m\u001b[1;33m,\u001b[0m \u001b[0mkwargs\u001b[0m \u001b[1;32min\u001b[0m \u001b[0mself\u001b[0m\u001b[1;33m.\u001b[0m\u001b[0mitems\u001b[0m\u001b[1;33m]\u001b[0m\u001b[1;33m\u001b[0m\u001b[0m\n\u001b[0m\u001b[1;32m     73\u001b[0m \u001b[1;33m\u001b[0m\u001b[0m\n\u001b[1;32m     74\u001b[0m     \u001b[1;32mdef\u001b[0m \u001b[0m__len__\u001b[0m\u001b[1;33m(\u001b[0m\u001b[0mself\u001b[0m\u001b[1;33m)\u001b[0m\u001b[1;33m:\u001b[0m\u001b[1;33m\u001b[0m\u001b[0m\n",
      "\u001b[0;32mC:\\Users\\Lilian Beuneche\\Anaconda3\\lib\\site-packages\\sklearn\\externals\\joblib\\parallel.py\u001b[0m in \u001b[0;36m<listcomp>\u001b[0;34m(.0)\u001b[0m\n\u001b[1;32m     70\u001b[0m \u001b[1;33m\u001b[0m\u001b[0m\n\u001b[1;32m     71\u001b[0m     \u001b[1;32mdef\u001b[0m \u001b[0m__call__\u001b[0m\u001b[1;33m(\u001b[0m\u001b[0mself\u001b[0m\u001b[1;33m)\u001b[0m\u001b[1;33m:\u001b[0m\u001b[1;33m\u001b[0m\u001b[0m\n\u001b[0;32m---> 72\u001b[0;31m         \u001b[1;32mreturn\u001b[0m \u001b[1;33m[\u001b[0m\u001b[0mfunc\u001b[0m\u001b[1;33m(\u001b[0m\u001b[1;33m*\u001b[0m\u001b[0margs\u001b[0m\u001b[1;33m,\u001b[0m \u001b[1;33m**\u001b[0m\u001b[0mkwargs\u001b[0m\u001b[1;33m)\u001b[0m \u001b[1;32mfor\u001b[0m \u001b[0mfunc\u001b[0m\u001b[1;33m,\u001b[0m \u001b[0margs\u001b[0m\u001b[1;33m,\u001b[0m \u001b[0mkwargs\u001b[0m \u001b[1;32min\u001b[0m \u001b[0mself\u001b[0m\u001b[1;33m.\u001b[0m\u001b[0mitems\u001b[0m\u001b[1;33m]\u001b[0m\u001b[1;33m\u001b[0m\u001b[0m\n\u001b[0m\u001b[1;32m     73\u001b[0m \u001b[1;33m\u001b[0m\u001b[0m\n\u001b[1;32m     74\u001b[0m     \u001b[1;32mdef\u001b[0m \u001b[0m__len__\u001b[0m\u001b[1;33m(\u001b[0m\u001b[0mself\u001b[0m\u001b[1;33m)\u001b[0m\u001b[1;33m:\u001b[0m\u001b[1;33m\u001b[0m\u001b[0m\n",
      "\u001b[0;32mC:\\Users\\Lilian Beuneche\\Anaconda3\\lib\\site-packages\\sklearn\\linear_model\\logistic.py\u001b[0m in \u001b[0;36mlogistic_regression_path\u001b[0;34m(X, y, pos_class, Cs, fit_intercept, max_iter, tol, verbose, solver, coef, copy, class_weight, dual, penalty, intercept_scaling, multi_class, random_state, check_input, max_squared_sum, sample_weight)\u001b[0m\n\u001b[1;32m    708\u001b[0m             \u001b[0margs\u001b[0m \u001b[1;33m=\u001b[0m \u001b[1;33m(\u001b[0m\u001b[0mX\u001b[0m\u001b[1;33m,\u001b[0m \u001b[0mtarget\u001b[0m\u001b[1;33m,\u001b[0m \u001b[1;36m1.\u001b[0m \u001b[1;33m/\u001b[0m \u001b[0mC\u001b[0m\u001b[1;33m,\u001b[0m \u001b[0msample_weight\u001b[0m\u001b[1;33m)\u001b[0m\u001b[1;33m\u001b[0m\u001b[0m\n\u001b[1;32m    709\u001b[0m             w0, n_iter_i = newton_cg(hess, func, grad, w0, args=args,\n\u001b[0;32m--> 710\u001b[0;31m                                      maxiter=max_iter, tol=tol)\n\u001b[0m\u001b[1;32m    711\u001b[0m         \u001b[1;32melif\u001b[0m \u001b[0msolver\u001b[0m \u001b[1;33m==\u001b[0m \u001b[1;34m'liblinear'\u001b[0m\u001b[1;33m:\u001b[0m\u001b[1;33m\u001b[0m\u001b[0m\n\u001b[1;32m    712\u001b[0m             coef_, intercept_, n_iter_i, = _fit_liblinear(\n",
      "\u001b[0;32mC:\\Users\\Lilian Beuneche\\Anaconda3\\lib\\site-packages\\sklearn\\utils\\optimize.py\u001b[0m in \u001b[0;36mnewton_cg\u001b[0;34m(grad_hess, func, grad, x0, args, tol, maxiter, maxinner, line_search, warn)\u001b[0m\n\u001b[1;32m    169\u001b[0m         \u001b[1;31m# Compute a search direction pk by applying the CG method to\u001b[0m\u001b[1;33m\u001b[0m\u001b[1;33m\u001b[0m\u001b[0m\n\u001b[1;32m    170\u001b[0m         \u001b[1;31m#  del2 f(xk) p = - fgrad f(xk) starting from 0.\u001b[0m\u001b[1;33m\u001b[0m\u001b[1;33m\u001b[0m\u001b[0m\n\u001b[0;32m--> 171\u001b[0;31m         \u001b[0mfgrad\u001b[0m\u001b[1;33m,\u001b[0m \u001b[0mfhess_p\u001b[0m \u001b[1;33m=\u001b[0m \u001b[0mgrad_hess\u001b[0m\u001b[1;33m(\u001b[0m\u001b[0mxk\u001b[0m\u001b[1;33m,\u001b[0m \u001b[1;33m*\u001b[0m\u001b[0margs\u001b[0m\u001b[1;33m)\u001b[0m\u001b[1;33m\u001b[0m\u001b[0m\n\u001b[0m\u001b[1;32m    172\u001b[0m \u001b[1;33m\u001b[0m\u001b[0m\n\u001b[1;32m    173\u001b[0m         \u001b[0mabsgrad\u001b[0m \u001b[1;33m=\u001b[0m \u001b[0mnp\u001b[0m\u001b[1;33m.\u001b[0m\u001b[0mabs\u001b[0m\u001b[1;33m(\u001b[0m\u001b[0mfgrad\u001b[0m\u001b[1;33m)\u001b[0m\u001b[1;33m\u001b[0m\u001b[0m\n",
      "\u001b[0;32mC:\\Users\\Lilian Beuneche\\Anaconda3\\lib\\site-packages\\sklearn\\linear_model\\logistic.py\u001b[0m in \u001b[0;36m_multinomial_grad_hess\u001b[0;34m(w, X, Y, alpha, sample_weight)\u001b[0m\n\u001b[1;32m    370\u001b[0m     \u001b[1;31m# `loss` is unused. Refactoring to avoid computing it does not\u001b[0m\u001b[1;33m\u001b[0m\u001b[1;33m\u001b[0m\u001b[0m\n\u001b[1;32m    371\u001b[0m     \u001b[1;31m# significantly speed up the computation and decreases readability\u001b[0m\u001b[1;33m\u001b[0m\u001b[1;33m\u001b[0m\u001b[0m\n\u001b[0;32m--> 372\u001b[0;31m     \u001b[0mloss\u001b[0m\u001b[1;33m,\u001b[0m \u001b[0mgrad\u001b[0m\u001b[1;33m,\u001b[0m \u001b[0mp\u001b[0m \u001b[1;33m=\u001b[0m \u001b[0m_multinomial_loss_grad\u001b[0m\u001b[1;33m(\u001b[0m\u001b[0mw\u001b[0m\u001b[1;33m,\u001b[0m \u001b[0mX\u001b[0m\u001b[1;33m,\u001b[0m \u001b[0mY\u001b[0m\u001b[1;33m,\u001b[0m \u001b[0malpha\u001b[0m\u001b[1;33m,\u001b[0m \u001b[0msample_weight\u001b[0m\u001b[1;33m)\u001b[0m\u001b[1;33m\u001b[0m\u001b[0m\n\u001b[0m\u001b[1;32m    373\u001b[0m     \u001b[0msample_weight\u001b[0m \u001b[1;33m=\u001b[0m \u001b[0msample_weight\u001b[0m\u001b[1;33m[\u001b[0m\u001b[1;33m:\u001b[0m\u001b[1;33m,\u001b[0m \u001b[0mnp\u001b[0m\u001b[1;33m.\u001b[0m\u001b[0mnewaxis\u001b[0m\u001b[1;33m]\u001b[0m\u001b[1;33m\u001b[0m\u001b[0m\n\u001b[1;32m    374\u001b[0m \u001b[1;33m\u001b[0m\u001b[0m\n",
      "\u001b[0;32mC:\\Users\\Lilian Beuneche\\Anaconda3\\lib\\site-packages\\sklearn\\linear_model\\logistic.py\u001b[0m in \u001b[0;36m_multinomial_loss_grad\u001b[0;34m(w, X, Y, alpha, sample_weight)\u001b[0m\n\u001b[1;32m    316\u001b[0m     \u001b[0mfit_intercept\u001b[0m \u001b[1;33m=\u001b[0m \u001b[1;33m(\u001b[0m\u001b[0mw\u001b[0m\u001b[1;33m.\u001b[0m\u001b[0msize\u001b[0m \u001b[1;33m==\u001b[0m \u001b[0mn_classes\u001b[0m \u001b[1;33m*\u001b[0m \u001b[1;33m(\u001b[0m\u001b[0mn_features\u001b[0m \u001b[1;33m+\u001b[0m \u001b[1;36m1\u001b[0m\u001b[1;33m)\u001b[0m\u001b[1;33m)\u001b[0m\u001b[1;33m\u001b[0m\u001b[0m\n\u001b[1;32m    317\u001b[0m     \u001b[0mgrad\u001b[0m \u001b[1;33m=\u001b[0m \u001b[0mnp\u001b[0m\u001b[1;33m.\u001b[0m\u001b[0mzeros\u001b[0m\u001b[1;33m(\u001b[0m\u001b[1;33m(\u001b[0m\u001b[0mn_classes\u001b[0m\u001b[1;33m,\u001b[0m \u001b[0mn_features\u001b[0m \u001b[1;33m+\u001b[0m \u001b[0mbool\u001b[0m\u001b[1;33m(\u001b[0m\u001b[0mfit_intercept\u001b[0m\u001b[1;33m)\u001b[0m\u001b[1;33m)\u001b[0m\u001b[1;33m)\u001b[0m\u001b[1;33m\u001b[0m\u001b[0m\n\u001b[0;32m--> 318\u001b[0;31m     \u001b[0mloss\u001b[0m\u001b[1;33m,\u001b[0m \u001b[0mp\u001b[0m\u001b[1;33m,\u001b[0m \u001b[0mw\u001b[0m \u001b[1;33m=\u001b[0m \u001b[0m_multinomial_loss\u001b[0m\u001b[1;33m(\u001b[0m\u001b[0mw\u001b[0m\u001b[1;33m,\u001b[0m \u001b[0mX\u001b[0m\u001b[1;33m,\u001b[0m \u001b[0mY\u001b[0m\u001b[1;33m,\u001b[0m \u001b[0malpha\u001b[0m\u001b[1;33m,\u001b[0m \u001b[0msample_weight\u001b[0m\u001b[1;33m)\u001b[0m\u001b[1;33m\u001b[0m\u001b[0m\n\u001b[0m\u001b[1;32m    319\u001b[0m     \u001b[0msample_weight\u001b[0m \u001b[1;33m=\u001b[0m \u001b[0msample_weight\u001b[0m\u001b[1;33m[\u001b[0m\u001b[1;33m:\u001b[0m\u001b[1;33m,\u001b[0m \u001b[0mnp\u001b[0m\u001b[1;33m.\u001b[0m\u001b[0mnewaxis\u001b[0m\u001b[1;33m]\u001b[0m\u001b[1;33m\u001b[0m\u001b[0m\n\u001b[1;32m    320\u001b[0m     \u001b[0mdiff\u001b[0m \u001b[1;33m=\u001b[0m \u001b[0msample_weight\u001b[0m \u001b[1;33m*\u001b[0m \u001b[1;33m(\u001b[0m\u001b[0mp\u001b[0m \u001b[1;33m-\u001b[0m \u001b[0mY\u001b[0m\u001b[1;33m)\u001b[0m\u001b[1;33m\u001b[0m\u001b[0m\n",
      "\u001b[0;32mC:\\Users\\Lilian Beuneche\\Anaconda3\\lib\\site-packages\\sklearn\\linear_model\\logistic.py\u001b[0m in \u001b[0;36m_multinomial_loss\u001b[0;34m(w, X, Y, alpha, sample_weight)\u001b[0m\n\u001b[1;32m    273\u001b[0m     \u001b[0mp\u001b[0m \u001b[1;33m+=\u001b[0m \u001b[0mintercept\u001b[0m\u001b[1;33m\u001b[0m\u001b[0m\n\u001b[1;32m    274\u001b[0m     \u001b[0mp\u001b[0m \u001b[1;33m-=\u001b[0m \u001b[0mlogsumexp\u001b[0m\u001b[1;33m(\u001b[0m\u001b[0mp\u001b[0m\u001b[1;33m,\u001b[0m \u001b[0maxis\u001b[0m\u001b[1;33m=\u001b[0m\u001b[1;36m1\u001b[0m\u001b[1;33m)\u001b[0m\u001b[1;33m[\u001b[0m\u001b[1;33m:\u001b[0m\u001b[1;33m,\u001b[0m \u001b[0mnp\u001b[0m\u001b[1;33m.\u001b[0m\u001b[0mnewaxis\u001b[0m\u001b[1;33m]\u001b[0m\u001b[1;33m\u001b[0m\u001b[0m\n\u001b[0;32m--> 275\u001b[0;31m     \u001b[0mloss\u001b[0m \u001b[1;33m=\u001b[0m \u001b[1;33m-\u001b[0m\u001b[1;33m(\u001b[0m\u001b[0msample_weight\u001b[0m \u001b[1;33m*\u001b[0m \u001b[0mY\u001b[0m \u001b[1;33m*\u001b[0m \u001b[0mp\u001b[0m\u001b[1;33m)\u001b[0m\u001b[1;33m.\u001b[0m\u001b[0msum\u001b[0m\u001b[1;33m(\u001b[0m\u001b[1;33m)\u001b[0m\u001b[1;33m\u001b[0m\u001b[0m\n\u001b[0m\u001b[1;32m    276\u001b[0m     \u001b[0mloss\u001b[0m \u001b[1;33m+=\u001b[0m \u001b[1;36m0.5\u001b[0m \u001b[1;33m*\u001b[0m \u001b[0malpha\u001b[0m \u001b[1;33m*\u001b[0m \u001b[0msquared_norm\u001b[0m\u001b[1;33m(\u001b[0m\u001b[0mw\u001b[0m\u001b[1;33m)\u001b[0m\u001b[1;33m\u001b[0m\u001b[0m\n\u001b[1;32m    277\u001b[0m     \u001b[0mp\u001b[0m \u001b[1;33m=\u001b[0m \u001b[0mnp\u001b[0m\u001b[1;33m.\u001b[0m\u001b[0mexp\u001b[0m\u001b[1;33m(\u001b[0m\u001b[0mp\u001b[0m\u001b[1;33m,\u001b[0m \u001b[0mp\u001b[0m\u001b[1;33m)\u001b[0m\u001b[1;33m\u001b[0m\u001b[0m\n",
      "\u001b[0;31mKeyboardInterrupt\u001b[0m: "
     ]
    }
   ],
   "source": [
    "RegMulti=linear_model.LogisticRegression(multi_class='multinomial',solver ='newton-cg').fit(X_Panda,y_Panda)\n",
    "print(RegMulti)"
   ]
  },
  {
   "cell_type": "markdown",
   "metadata": {},
   "source": [
    "## Régression logistique"
   ]
  },
  {
   "cell_type": "code",
   "execution_count": 16,
   "metadata": {
    "collapsed": false
   },
   "outputs": [
    {
     "ename": "ImportError",
     "evalue": "No module named 'sklearn.model_selection'",
     "output_type": "error",
     "traceback": [
      "\u001b[0;31m---------------------------------------------------------------------------\u001b[0m",
      "\u001b[0;31mImportError\u001b[0m                               Traceback (most recent call last)",
      "\u001b[0;32m<ipython-input-16-34083d3b5c22>\u001b[0m in \u001b[0;36m<module>\u001b[0;34m()\u001b[0m\n\u001b[1;32m      1\u001b[0m \u001b[1;32mfrom\u001b[0m \u001b[0msklearn\u001b[0m \u001b[1;32mimport\u001b[0m \u001b[0mdatasets\u001b[0m\u001b[1;33m\u001b[0m\u001b[0m\n\u001b[1;32m      2\u001b[0m \u001b[1;32mfrom\u001b[0m \u001b[0msklearn\u001b[0m\u001b[1;33m.\u001b[0m\u001b[0mlinear_model\u001b[0m \u001b[1;32mimport\u001b[0m \u001b[0mLogisticRegression\u001b[0m\u001b[1;33m\u001b[0m\u001b[0m\n\u001b[0;32m----> 3\u001b[0;31m \u001b[1;32mfrom\u001b[0m \u001b[0msklearn\u001b[0m\u001b[1;33m.\u001b[0m\u001b[0mmodel_selection\u001b[0m \u001b[1;32mimport\u001b[0m \u001b[0mtrain_test_split\u001b[0m\u001b[1;33m\u001b[0m\u001b[0m\n\u001b[0m\u001b[1;32m      4\u001b[0m \u001b[1;32mfrom\u001b[0m \u001b[0msklearn\u001b[0m\u001b[1;33m.\u001b[0m\u001b[0mmodel_selection\u001b[0m \u001b[1;32mimport\u001b[0m \u001b[0mGridSearchCV\u001b[0m\u001b[1;33m\u001b[0m\u001b[0m\n",
      "\u001b[0;31mImportError\u001b[0m: No module named 'sklearn.model_selection'"
     ]
    }
   ],
   "source": [
    "from sklearn import datasets\n",
    "from sklearn.linear_model import LogisticRegression\n",
    "from sklearn.model_selection import train_test_split\n",
    "from sklearn.model_selection import GridSearchCV"
   ]
  },
  {
   "cell_type": "code",
   "execution_count": 65,
   "metadata": {
    "collapsed": false
   },
   "outputs": [
    {
     "ename": "NameError",
     "evalue": "name 'GridSearchCV' is not defined",
     "output_type": "error",
     "traceback": [
      "\u001b[0;31m---------------------------------------------------------------------------\u001b[0m",
      "\u001b[0;31mNameError\u001b[0m                                 Traceback (most recent call last)",
      "\u001b[0;32m<ipython-input-65-8168658e7623>\u001b[0m in \u001b[0;36m<module>\u001b[0;34m()\u001b[0m\n\u001b[1;32m      1\u001b[0m \u001b[0mparam\u001b[0m\u001b[1;33m=\u001b[0m\u001b[1;33m[\u001b[0m\u001b[1;33m{\u001b[0m\u001b[1;34m\"C\"\u001b[0m\u001b[1;33m:\u001b[0m\u001b[1;33m[\u001b[0m\u001b[1;36m1\u001b[0m\u001b[1;33m,\u001b[0m\u001b[1;36m1.2\u001b[0m\u001b[1;33m,\u001b[0m\u001b[1;36m1.5\u001b[0m\u001b[1;33m,\u001b[0m\u001b[1;36m1.7\u001b[0m\u001b[1;33m,\u001b[0m\u001b[1;36m2\u001b[0m\u001b[1;33m,\u001b[0m\u001b[1;36m3\u001b[0m\u001b[1;33m,\u001b[0m\u001b[1;36m4\u001b[0m\u001b[1;33m]\u001b[0m\u001b[1;33m}\u001b[0m\u001b[1;33m]\u001b[0m\u001b[1;33m\u001b[0m\u001b[0m\n\u001b[0;32m----> 2\u001b[0;31m \u001b[0mlogit\u001b[0m \u001b[1;33m=\u001b[0m \u001b[0mGridSearchCV\u001b[0m\u001b[1;33m(\u001b[0m\u001b[0mLogisticRegression\u001b[0m\u001b[1;33m(\u001b[0m\u001b[0mpenalty\u001b[0m\u001b[1;33m=\u001b[0m\u001b[1;34m\"l1\"\u001b[0m\u001b[1;33m)\u001b[0m\u001b[1;33m,\u001b[0m \u001b[0mparam\u001b[0m\u001b[1;33m,\u001b[0m\u001b[0mcv\u001b[0m\u001b[1;33m=\u001b[0m\u001b[1;36m5\u001b[0m\u001b[1;33m,\u001b[0m\u001b[0mn_jobs\u001b[0m\u001b[1;33m=\u001b[0m\u001b[1;33m-\u001b[0m\u001b[1;36m1\u001b[0m\u001b[1;33m)\u001b[0m\u001b[1;33m\u001b[0m\u001b[0m\n\u001b[0m\u001b[1;32m      3\u001b[0m \u001b[0mlogitOpt\u001b[0m\u001b[1;33m=\u001b[0m\u001b[0mlogit\u001b[0m\u001b[1;33m.\u001b[0m\u001b[0mfit\u001b[0m\u001b[1;33m(\u001b[0m\u001b[0mX_Panda\u001b[0m\u001b[1;33m,\u001b[0m \u001b[0my_Quali_Panda\u001b[0m\u001b[1;33m)\u001b[0m\u001b[1;33m\u001b[0m\u001b[0m\n\u001b[1;32m      4\u001b[0m \u001b[1;33m\u001b[0m\u001b[0m\n\u001b[1;32m      5\u001b[0m \u001b[0mlogitOpt\u001b[0m\u001b[1;33m.\u001b[0m\u001b[0mbest_params_\u001b[0m\u001b[1;33m[\u001b[0m\u001b[1;34m\"C\"\u001b[0m\u001b[1;33m]\u001b[0m\u001b[1;33m\u001b[0m\u001b[0m\n",
      "\u001b[0;31mNameError\u001b[0m: name 'GridSearchCV' is not defined"
     ]
    }
   ],
   "source": [
    "param=[{\"C\":[1,1.2,1.5,1.7,2,3,4]}]\n",
    "logit = GridSearchCV(LogisticRegression(penalty=\"l1\"), param,cv=5,n_jobs=-1)\n",
    "logitOpt=logit.fit(X_Panda, y_Quali_Panda)\n",
    "\n",
    "logitOpt.best_params_[\"C\"]\n",
    "print(\"Meilleur score = %f, Meilleur paramètre = %s\" % (1.-logitOpt.best_score_,logitOpt.best_params_))"
   ]
  },
  {
   "cell_type": "code",
   "execution_count": null,
   "metadata": {
    "collapsed": true
   },
   "outputs": [],
   "source": []
  },
  {
   "cell_type": "markdown",
   "metadata": {},
   "source": [
    "## Analyse Factorielle Discriminante"
   ]
  },
  {
   "cell_type": "code",
   "execution_count": 19,
   "metadata": {
    "collapsed": false
   },
   "outputs": [
    {
     "ename": "ImportError",
     "evalue": "cannot import name '_Sequence'",
     "output_type": "error",
     "traceback": [
      "\u001b[0;31m---------------------------------------------------------------------------\u001b[0m",
      "\u001b[0;31mImportError\u001b[0m                               Traceback (most recent call last)",
      "\u001b[0;32m<ipython-input-19-db4ba3da8e3f>\u001b[0m in \u001b[0;36m<module>\u001b[0;34m()\u001b[0m\n\u001b[0;32m----> 1\u001b[0;31m \u001b[1;32mimport\u001b[0m \u001b[0msklearn\u001b[0m\u001b[1;33m.\u001b[0m\u001b[0mdiscriminant_analysis\u001b[0m\u001b[1;33m\u001b[0m\u001b[0m\n\u001b[0m",
      "\u001b[0;32mC:\\Users\\Lilian Beuneche\\Anaconda3\\lib\\site-packages\\sklearn\\discriminant_analysis.py\u001b[0m in \u001b[0;36m<module>\u001b[0;34m()\u001b[0m\n\u001b[1;32m     20\u001b[0m \u001b[1;32mfrom\u001b[0m \u001b[1;33m.\u001b[0m\u001b[0mbase\u001b[0m \u001b[1;32mimport\u001b[0m \u001b[0mBaseEstimator\u001b[0m\u001b[1;33m,\u001b[0m \u001b[0mTransformerMixin\u001b[0m\u001b[1;33m,\u001b[0m \u001b[0mClassifierMixin\u001b[0m\u001b[1;33m\u001b[0m\u001b[0m\n\u001b[1;32m     21\u001b[0m \u001b[1;32mfrom\u001b[0m \u001b[1;33m.\u001b[0m\u001b[0mlinear_model\u001b[0m\u001b[1;33m.\u001b[0m\u001b[0mbase\u001b[0m \u001b[1;32mimport\u001b[0m \u001b[0mLinearClassifierMixin\u001b[0m\u001b[1;33m\u001b[0m\u001b[0m\n\u001b[0;32m---> 22\u001b[0;31m \u001b[1;32mfrom\u001b[0m \u001b[1;33m.\u001b[0m\u001b[0mcovariance\u001b[0m \u001b[1;32mimport\u001b[0m \u001b[0mledoit_wolf\u001b[0m\u001b[1;33m,\u001b[0m \u001b[0mempirical_covariance\u001b[0m\u001b[1;33m,\u001b[0m \u001b[0mshrunk_covariance\u001b[0m\u001b[1;33m\u001b[0m\u001b[0m\n\u001b[0m\u001b[1;32m     23\u001b[0m \u001b[1;32mfrom\u001b[0m \u001b[1;33m.\u001b[0m\u001b[0mutils\u001b[0m\u001b[1;33m.\u001b[0m\u001b[0mmulticlass\u001b[0m \u001b[1;32mimport\u001b[0m \u001b[0munique_labels\u001b[0m\u001b[1;33m\u001b[0m\u001b[0m\n\u001b[1;32m     24\u001b[0m \u001b[1;32mfrom\u001b[0m \u001b[1;33m.\u001b[0m\u001b[0mutils\u001b[0m \u001b[1;32mimport\u001b[0m \u001b[0mcheck_array\u001b[0m\u001b[1;33m,\u001b[0m \u001b[0mcheck_X_y\u001b[0m\u001b[1;33m\u001b[0m\u001b[0m\n",
      "\u001b[0;32mC:\\Users\\Lilian Beuneche\\Anaconda3\\lib\\site-packages\\sklearn\\covariance\\__init__.py\u001b[0m in \u001b[0;36m<module>\u001b[0;34m()\u001b[0m\n\u001b[1;32m     13\u001b[0m     \u001b[0mLedoitWolf\u001b[0m\u001b[1;33m,\u001b[0m \u001b[0moas\u001b[0m\u001b[1;33m,\u001b[0m \u001b[0mOAS\u001b[0m\u001b[1;33m\u001b[0m\u001b[0m\n\u001b[1;32m     14\u001b[0m \u001b[1;32mfrom\u001b[0m \u001b[1;33m.\u001b[0m\u001b[0mrobust_covariance\u001b[0m \u001b[1;32mimport\u001b[0m \u001b[0mfast_mcd\u001b[0m\u001b[1;33m,\u001b[0m \u001b[0mMinCovDet\u001b[0m\u001b[1;33m\u001b[0m\u001b[0m\n\u001b[0;32m---> 15\u001b[0;31m \u001b[1;32mfrom\u001b[0m \u001b[1;33m.\u001b[0m\u001b[0mgraph_lasso_\u001b[0m \u001b[1;32mimport\u001b[0m \u001b[0mgraph_lasso\u001b[0m\u001b[1;33m,\u001b[0m \u001b[0mGraphLasso\u001b[0m\u001b[1;33m,\u001b[0m \u001b[0mGraphLassoCV\u001b[0m\u001b[1;33m,\u001b[0m\u001b[0;31m\\\u001b[0m\u001b[1;33m\u001b[0m\u001b[0m\n\u001b[0m\u001b[1;32m     16\u001b[0m     \u001b[0mgraphical_lasso\u001b[0m\u001b[1;33m,\u001b[0m \u001b[0mGraphicalLasso\u001b[0m\u001b[1;33m,\u001b[0m \u001b[0mGraphicalLassoCV\u001b[0m\u001b[1;33m\u001b[0m\u001b[0m\n\u001b[1;32m     17\u001b[0m \u001b[1;32mfrom\u001b[0m \u001b[1;33m.\u001b[0m\u001b[0melliptic_envelope\u001b[0m \u001b[1;32mimport\u001b[0m \u001b[0mEllipticEnvelope\u001b[0m\u001b[1;33m\u001b[0m\u001b[0m\n",
      "\u001b[0;32mC:\\Users\\Lilian Beuneche\\Anaconda3\\lib\\site-packages\\sklearn\\covariance\\graph_lasso_.py\u001b[0m in \u001b[0;36m<module>\u001b[0;34m()\u001b[0m\n\u001b[1;32m     20\u001b[0m \u001b[1;32mfrom\u001b[0m \u001b[1;33m.\u001b[0m\u001b[1;33m.\u001b[0m\u001b[0mutils\u001b[0m\u001b[1;33m.\u001b[0m\u001b[0mvalidation\u001b[0m \u001b[1;32mimport\u001b[0m \u001b[0mcheck_random_state\u001b[0m\u001b[1;33m,\u001b[0m \u001b[0mcheck_array\u001b[0m\u001b[1;33m\u001b[0m\u001b[0m\n\u001b[1;32m     21\u001b[0m \u001b[1;32mfrom\u001b[0m \u001b[1;33m.\u001b[0m\u001b[1;33m.\u001b[0m\u001b[0mutils\u001b[0m \u001b[1;32mimport\u001b[0m \u001b[0mdeprecated\u001b[0m\u001b[1;33m\u001b[0m\u001b[0m\n\u001b[0;32m---> 22\u001b[0;31m \u001b[1;32mfrom\u001b[0m \u001b[1;33m.\u001b[0m\u001b[1;33m.\u001b[0m\u001b[0mutils\u001b[0m\u001b[1;33m.\u001b[0m\u001b[0mfixes\u001b[0m \u001b[1;32mimport\u001b[0m \u001b[0m_Sequence\u001b[0m \u001b[1;32mas\u001b[0m \u001b[0mSequence\u001b[0m\u001b[1;33m\u001b[0m\u001b[0m\n\u001b[0m\u001b[1;32m     23\u001b[0m \u001b[1;32mfrom\u001b[0m \u001b[1;33m.\u001b[0m\u001b[1;33m.\u001b[0m\u001b[0mlinear_model\u001b[0m \u001b[1;32mimport\u001b[0m \u001b[0mlars_path\u001b[0m\u001b[1;33m\u001b[0m\u001b[0m\n\u001b[1;32m     24\u001b[0m \u001b[1;32mfrom\u001b[0m \u001b[1;33m.\u001b[0m\u001b[1;33m.\u001b[0m\u001b[0mlinear_model\u001b[0m \u001b[1;32mimport\u001b[0m \u001b[0mcd_fast\u001b[0m\u001b[1;33m\u001b[0m\u001b[0m\n",
      "\u001b[0;31mImportError\u001b[0m: cannot import name '_Sequence'"
     ]
    }
   ],
   "source": [
    "from sklearn.discriminant_analysis import discriminant_analysis"
   ]
  },
  {
   "cell_type": "code",
   "execution_count": 17,
   "metadata": {
    "collapsed": false
   },
   "outputs": [
    {
     "ename": "ImportError",
     "evalue": "cannot import name '_Sequence'",
     "output_type": "error",
     "traceback": [
      "\u001b[0;31m---------------------------------------------------------------------------\u001b[0m",
      "\u001b[0;31mImportError\u001b[0m                               Traceback (most recent call last)",
      "\u001b[0;32m<ipython-input-17-558af2d8a12b>\u001b[0m in \u001b[0;36m<module>\u001b[0;34m()\u001b[0m\n\u001b[0;32m----> 1\u001b[0;31m \u001b[1;32mfrom\u001b[0m \u001b[0msklearn\u001b[0m\u001b[1;33m.\u001b[0m\u001b[0mdiscriminant_analysis\u001b[0m \u001b[1;32mimport\u001b[0m \u001b[0mLinearDiscriminantAnalysis\u001b[0m\u001b[1;33m\u001b[0m\u001b[0m\n\u001b[0m\u001b[1;32m      2\u001b[0m \u001b[0mmethod\u001b[0m \u001b[1;33m=\u001b[0m \u001b[0mLinearDiscriminantAnalysis\u001b[0m\u001b[1;33m(\u001b[0m\u001b[1;33m)\u001b[0m\u001b[1;33m\u001b[0m\u001b[0m\n\u001b[1;32m      3\u001b[0m \u001b[0mlda\u001b[0m\u001b[1;33m=\u001b[0m\u001b[0mmethod\u001b[0m\u001b[1;33m.\u001b[0m\u001b[0mfit\u001b[0m\u001b[1;33m(\u001b[0m\u001b[0mX_Panda\u001b[0m\u001b[1;33m,\u001b[0m\u001b[0my_Quali_Panda\u001b[0m\u001b[1;33m)\u001b[0m\u001b[1;33m\u001b[0m\u001b[0m\n\u001b[1;32m      4\u001b[0m \u001b[0mX_r2\u001b[0m\u001b[1;33m=\u001b[0m\u001b[0mlda\u001b[0m\u001b[1;33m.\u001b[0m\u001b[0mtransform\u001b[0m\u001b[1;33m(\u001b[0m\u001b[0mX_Panda\u001b[0m\u001b[1;33m)\u001b[0m\u001b[1;33m\u001b[0m\u001b[0m\n",
      "\u001b[0;32mC:\\Users\\Lilian Beuneche\\Anaconda3\\lib\\site-packages\\sklearn\\discriminant_analysis.py\u001b[0m in \u001b[0;36m<module>\u001b[0;34m()\u001b[0m\n\u001b[1;32m     20\u001b[0m \u001b[1;32mfrom\u001b[0m \u001b[1;33m.\u001b[0m\u001b[0mbase\u001b[0m \u001b[1;32mimport\u001b[0m \u001b[0mBaseEstimator\u001b[0m\u001b[1;33m,\u001b[0m \u001b[0mTransformerMixin\u001b[0m\u001b[1;33m,\u001b[0m \u001b[0mClassifierMixin\u001b[0m\u001b[1;33m\u001b[0m\u001b[0m\n\u001b[1;32m     21\u001b[0m \u001b[1;32mfrom\u001b[0m \u001b[1;33m.\u001b[0m\u001b[0mlinear_model\u001b[0m\u001b[1;33m.\u001b[0m\u001b[0mbase\u001b[0m \u001b[1;32mimport\u001b[0m \u001b[0mLinearClassifierMixin\u001b[0m\u001b[1;33m\u001b[0m\u001b[0m\n\u001b[0;32m---> 22\u001b[0;31m \u001b[1;32mfrom\u001b[0m \u001b[1;33m.\u001b[0m\u001b[0mcovariance\u001b[0m \u001b[1;32mimport\u001b[0m \u001b[0mledoit_wolf\u001b[0m\u001b[1;33m,\u001b[0m \u001b[0mempirical_covariance\u001b[0m\u001b[1;33m,\u001b[0m \u001b[0mshrunk_covariance\u001b[0m\u001b[1;33m\u001b[0m\u001b[0m\n\u001b[0m\u001b[1;32m     23\u001b[0m \u001b[1;32mfrom\u001b[0m \u001b[1;33m.\u001b[0m\u001b[0mutils\u001b[0m\u001b[1;33m.\u001b[0m\u001b[0mmulticlass\u001b[0m \u001b[1;32mimport\u001b[0m \u001b[0munique_labels\u001b[0m\u001b[1;33m\u001b[0m\u001b[0m\n\u001b[1;32m     24\u001b[0m \u001b[1;32mfrom\u001b[0m \u001b[1;33m.\u001b[0m\u001b[0mutils\u001b[0m \u001b[1;32mimport\u001b[0m \u001b[0mcheck_array\u001b[0m\u001b[1;33m,\u001b[0m \u001b[0mcheck_X_y\u001b[0m\u001b[1;33m\u001b[0m\u001b[0m\n",
      "\u001b[0;32mC:\\Users\\Lilian Beuneche\\Anaconda3\\lib\\site-packages\\sklearn\\covariance\\__init__.py\u001b[0m in \u001b[0;36m<module>\u001b[0;34m()\u001b[0m\n\u001b[1;32m     13\u001b[0m     \u001b[0mLedoitWolf\u001b[0m\u001b[1;33m,\u001b[0m \u001b[0moas\u001b[0m\u001b[1;33m,\u001b[0m \u001b[0mOAS\u001b[0m\u001b[1;33m\u001b[0m\u001b[0m\n\u001b[1;32m     14\u001b[0m \u001b[1;32mfrom\u001b[0m \u001b[1;33m.\u001b[0m\u001b[0mrobust_covariance\u001b[0m \u001b[1;32mimport\u001b[0m \u001b[0mfast_mcd\u001b[0m\u001b[1;33m,\u001b[0m \u001b[0mMinCovDet\u001b[0m\u001b[1;33m\u001b[0m\u001b[0m\n\u001b[0;32m---> 15\u001b[0;31m \u001b[1;32mfrom\u001b[0m \u001b[1;33m.\u001b[0m\u001b[0mgraph_lasso_\u001b[0m \u001b[1;32mimport\u001b[0m \u001b[0mgraph_lasso\u001b[0m\u001b[1;33m,\u001b[0m \u001b[0mGraphLasso\u001b[0m\u001b[1;33m,\u001b[0m \u001b[0mGraphLassoCV\u001b[0m\u001b[1;33m,\u001b[0m\u001b[0;31m\\\u001b[0m\u001b[1;33m\u001b[0m\u001b[0m\n\u001b[0m\u001b[1;32m     16\u001b[0m     \u001b[0mgraphical_lasso\u001b[0m\u001b[1;33m,\u001b[0m \u001b[0mGraphicalLasso\u001b[0m\u001b[1;33m,\u001b[0m \u001b[0mGraphicalLassoCV\u001b[0m\u001b[1;33m\u001b[0m\u001b[0m\n\u001b[1;32m     17\u001b[0m \u001b[1;32mfrom\u001b[0m \u001b[1;33m.\u001b[0m\u001b[0melliptic_envelope\u001b[0m \u001b[1;32mimport\u001b[0m \u001b[0mEllipticEnvelope\u001b[0m\u001b[1;33m\u001b[0m\u001b[0m\n",
      "\u001b[0;32mC:\\Users\\Lilian Beuneche\\Anaconda3\\lib\\site-packages\\sklearn\\covariance\\graph_lasso_.py\u001b[0m in \u001b[0;36m<module>\u001b[0;34m()\u001b[0m\n\u001b[1;32m     20\u001b[0m \u001b[1;32mfrom\u001b[0m \u001b[1;33m.\u001b[0m\u001b[1;33m.\u001b[0m\u001b[0mutils\u001b[0m\u001b[1;33m.\u001b[0m\u001b[0mvalidation\u001b[0m \u001b[1;32mimport\u001b[0m \u001b[0mcheck_random_state\u001b[0m\u001b[1;33m,\u001b[0m \u001b[0mcheck_array\u001b[0m\u001b[1;33m\u001b[0m\u001b[0m\n\u001b[1;32m     21\u001b[0m \u001b[1;32mfrom\u001b[0m \u001b[1;33m.\u001b[0m\u001b[1;33m.\u001b[0m\u001b[0mutils\u001b[0m \u001b[1;32mimport\u001b[0m \u001b[0mdeprecated\u001b[0m\u001b[1;33m\u001b[0m\u001b[0m\n\u001b[0;32m---> 22\u001b[0;31m \u001b[1;32mfrom\u001b[0m \u001b[1;33m.\u001b[0m\u001b[1;33m.\u001b[0m\u001b[0mutils\u001b[0m\u001b[1;33m.\u001b[0m\u001b[0mfixes\u001b[0m \u001b[1;32mimport\u001b[0m \u001b[0m_Sequence\u001b[0m \u001b[1;32mas\u001b[0m \u001b[0mSequence\u001b[0m\u001b[1;33m\u001b[0m\u001b[0m\n\u001b[0m\u001b[1;32m     23\u001b[0m \u001b[1;32mfrom\u001b[0m \u001b[1;33m.\u001b[0m\u001b[1;33m.\u001b[0m\u001b[0mlinear_model\u001b[0m \u001b[1;32mimport\u001b[0m \u001b[0mlars_path\u001b[0m\u001b[1;33m\u001b[0m\u001b[0m\n\u001b[1;32m     24\u001b[0m \u001b[1;32mfrom\u001b[0m \u001b[1;33m.\u001b[0m\u001b[1;33m.\u001b[0m\u001b[0mlinear_model\u001b[0m \u001b[1;32mimport\u001b[0m \u001b[0mcd_fast\u001b[0m\u001b[1;33m\u001b[0m\u001b[0m\n",
      "\u001b[0;31mImportError\u001b[0m: cannot import name '_Sequence'"
     ]
    }
   ],
   "source": [
    "from sklearn.discriminant_analysis import LinearDiscriminantAnalysis\n",
    "method = LinearDiscriminantAnalysis() \n",
    "lda=method.fit(X_Panda,y_Quali_Panda)\n",
    "X_r2=lda.transform(X_Panda)"
   ]
  },
  {
   "cell_type": "code",
   "execution_count": null,
   "metadata": {
    "collapsed": true
   },
   "outputs": [],
   "source": []
  },
  {
   "cell_type": "code",
   "execution_count": null,
   "metadata": {
    "collapsed": true
   },
   "outputs": [],
   "source": []
  },
  {
   "cell_type": "markdown",
   "metadata": {},
   "source": [
    "## Modèle linéaire avec Lasso"
   ]
  },
  {
   "cell_type": "code",
   "execution_count": 60,
   "metadata": {
    "collapsed": false
   },
   "outputs": [
    {
     "name": "stderr",
     "output_type": "stream",
     "text": [
      "C:\\Users\\Lilian Beuneche\\Anaconda3\\lib\\site-packages\\sklearn\\linear_model\\coordinate_descent.py:466: ConvergenceWarning: Objective did not converge. You might want to increase the number of iterations\n",
      "  ConvergenceWarning)\n"
     ]
    }
   ],
   "source": [
    "RegLasso=linear_model.Lasso().fit(X_Panda, y_Panda)"
   ]
  },
  {
   "cell_type": "code",
   "execution_count": 40,
   "metadata": {
    "collapsed": false
   },
   "outputs": [],
   "source": [
    "coefs_lasso=RegLasso.coef_"
   ]
  },
  {
   "cell_type": "code",
   "execution_count": 41,
   "metadata": {
    "collapsed": false
   },
   "outputs": [
    {
     "name": "stderr",
     "output_type": "stream",
     "text": [
      "C:\\Users\\Lilian Beuneche\\Anaconda3\\lib\\site-packages\\sklearn\\linear_model\\coordinate_descent.py:466: ConvergenceWarning: Objective did not converge. You might want to increase the number of iterations\n",
      "  ConvergenceWarning)\n"
     ]
    }
   ],
   "source": [
    "my_alphas = np.array([0.001,0.01,0.02,0.025,0.05,0.1,0.25,0.5,0.8,1.0])\n",
    "alpha_for_path, coefs_lasso, _ = linear_model.lasso_path(X_Panda,y_Panda,alphas=my_alphas)"
   ]
  },
  {
   "cell_type": "code",
   "execution_count": 42,
   "metadata": {
    "collapsed": false
   },
   "outputs": [
    {
     "data": {
      "image/png": "[encoded data removed]",
      "text/plain": [
       "<matplotlib.figure.Figure at 0x1978e9d0828>"
      ]
     },
     "metadata": {},
     "output_type": "display_data"
    }
   ],
   "source": [
    "couleurs=cm.rainbow(np.linspace(0,1, 280))\n",
    "for i in range(coefs_lasso.shape[0]):\n",
    "    plt.plot(alpha_for_path, coefs_lasso[i, :], c=couleurs[i])\n",
    "    \n",
    "plt.xlabel('Alpha')\n",
    "plt.ylabel('Coefficients')\n",
    "plt.title('Regularization paths of the Lasso')\n",
    "plt.show()"
   ]
  },
  {
   "cell_type": "code",
   "execution_count": 43,
   "metadata": {
    "collapsed": false
   },
   "outputs": [
    {
     "name": "stderr",
     "output_type": "stream",
     "text": [
      "C:\\Users\\Lilian Beuneche\\Anaconda3\\lib\\site-packages\\sklearn\\linear_model\\coordinate_descent.py:466: ConvergenceWarning: Objective did not converge. You might want to increase the number of iterations\n",
      "  ConvergenceWarning)\n"
     ]
    },
    {
     "data": {
      "image/png": "[encoded data removed]",
      "text/plain": [
       "<matplotlib.figure.Figure at 0x197c7d94080>"
      ]
     },
     "metadata": {},
     "output_type": "display_data"
    }
   ],
   "source": [
    "my_alphas = np.array([0.0001,0.001,0.002,0.0025,0.005,0.01,0.025,0.05,0.08,0.1])\n",
    "alpha_for_path, coefs_lasso, _ = linear_model.lasso_path(X_Panda,y_Panda,alphas=my_alphas)\n",
    "couleurs=cm.rainbow(np.linspace(0,1, 280))\n",
    "for i in range(coefs_lasso.shape[0]):\n",
    "    plt.plot(alpha_for_path, coefs_lasso[i, :], c=couleurs[i])\n",
    "    \n",
    "plt.xlabel('Alpha')\n",
    "plt.ylabel('Coefficients')\n",
    "plt.title('Regularization paths of the Lasso')\n",
    "plt.show()"
   ]
  },
  {
   "cell_type": "code",
   "execution_count": null,
   "metadata": {
    "collapsed": true
   },
   "outputs": [],
   "source": [
    "from pyvttbl import DataFrame\n",
    " \n",
    "aov_pyvttbl = df.anova1way('weight', 'group')\n",
    "print aov_pyvttbl"
   ]
  }
 ],
 "metadata": {
  "anaconda-cloud": {},
  "kernelspec": {
   "display_name": "Python [default]",
   "language": "python",
   "name": "python3"
  },
  "language_info": {
   "codemirror_mode": {
    "name": "ipython",
    "version": 3
   },
   "file_extension": ".py",
   "mimetype": "text/x-python",
   "name": "python",
   "nbconvert_exporter": "python",
   "pygments_lexer": "ipython3",
   "version": "3.5.2"
  }
 },
 "nbformat": 4,
 "nbformat_minor": 1
}
